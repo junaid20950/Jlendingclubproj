{
 "cells": [
  {
   "cell_type": "code",
   "execution_count": 1,
   "id": "b32b6589",
   "metadata": {},
   "outputs": [],
   "source": [
    "from pyspark.sql import SparkSession\n",
    "import getpass\n",
    "username = getpass.getuser()\n",
    "spark = SparkSession. \\\n",
    "builder. \\\n",
    "config('spark.ui.port', '0'). \\\n",
    "config('spark.shuffle.useOldFetchProtocol', 'true'). \\\n",
    "config(\"spark.sql.warehouse.dir\", f\"/user/itv005857/warehouse\"). \\\n",
    "enableHiveSupport(). \\\n",
    "master('yarn'). \\\n",
    "getOrCreate()"
   ]
  },
  {
   "cell_type": "code",
   "execution_count": 2,
   "id": "025cd77d",
   "metadata": {},
   "outputs": [],
   "source": [
    "customers_schema = 'member_id string, emp_title string, emp_length string, home_ownership string, annual_inc float, addr_state string, zip_code string, country string, garde string, sub_grade string, verification_status string, tot_hi_cred_lim float, application_type string, annual_inc_joint float, verification_status_joint string'"
   ]
  },
  {
   "cell_type": "code",
   "execution_count": 49,
   "id": "91b2addf",
   "metadata": {},
   "outputs": [],
   "source": [
    "customers_raw_df = spark.read \\\n",
    ".format(\"csv\") \\\n",
    ".option(\"header\", True) \\\n",
    ".schema(customers_schema) \\\n",
    ".load(\"/user/itv010110/lendingclubprojectJ/raw/customers_data_csv\")"
   ]
  },
  {
   "cell_type": "code",
   "execution_count": 50,
   "id": "f700a16f",
   "metadata": {},
   "outputs": [
    {
     "data": {
      "text/html": [
       "<table border='1'>\n",
       "<tr><th>member_id</th><th>emp_title</th><th>emp_length</th><th>home_ownership</th><th>annual_inc</th><th>addr_state</th><th>zip_code</th><th>country</th><th>garde</th><th>sub_grade</th><th>verification_status</th><th>tot_hi_cred_lim</th><th>application_type</th><th>annual_inc_joint</th><th>verification_status_joint</th></tr>\n",
       "<tr><td>961ae110ec063761f...</td><td>Crothall Services...</td><td>3 years</td><td>RENT</td><td>28685.0</td><td>NY</td><td>104xx</td><td>USA</td><td>C</td><td>C1</td><td>Not Verified</td><td>null</td><td>Individual</td><td>null</td><td>null</td></tr>\n",
       "<tr><td>291854d244748c911...</td><td>PharMerica</td><td>1 year</td><td>RENT</td><td>111000.0</td><td>TX</td><td>757xx</td><td>USA</td><td>B</td><td>B3</td><td>Not Verified</td><td>null</td><td>Individual</td><td>null</td><td>null</td></tr>\n",
       "<tr><td>b5cf66b90193da9d2...</td><td>Robert Half Inter...</td><td>3 years</td><td>RENT</td><td>38000.0</td><td>CA</td><td>956xx</td><td>USA</td><td>A</td><td>A5</td><td>Not Verified</td><td>null</td><td>Individual</td><td>null</td><td>null</td></tr>\n",
       "<tr><td>7f53fd1acb7759e5b...</td><td>walmart</td><td>2 years</td><td>RENT</td><td>17000.0</td><td>NY</td><td>130xx</td><td>USA</td><td>D</td><td>D1</td><td>Not Verified</td><td>null</td><td>Individual</td><td>null</td><td>null</td></tr>\n",
       "<tr><td>12edc8e328b993914...</td><td>Delloite</td><td>10+ years</td><td>MORTGAGE</td><td>500000.0</td><td>GA</td><td>300xx</td><td>USA</td><td>C</td><td>C4</td><td>Not Verified</td><td>null</td><td>Individual</td><td>null</td><td>null</td></tr>\n",
       "<tr><td>e18a847f091332ff6...</td><td>Hightower Investm...</td><td>3 years</td><td>OWN</td><td>65000.0</td><td>NY</td><td>100xx</td><td>USA</td><td>B</td><td>B5</td><td>Not Verified</td><td>null</td><td>Individual</td><td>null</td><td>null</td></tr>\n",
       "<tr><td>d6fe0000e876ab76d...</td><td>double barrel env...</td><td>2 years</td><td>MORTGAGE</td><td>48000.0</td><td>CA</td><td>933xx</td><td>USA</td><td>B</td><td>B5</td><td>Not Verified</td><td>null</td><td>Individual</td><td>null</td><td>null</td></tr>\n",
       "<tr><td>62c38934f3a2ebcd2...</td><td>e-Dialog</td><td>3 years</td><td>MORTGAGE</td><td>68500.0</td><td>MA</td><td>021xx</td><td>USA</td><td>D</td><td>D4</td><td>Not Verified</td><td>null</td><td>Individual</td><td>null</td><td>null</td></tr>\n",
       "<tr><td>7701762ef5d302b0d...</td><td>City of Hialeah</td><td>10+ years</td><td>MORTGAGE</td><td>80000.0</td><td>FL</td><td>331xx</td><td>USA</td><td>D</td><td>D3</td><td>Not Verified</td><td>null</td><td>Individual</td><td>null</td><td>null</td></tr>\n",
       "<tr><td>42a2df45b02b21b9a...</td><td>AARP Services</td><td>4 years</td><td>MORTGAGE</td><td>120000.0</td><td>VA</td><td>201xx</td><td>USA</td><td>D</td><td>D5</td><td>Verified</td><td>null</td><td>Individual</td><td>null</td><td>null</td></tr>\n",
       "<tr><td>b1ba0adce0baea939...</td><td>Madison Square Ga...</td><td>3 years</td><td>RENT</td><td>70000.0</td><td>NJ</td><td>070xx</td><td>USA</td><td>B</td><td>B5</td><td>Verified</td><td>null</td><td>Individual</td><td>null</td><td>null</td></tr>\n",
       "<tr><td>82cdc418e3907686a...</td><td>Brookland-Cayce High</td><td>5 years</td><td>MORTGAGE</td><td>48000.0</td><td>SC</td><td>291xx</td><td>USA</td><td>C</td><td>C2</td><td>Verified</td><td>null</td><td>Individual</td><td>null</td><td>null</td></tr>\n",
       "<tr><td>6cbc67caa30708b24...</td><td>Canyon Independen...</td><td>4 years</td><td>MORTGAGE</td><td>40900.0</td><td>TX</td><td>790xx</td><td>USA</td><td>D</td><td>D4</td><td>Not Verified</td><td>null</td><td>Individual</td><td>null</td><td>null</td></tr>\n",
       "<tr><td>3bae7a88975616641...</td><td>Pencor Services</td><td>10+ years</td><td>RENT</td><td>53591.0</td><td>PA</td><td>182xx</td><td>USA</td><td>D</td><td>D2</td><td>Not Verified</td><td>null</td><td>Individual</td><td>null</td><td>null</td></tr>\n",
       "<tr><td>55694e52b6a698777...</td><td>HNTB Corporation</td><td>5 years</td><td>RENT</td><td>52582.0</td><td>TX</td><td>786xx</td><td>USA</td><td>B</td><td>B3</td><td>Not Verified</td><td>null</td><td>Individual</td><td>null</td><td>null</td></tr>\n",
       "<tr><td>c666d309594cceae5...</td><td>MediMedia U.S.A.</td><td>10+ years</td><td>MORTGAGE</td><td>425000.0</td><td>educational</td><td>then next perhaps...</td><td>USA</td><td>A</td><td>A5</td><td>Not Verified</td><td>null</td><td>0.0</td><td>null</td><td>Individual</td></tr>\n",
       "<tr><td>cc859b4c14c9eb521...</td><td>Purcell Associates</td><td>3 years</td><td>RENT</td><td>53040.0</td><td>CT</td><td>060xx</td><td>USA</td><td>B</td><td>B1</td><td>Not Verified</td><td>null</td><td>Individual</td><td>null</td><td>null</td></tr>\n",
       "<tr><td>dc1eeb967d0041bec...</td><td>State Of New Hamp...</td><td>2 years</td><td>RENT</td><td>37920.0</td><td>NH</td><td>037xx</td><td>USA</td><td>C</td><td>C3</td><td>Not Verified</td><td>null</td><td>Individual</td><td>null</td><td>null</td></tr>\n",
       "<tr><td>123126e86ba5ecd5d...</td><td>mBank</td><td>&lt; 1 year</td><td>RENT</td><td>60000.0</td><td>MA</td><td>498xx</td><td>USA</td><td>D</td><td>D2</td><td>Not Verified</td><td>null</td><td>Individual</td><td>null</td><td>null</td></tr>\n",
       "<tr><td>aeb1851b33df8f924...</td><td>Boston Medical Ce...</td><td>3 years</td><td>MORTGAGE</td><td>75000.0</td><td>MA</td><td>021xx</td><td>USA</td><td>C</td><td>C4</td><td>Not Verified</td><td>null</td><td>Individual</td><td>null</td><td>null</td></tr>\n",
       "</table>\n",
       "only showing top 20 rows\n"
      ],
      "text/plain": [
       "+--------------------+--------------------+----------+--------------+----------+-----------+--------------------+-------+-----+---------+-------------------+---------------+----------------+----------------+-------------------------+\n",
       "|           member_id|           emp_title|emp_length|home_ownership|annual_inc| addr_state|            zip_code|country|garde|sub_grade|verification_status|tot_hi_cred_lim|application_type|annual_inc_joint|verification_status_joint|\n",
       "+--------------------+--------------------+----------+--------------+----------+-----------+--------------------+-------+-----+---------+-------------------+---------------+----------------+----------------+-------------------------+\n",
       "|961ae110ec063761f...|Crothall Services...|   3 years|          RENT|   28685.0|         NY|               104xx|    USA|    C|       C1|       Not Verified|           null|      Individual|            null|                     null|\n",
       "|291854d244748c911...|          PharMerica|    1 year|          RENT|  111000.0|         TX|               757xx|    USA|    B|       B3|       Not Verified|           null|      Individual|            null|                     null|\n",
       "|b5cf66b90193da9d2...|Robert Half Inter...|   3 years|          RENT|   38000.0|         CA|               956xx|    USA|    A|       A5|       Not Verified|           null|      Individual|            null|                     null|\n",
       "|7f53fd1acb7759e5b...|             walmart|   2 years|          RENT|   17000.0|         NY|               130xx|    USA|    D|       D1|       Not Verified|           null|      Individual|            null|                     null|\n",
       "|12edc8e328b993914...|            Delloite| 10+ years|      MORTGAGE|  500000.0|         GA|               300xx|    USA|    C|       C4|       Not Verified|           null|      Individual|            null|                     null|\n",
       "|e18a847f091332ff6...|Hightower Investm...|   3 years|           OWN|   65000.0|         NY|               100xx|    USA|    B|       B5|       Not Verified|           null|      Individual|            null|                     null|\n",
       "|d6fe0000e876ab76d...|double barrel env...|   2 years|      MORTGAGE|   48000.0|         CA|               933xx|    USA|    B|       B5|       Not Verified|           null|      Individual|            null|                     null|\n",
       "|62c38934f3a2ebcd2...|            e-Dialog|   3 years|      MORTGAGE|   68500.0|         MA|               021xx|    USA|    D|       D4|       Not Verified|           null|      Individual|            null|                     null|\n",
       "|7701762ef5d302b0d...|     City of Hialeah| 10+ years|      MORTGAGE|   80000.0|         FL|               331xx|    USA|    D|       D3|       Not Verified|           null|      Individual|            null|                     null|\n",
       "|42a2df45b02b21b9a...|       AARP Services|   4 years|      MORTGAGE|  120000.0|         VA|               201xx|    USA|    D|       D5|           Verified|           null|      Individual|            null|                     null|\n",
       "|b1ba0adce0baea939...|Madison Square Ga...|   3 years|          RENT|   70000.0|         NJ|               070xx|    USA|    B|       B5|           Verified|           null|      Individual|            null|                     null|\n",
       "|82cdc418e3907686a...|Brookland-Cayce High|   5 years|      MORTGAGE|   48000.0|         SC|               291xx|    USA|    C|       C2|           Verified|           null|      Individual|            null|                     null|\n",
       "|6cbc67caa30708b24...|Canyon Independen...|   4 years|      MORTGAGE|   40900.0|         TX|               790xx|    USA|    D|       D4|       Not Verified|           null|      Individual|            null|                     null|\n",
       "|3bae7a88975616641...|     Pencor Services| 10+ years|          RENT|   53591.0|         PA|               182xx|    USA|    D|       D2|       Not Verified|           null|      Individual|            null|                     null|\n",
       "|55694e52b6a698777...|    HNTB Corporation|   5 years|          RENT|   52582.0|         TX|               786xx|    USA|    B|       B3|       Not Verified|           null|      Individual|            null|                     null|\n",
       "|c666d309594cceae5...|    MediMedia U.S.A.| 10+ years|      MORTGAGE|  425000.0|educational|then next perhaps...|    USA|    A|       A5|       Not Verified|           null|             0.0|            null|               Individual|\n",
       "|cc859b4c14c9eb521...|  Purcell Associates|   3 years|          RENT|   53040.0|         CT|               060xx|    USA|    B|       B1|       Not Verified|           null|      Individual|            null|                     null|\n",
       "|dc1eeb967d0041bec...|State Of New Hamp...|   2 years|          RENT|   37920.0|         NH|               037xx|    USA|    C|       C3|       Not Verified|           null|      Individual|            null|                     null|\n",
       "|123126e86ba5ecd5d...|               mBank|  < 1 year|          RENT|   60000.0|         MA|               498xx|    USA|    D|       D2|       Not Verified|           null|      Individual|            null|                     null|\n",
       "|aeb1851b33df8f924...|Boston Medical Ce...|   3 years|      MORTGAGE|   75000.0|         MA|               021xx|    USA|    C|       C4|       Not Verified|           null|      Individual|            null|                     null|\n",
       "+--------------------+--------------------+----------+--------------+----------+-----------+--------------------+-------+-----+---------+-------------------+---------------+----------------+----------------+-------------------------+\n",
       "only showing top 20 rows"
      ]
     },
     "execution_count": 50,
     "metadata": {},
     "output_type": "execute_result"
    }
   ],
   "source": [
    "customers_raw_df"
   ]
  },
  {
   "cell_type": "code",
   "execution_count": 51,
   "id": "56c83ad2",
   "metadata": {},
   "outputs": [
    {
     "name": "stdout",
     "output_type": "stream",
     "text": [
      "root\n",
      " |-- member_id: string (nullable = true)\n",
      " |-- emp_title: string (nullable = true)\n",
      " |-- emp_length: string (nullable = true)\n",
      " |-- home_ownership: string (nullable = true)\n",
      " |-- annual_inc: float (nullable = true)\n",
      " |-- addr_state: string (nullable = true)\n",
      " |-- zip_code: string (nullable = true)\n",
      " |-- country: string (nullable = true)\n",
      " |-- garde: string (nullable = true)\n",
      " |-- sub_grade: string (nullable = true)\n",
      " |-- verification_status: string (nullable = true)\n",
      " |-- tot_hi_cred_lim: float (nullable = true)\n",
      " |-- application_type: string (nullable = true)\n",
      " |-- annual_inc_joint: float (nullable = true)\n",
      " |-- verification_status_joint: string (nullable = true)\n",
      "\n"
     ]
    }
   ],
   "source": [
    "customers_raw_df.printSchema()"
   ]
  },
  {
   "cell_type": "code",
   "execution_count": 52,
   "id": "7aec1a28",
   "metadata": {},
   "outputs": [],
   "source": [
    "customers_df_renamed =  customers_raw_df.withColumnRenamed(\"annual_inc\", \"annual_income\") \\\n",
    ".withColumnRenamed(\"addr_state\",\"address_state\") \\\n",
    ".withColumnRenamed(\"zip_code\",\"address_zipcode\") \\\n",
    ".withColumnRenamed(\"country\",\"address_country\") \\\n",
    ".withColumnRenamed(\"tot_hi_cred_lim\",\"total_high_credit_limit\") \\\n",
    ".withColumnRenamed(\"annual_inc_joint\",\"join_annual_income\")"
   ]
  },
  {
   "cell_type": "code",
   "execution_count": 53,
   "id": "2a5f7caf",
   "metadata": {},
   "outputs": [
    {
     "data": {
      "text/html": [
       "<table border='1'>\n",
       "<tr><th>member_id</th><th>emp_title</th><th>emp_length</th><th>home_ownership</th><th>annual_income</th><th>address_state</th><th>address_zipcode</th><th>address_country</th><th>garde</th><th>sub_grade</th><th>verification_status</th><th>total_high_credit_limit</th><th>application_type</th><th>join_annual_income</th><th>verification_status_joint</th></tr>\n",
       "<tr><td>961ae110ec063761f...</td><td>Crothall Services...</td><td>3 years</td><td>RENT</td><td>28685.0</td><td>NY</td><td>104xx</td><td>USA</td><td>C</td><td>C1</td><td>Not Verified</td><td>null</td><td>Individual</td><td>null</td><td>null</td></tr>\n",
       "<tr><td>291854d244748c911...</td><td>PharMerica</td><td>1 year</td><td>RENT</td><td>111000.0</td><td>TX</td><td>757xx</td><td>USA</td><td>B</td><td>B3</td><td>Not Verified</td><td>null</td><td>Individual</td><td>null</td><td>null</td></tr>\n",
       "<tr><td>b5cf66b90193da9d2...</td><td>Robert Half Inter...</td><td>3 years</td><td>RENT</td><td>38000.0</td><td>CA</td><td>956xx</td><td>USA</td><td>A</td><td>A5</td><td>Not Verified</td><td>null</td><td>Individual</td><td>null</td><td>null</td></tr>\n",
       "<tr><td>7f53fd1acb7759e5b...</td><td>walmart</td><td>2 years</td><td>RENT</td><td>17000.0</td><td>NY</td><td>130xx</td><td>USA</td><td>D</td><td>D1</td><td>Not Verified</td><td>null</td><td>Individual</td><td>null</td><td>null</td></tr>\n",
       "<tr><td>12edc8e328b993914...</td><td>Delloite</td><td>10+ years</td><td>MORTGAGE</td><td>500000.0</td><td>GA</td><td>300xx</td><td>USA</td><td>C</td><td>C4</td><td>Not Verified</td><td>null</td><td>Individual</td><td>null</td><td>null</td></tr>\n",
       "<tr><td>e18a847f091332ff6...</td><td>Hightower Investm...</td><td>3 years</td><td>OWN</td><td>65000.0</td><td>NY</td><td>100xx</td><td>USA</td><td>B</td><td>B5</td><td>Not Verified</td><td>null</td><td>Individual</td><td>null</td><td>null</td></tr>\n",
       "<tr><td>d6fe0000e876ab76d...</td><td>double barrel env...</td><td>2 years</td><td>MORTGAGE</td><td>48000.0</td><td>CA</td><td>933xx</td><td>USA</td><td>B</td><td>B5</td><td>Not Verified</td><td>null</td><td>Individual</td><td>null</td><td>null</td></tr>\n",
       "<tr><td>62c38934f3a2ebcd2...</td><td>e-Dialog</td><td>3 years</td><td>MORTGAGE</td><td>68500.0</td><td>MA</td><td>021xx</td><td>USA</td><td>D</td><td>D4</td><td>Not Verified</td><td>null</td><td>Individual</td><td>null</td><td>null</td></tr>\n",
       "<tr><td>7701762ef5d302b0d...</td><td>City of Hialeah</td><td>10+ years</td><td>MORTGAGE</td><td>80000.0</td><td>FL</td><td>331xx</td><td>USA</td><td>D</td><td>D3</td><td>Not Verified</td><td>null</td><td>Individual</td><td>null</td><td>null</td></tr>\n",
       "<tr><td>42a2df45b02b21b9a...</td><td>AARP Services</td><td>4 years</td><td>MORTGAGE</td><td>120000.0</td><td>VA</td><td>201xx</td><td>USA</td><td>D</td><td>D5</td><td>Verified</td><td>null</td><td>Individual</td><td>null</td><td>null</td></tr>\n",
       "<tr><td>b1ba0adce0baea939...</td><td>Madison Square Ga...</td><td>3 years</td><td>RENT</td><td>70000.0</td><td>NJ</td><td>070xx</td><td>USA</td><td>B</td><td>B5</td><td>Verified</td><td>null</td><td>Individual</td><td>null</td><td>null</td></tr>\n",
       "<tr><td>82cdc418e3907686a...</td><td>Brookland-Cayce High</td><td>5 years</td><td>MORTGAGE</td><td>48000.0</td><td>SC</td><td>291xx</td><td>USA</td><td>C</td><td>C2</td><td>Verified</td><td>null</td><td>Individual</td><td>null</td><td>null</td></tr>\n",
       "<tr><td>6cbc67caa30708b24...</td><td>Canyon Independen...</td><td>4 years</td><td>MORTGAGE</td><td>40900.0</td><td>TX</td><td>790xx</td><td>USA</td><td>D</td><td>D4</td><td>Not Verified</td><td>null</td><td>Individual</td><td>null</td><td>null</td></tr>\n",
       "<tr><td>3bae7a88975616641...</td><td>Pencor Services</td><td>10+ years</td><td>RENT</td><td>53591.0</td><td>PA</td><td>182xx</td><td>USA</td><td>D</td><td>D2</td><td>Not Verified</td><td>null</td><td>Individual</td><td>null</td><td>null</td></tr>\n",
       "<tr><td>55694e52b6a698777...</td><td>HNTB Corporation</td><td>5 years</td><td>RENT</td><td>52582.0</td><td>TX</td><td>786xx</td><td>USA</td><td>B</td><td>B3</td><td>Not Verified</td><td>null</td><td>Individual</td><td>null</td><td>null</td></tr>\n",
       "<tr><td>c666d309594cceae5...</td><td>MediMedia U.S.A.</td><td>10+ years</td><td>MORTGAGE</td><td>425000.0</td><td>educational</td><td>then next perhaps...</td><td>USA</td><td>A</td><td>A5</td><td>Not Verified</td><td>null</td><td>0.0</td><td>null</td><td>Individual</td></tr>\n",
       "<tr><td>cc859b4c14c9eb521...</td><td>Purcell Associates</td><td>3 years</td><td>RENT</td><td>53040.0</td><td>CT</td><td>060xx</td><td>USA</td><td>B</td><td>B1</td><td>Not Verified</td><td>null</td><td>Individual</td><td>null</td><td>null</td></tr>\n",
       "<tr><td>dc1eeb967d0041bec...</td><td>State Of New Hamp...</td><td>2 years</td><td>RENT</td><td>37920.0</td><td>NH</td><td>037xx</td><td>USA</td><td>C</td><td>C3</td><td>Not Verified</td><td>null</td><td>Individual</td><td>null</td><td>null</td></tr>\n",
       "<tr><td>123126e86ba5ecd5d...</td><td>mBank</td><td>&lt; 1 year</td><td>RENT</td><td>60000.0</td><td>MA</td><td>498xx</td><td>USA</td><td>D</td><td>D2</td><td>Not Verified</td><td>null</td><td>Individual</td><td>null</td><td>null</td></tr>\n",
       "<tr><td>aeb1851b33df8f924...</td><td>Boston Medical Ce...</td><td>3 years</td><td>MORTGAGE</td><td>75000.0</td><td>MA</td><td>021xx</td><td>USA</td><td>C</td><td>C4</td><td>Not Verified</td><td>null</td><td>Individual</td><td>null</td><td>null</td></tr>\n",
       "</table>\n",
       "only showing top 20 rows\n"
      ],
      "text/plain": [
       "+--------------------+--------------------+----------+--------------+-------------+-------------+--------------------+---------------+-----+---------+-------------------+-----------------------+----------------+------------------+-------------------------+\n",
       "|           member_id|           emp_title|emp_length|home_ownership|annual_income|address_state|     address_zipcode|address_country|garde|sub_grade|verification_status|total_high_credit_limit|application_type|join_annual_income|verification_status_joint|\n",
       "+--------------------+--------------------+----------+--------------+-------------+-------------+--------------------+---------------+-----+---------+-------------------+-----------------------+----------------+------------------+-------------------------+\n",
       "|961ae110ec063761f...|Crothall Services...|   3 years|          RENT|      28685.0|           NY|               104xx|            USA|    C|       C1|       Not Verified|                   null|      Individual|              null|                     null|\n",
       "|291854d244748c911...|          PharMerica|    1 year|          RENT|     111000.0|           TX|               757xx|            USA|    B|       B3|       Not Verified|                   null|      Individual|              null|                     null|\n",
       "|b5cf66b90193da9d2...|Robert Half Inter...|   3 years|          RENT|      38000.0|           CA|               956xx|            USA|    A|       A5|       Not Verified|                   null|      Individual|              null|                     null|\n",
       "|7f53fd1acb7759e5b...|             walmart|   2 years|          RENT|      17000.0|           NY|               130xx|            USA|    D|       D1|       Not Verified|                   null|      Individual|              null|                     null|\n",
       "|12edc8e328b993914...|            Delloite| 10+ years|      MORTGAGE|     500000.0|           GA|               300xx|            USA|    C|       C4|       Not Verified|                   null|      Individual|              null|                     null|\n",
       "|e18a847f091332ff6...|Hightower Investm...|   3 years|           OWN|      65000.0|           NY|               100xx|            USA|    B|       B5|       Not Verified|                   null|      Individual|              null|                     null|\n",
       "|d6fe0000e876ab76d...|double barrel env...|   2 years|      MORTGAGE|      48000.0|           CA|               933xx|            USA|    B|       B5|       Not Verified|                   null|      Individual|              null|                     null|\n",
       "|62c38934f3a2ebcd2...|            e-Dialog|   3 years|      MORTGAGE|      68500.0|           MA|               021xx|            USA|    D|       D4|       Not Verified|                   null|      Individual|              null|                     null|\n",
       "|7701762ef5d302b0d...|     City of Hialeah| 10+ years|      MORTGAGE|      80000.0|           FL|               331xx|            USA|    D|       D3|       Not Verified|                   null|      Individual|              null|                     null|\n",
       "|42a2df45b02b21b9a...|       AARP Services|   4 years|      MORTGAGE|     120000.0|           VA|               201xx|            USA|    D|       D5|           Verified|                   null|      Individual|              null|                     null|\n",
       "|b1ba0adce0baea939...|Madison Square Ga...|   3 years|          RENT|      70000.0|           NJ|               070xx|            USA|    B|       B5|           Verified|                   null|      Individual|              null|                     null|\n",
       "|82cdc418e3907686a...|Brookland-Cayce High|   5 years|      MORTGAGE|      48000.0|           SC|               291xx|            USA|    C|       C2|           Verified|                   null|      Individual|              null|                     null|\n",
       "|6cbc67caa30708b24...|Canyon Independen...|   4 years|      MORTGAGE|      40900.0|           TX|               790xx|            USA|    D|       D4|       Not Verified|                   null|      Individual|              null|                     null|\n",
       "|3bae7a88975616641...|     Pencor Services| 10+ years|          RENT|      53591.0|           PA|               182xx|            USA|    D|       D2|       Not Verified|                   null|      Individual|              null|                     null|\n",
       "|55694e52b6a698777...|    HNTB Corporation|   5 years|          RENT|      52582.0|           TX|               786xx|            USA|    B|       B3|       Not Verified|                   null|      Individual|              null|                     null|\n",
       "|c666d309594cceae5...|    MediMedia U.S.A.| 10+ years|      MORTGAGE|     425000.0|  educational|then next perhaps...|            USA|    A|       A5|       Not Verified|                   null|             0.0|              null|               Individual|\n",
       "|cc859b4c14c9eb521...|  Purcell Associates|   3 years|          RENT|      53040.0|           CT|               060xx|            USA|    B|       B1|       Not Verified|                   null|      Individual|              null|                     null|\n",
       "|dc1eeb967d0041bec...|State Of New Hamp...|   2 years|          RENT|      37920.0|           NH|               037xx|            USA|    C|       C3|       Not Verified|                   null|      Individual|              null|                     null|\n",
       "|123126e86ba5ecd5d...|               mBank|  < 1 year|          RENT|      60000.0|           MA|               498xx|            USA|    D|       D2|       Not Verified|                   null|      Individual|              null|                     null|\n",
       "|aeb1851b33df8f924...|Boston Medical Ce...|   3 years|      MORTGAGE|      75000.0|           MA|               021xx|            USA|    C|       C4|       Not Verified|                   null|      Individual|              null|                     null|\n",
       "+--------------------+--------------------+----------+--------------+-------------+-------------+--------------------+---------------+-----+---------+-------------------+-----------------------+----------------+------------------+-------------------------+\n",
       "only showing top 20 rows"
      ]
     },
     "execution_count": 53,
     "metadata": {},
     "output_type": "execute_result"
    }
   ],
   "source": [
    "customers_df_renamed"
   ]
  },
  {
   "cell_type": "code",
   "execution_count": 54,
   "id": "18e8d36f",
   "metadata": {},
   "outputs": [],
   "source": [
    "from pyspark.sql.functions import current_timestamp"
   ]
  },
  {
   "cell_type": "code",
   "execution_count": 55,
   "id": "8258aed1",
   "metadata": {},
   "outputs": [],
   "source": [
    "customers_df_ingestd = customers_df_renamed.withColumn(\"ingest_date\", current_timestamp())"
   ]
  },
  {
   "cell_type": "code",
   "execution_count": 56,
   "id": "2be0f4c1",
   "metadata": {},
   "outputs": [
    {
     "data": {
      "text/html": [
       "<table border='1'>\n",
       "<tr><th>member_id</th><th>emp_title</th><th>emp_length</th><th>home_ownership</th><th>annual_income</th><th>address_state</th><th>address_zipcode</th><th>address_country</th><th>garde</th><th>sub_grade</th><th>verification_status</th><th>total_high_credit_limit</th><th>application_type</th><th>join_annual_income</th><th>verification_status_joint</th><th>ingest_date</th></tr>\n",
       "<tr><td>961ae110ec063761f...</td><td>Crothall Services...</td><td>3 years</td><td>RENT</td><td>28685.0</td><td>NY</td><td>104xx</td><td>USA</td><td>C</td><td>C1</td><td>Not Verified</td><td>null</td><td>Individual</td><td>null</td><td>null</td><td>2024-05-09 16:05:...</td></tr>\n",
       "<tr><td>291854d244748c911...</td><td>PharMerica</td><td>1 year</td><td>RENT</td><td>111000.0</td><td>TX</td><td>757xx</td><td>USA</td><td>B</td><td>B3</td><td>Not Verified</td><td>null</td><td>Individual</td><td>null</td><td>null</td><td>2024-05-09 16:05:...</td></tr>\n",
       "<tr><td>b5cf66b90193da9d2...</td><td>Robert Half Inter...</td><td>3 years</td><td>RENT</td><td>38000.0</td><td>CA</td><td>956xx</td><td>USA</td><td>A</td><td>A5</td><td>Not Verified</td><td>null</td><td>Individual</td><td>null</td><td>null</td><td>2024-05-09 16:05:...</td></tr>\n",
       "<tr><td>7f53fd1acb7759e5b...</td><td>walmart</td><td>2 years</td><td>RENT</td><td>17000.0</td><td>NY</td><td>130xx</td><td>USA</td><td>D</td><td>D1</td><td>Not Verified</td><td>null</td><td>Individual</td><td>null</td><td>null</td><td>2024-05-09 16:05:...</td></tr>\n",
       "<tr><td>12edc8e328b993914...</td><td>Delloite</td><td>10+ years</td><td>MORTGAGE</td><td>500000.0</td><td>GA</td><td>300xx</td><td>USA</td><td>C</td><td>C4</td><td>Not Verified</td><td>null</td><td>Individual</td><td>null</td><td>null</td><td>2024-05-09 16:05:...</td></tr>\n",
       "<tr><td>e18a847f091332ff6...</td><td>Hightower Investm...</td><td>3 years</td><td>OWN</td><td>65000.0</td><td>NY</td><td>100xx</td><td>USA</td><td>B</td><td>B5</td><td>Not Verified</td><td>null</td><td>Individual</td><td>null</td><td>null</td><td>2024-05-09 16:05:...</td></tr>\n",
       "<tr><td>d6fe0000e876ab76d...</td><td>double barrel env...</td><td>2 years</td><td>MORTGAGE</td><td>48000.0</td><td>CA</td><td>933xx</td><td>USA</td><td>B</td><td>B5</td><td>Not Verified</td><td>null</td><td>Individual</td><td>null</td><td>null</td><td>2024-05-09 16:05:...</td></tr>\n",
       "<tr><td>62c38934f3a2ebcd2...</td><td>e-Dialog</td><td>3 years</td><td>MORTGAGE</td><td>68500.0</td><td>MA</td><td>021xx</td><td>USA</td><td>D</td><td>D4</td><td>Not Verified</td><td>null</td><td>Individual</td><td>null</td><td>null</td><td>2024-05-09 16:05:...</td></tr>\n",
       "<tr><td>7701762ef5d302b0d...</td><td>City of Hialeah</td><td>10+ years</td><td>MORTGAGE</td><td>80000.0</td><td>FL</td><td>331xx</td><td>USA</td><td>D</td><td>D3</td><td>Not Verified</td><td>null</td><td>Individual</td><td>null</td><td>null</td><td>2024-05-09 16:05:...</td></tr>\n",
       "<tr><td>42a2df45b02b21b9a...</td><td>AARP Services</td><td>4 years</td><td>MORTGAGE</td><td>120000.0</td><td>VA</td><td>201xx</td><td>USA</td><td>D</td><td>D5</td><td>Verified</td><td>null</td><td>Individual</td><td>null</td><td>null</td><td>2024-05-09 16:05:...</td></tr>\n",
       "<tr><td>b1ba0adce0baea939...</td><td>Madison Square Ga...</td><td>3 years</td><td>RENT</td><td>70000.0</td><td>NJ</td><td>070xx</td><td>USA</td><td>B</td><td>B5</td><td>Verified</td><td>null</td><td>Individual</td><td>null</td><td>null</td><td>2024-05-09 16:05:...</td></tr>\n",
       "<tr><td>82cdc418e3907686a...</td><td>Brookland-Cayce High</td><td>5 years</td><td>MORTGAGE</td><td>48000.0</td><td>SC</td><td>291xx</td><td>USA</td><td>C</td><td>C2</td><td>Verified</td><td>null</td><td>Individual</td><td>null</td><td>null</td><td>2024-05-09 16:05:...</td></tr>\n",
       "<tr><td>6cbc67caa30708b24...</td><td>Canyon Independen...</td><td>4 years</td><td>MORTGAGE</td><td>40900.0</td><td>TX</td><td>790xx</td><td>USA</td><td>D</td><td>D4</td><td>Not Verified</td><td>null</td><td>Individual</td><td>null</td><td>null</td><td>2024-05-09 16:05:...</td></tr>\n",
       "<tr><td>3bae7a88975616641...</td><td>Pencor Services</td><td>10+ years</td><td>RENT</td><td>53591.0</td><td>PA</td><td>182xx</td><td>USA</td><td>D</td><td>D2</td><td>Not Verified</td><td>null</td><td>Individual</td><td>null</td><td>null</td><td>2024-05-09 16:05:...</td></tr>\n",
       "<tr><td>55694e52b6a698777...</td><td>HNTB Corporation</td><td>5 years</td><td>RENT</td><td>52582.0</td><td>TX</td><td>786xx</td><td>USA</td><td>B</td><td>B3</td><td>Not Verified</td><td>null</td><td>Individual</td><td>null</td><td>null</td><td>2024-05-09 16:05:...</td></tr>\n",
       "<tr><td>c666d309594cceae5...</td><td>MediMedia U.S.A.</td><td>10+ years</td><td>MORTGAGE</td><td>425000.0</td><td>educational</td><td>then next perhaps...</td><td>USA</td><td>A</td><td>A5</td><td>Not Verified</td><td>null</td><td>0.0</td><td>null</td><td>Individual</td><td>2024-05-09 16:05:...</td></tr>\n",
       "<tr><td>cc859b4c14c9eb521...</td><td>Purcell Associates</td><td>3 years</td><td>RENT</td><td>53040.0</td><td>CT</td><td>060xx</td><td>USA</td><td>B</td><td>B1</td><td>Not Verified</td><td>null</td><td>Individual</td><td>null</td><td>null</td><td>2024-05-09 16:05:...</td></tr>\n",
       "<tr><td>dc1eeb967d0041bec...</td><td>State Of New Hamp...</td><td>2 years</td><td>RENT</td><td>37920.0</td><td>NH</td><td>037xx</td><td>USA</td><td>C</td><td>C3</td><td>Not Verified</td><td>null</td><td>Individual</td><td>null</td><td>null</td><td>2024-05-09 16:05:...</td></tr>\n",
       "<tr><td>123126e86ba5ecd5d...</td><td>mBank</td><td>&lt; 1 year</td><td>RENT</td><td>60000.0</td><td>MA</td><td>498xx</td><td>USA</td><td>D</td><td>D2</td><td>Not Verified</td><td>null</td><td>Individual</td><td>null</td><td>null</td><td>2024-05-09 16:05:...</td></tr>\n",
       "<tr><td>aeb1851b33df8f924...</td><td>Boston Medical Ce...</td><td>3 years</td><td>MORTGAGE</td><td>75000.0</td><td>MA</td><td>021xx</td><td>USA</td><td>C</td><td>C4</td><td>Not Verified</td><td>null</td><td>Individual</td><td>null</td><td>null</td><td>2024-05-09 16:05:...</td></tr>\n",
       "</table>\n",
       "only showing top 20 rows\n"
      ],
      "text/plain": [
       "+--------------------+--------------------+----------+--------------+-------------+-------------+--------------------+---------------+-----+---------+-------------------+-----------------------+----------------+------------------+-------------------------+--------------------+\n",
       "|           member_id|           emp_title|emp_length|home_ownership|annual_income|address_state|     address_zipcode|address_country|garde|sub_grade|verification_status|total_high_credit_limit|application_type|join_annual_income|verification_status_joint|         ingest_date|\n",
       "+--------------------+--------------------+----------+--------------+-------------+-------------+--------------------+---------------+-----+---------+-------------------+-----------------------+----------------+------------------+-------------------------+--------------------+\n",
       "|961ae110ec063761f...|Crothall Services...|   3 years|          RENT|      28685.0|           NY|               104xx|            USA|    C|       C1|       Not Verified|                   null|      Individual|              null|                     null|2024-05-09 16:05:...|\n",
       "|291854d244748c911...|          PharMerica|    1 year|          RENT|     111000.0|           TX|               757xx|            USA|    B|       B3|       Not Verified|                   null|      Individual|              null|                     null|2024-05-09 16:05:...|\n",
       "|b5cf66b90193da9d2...|Robert Half Inter...|   3 years|          RENT|      38000.0|           CA|               956xx|            USA|    A|       A5|       Not Verified|                   null|      Individual|              null|                     null|2024-05-09 16:05:...|\n",
       "|7f53fd1acb7759e5b...|             walmart|   2 years|          RENT|      17000.0|           NY|               130xx|            USA|    D|       D1|       Not Verified|                   null|      Individual|              null|                     null|2024-05-09 16:05:...|\n",
       "|12edc8e328b993914...|            Delloite| 10+ years|      MORTGAGE|     500000.0|           GA|               300xx|            USA|    C|       C4|       Not Verified|                   null|      Individual|              null|                     null|2024-05-09 16:05:...|\n",
       "|e18a847f091332ff6...|Hightower Investm...|   3 years|           OWN|      65000.0|           NY|               100xx|            USA|    B|       B5|       Not Verified|                   null|      Individual|              null|                     null|2024-05-09 16:05:...|\n",
       "|d6fe0000e876ab76d...|double barrel env...|   2 years|      MORTGAGE|      48000.0|           CA|               933xx|            USA|    B|       B5|       Not Verified|                   null|      Individual|              null|                     null|2024-05-09 16:05:...|\n",
       "|62c38934f3a2ebcd2...|            e-Dialog|   3 years|      MORTGAGE|      68500.0|           MA|               021xx|            USA|    D|       D4|       Not Verified|                   null|      Individual|              null|                     null|2024-05-09 16:05:...|\n",
       "|7701762ef5d302b0d...|     City of Hialeah| 10+ years|      MORTGAGE|      80000.0|           FL|               331xx|            USA|    D|       D3|       Not Verified|                   null|      Individual|              null|                     null|2024-05-09 16:05:...|\n",
       "|42a2df45b02b21b9a...|       AARP Services|   4 years|      MORTGAGE|     120000.0|           VA|               201xx|            USA|    D|       D5|           Verified|                   null|      Individual|              null|                     null|2024-05-09 16:05:...|\n",
       "|b1ba0adce0baea939...|Madison Square Ga...|   3 years|          RENT|      70000.0|           NJ|               070xx|            USA|    B|       B5|           Verified|                   null|      Individual|              null|                     null|2024-05-09 16:05:...|\n",
       "|82cdc418e3907686a...|Brookland-Cayce High|   5 years|      MORTGAGE|      48000.0|           SC|               291xx|            USA|    C|       C2|           Verified|                   null|      Individual|              null|                     null|2024-05-09 16:05:...|\n",
       "|6cbc67caa30708b24...|Canyon Independen...|   4 years|      MORTGAGE|      40900.0|           TX|               790xx|            USA|    D|       D4|       Not Verified|                   null|      Individual|              null|                     null|2024-05-09 16:05:...|\n",
       "|3bae7a88975616641...|     Pencor Services| 10+ years|          RENT|      53591.0|           PA|               182xx|            USA|    D|       D2|       Not Verified|                   null|      Individual|              null|                     null|2024-05-09 16:05:...|\n",
       "|55694e52b6a698777...|    HNTB Corporation|   5 years|          RENT|      52582.0|           TX|               786xx|            USA|    B|       B3|       Not Verified|                   null|      Individual|              null|                     null|2024-05-09 16:05:...|\n",
       "|c666d309594cceae5...|    MediMedia U.S.A.| 10+ years|      MORTGAGE|     425000.0|  educational|then next perhaps...|            USA|    A|       A5|       Not Verified|                   null|             0.0|              null|               Individual|2024-05-09 16:05:...|\n",
       "|cc859b4c14c9eb521...|  Purcell Associates|   3 years|          RENT|      53040.0|           CT|               060xx|            USA|    B|       B1|       Not Verified|                   null|      Individual|              null|                     null|2024-05-09 16:05:...|\n",
       "|dc1eeb967d0041bec...|State Of New Hamp...|   2 years|          RENT|      37920.0|           NH|               037xx|            USA|    C|       C3|       Not Verified|                   null|      Individual|              null|                     null|2024-05-09 16:05:...|\n",
       "|123126e86ba5ecd5d...|               mBank|  < 1 year|          RENT|      60000.0|           MA|               498xx|            USA|    D|       D2|       Not Verified|                   null|      Individual|              null|                     null|2024-05-09 16:05:...|\n",
       "|aeb1851b33df8f924...|Boston Medical Ce...|   3 years|      MORTGAGE|      75000.0|           MA|               021xx|            USA|    C|       C4|       Not Verified|                   null|      Individual|              null|                     null|2024-05-09 16:05:...|\n",
       "+--------------------+--------------------+----------+--------------+-------------+-------------+--------------------+---------------+-----+---------+-------------------+-----------------------+----------------+------------------+-------------------------+--------------------+\n",
       "only showing top 20 rows"
      ]
     },
     "execution_count": 56,
     "metadata": {},
     "output_type": "execute_result"
    }
   ],
   "source": [
    "customers_df_ingestd"
   ]
  },
  {
   "cell_type": "code",
   "execution_count": 57,
   "id": "7102af98",
   "metadata": {},
   "outputs": [
    {
     "data": {
      "text/plain": [
       "2260701"
      ]
     },
     "execution_count": 57,
     "metadata": {},
     "output_type": "execute_result"
    }
   ],
   "source": [
    "customers_df_ingestd.count()"
   ]
  },
  {
   "cell_type": "code",
   "execution_count": 58,
   "id": "29365f49",
   "metadata": {},
   "outputs": [],
   "source": [
    "customers_distinct = customers_df_ingestd.distinct()"
   ]
  },
  {
   "cell_type": "code",
   "execution_count": 59,
   "id": "ba9356ec",
   "metadata": {},
   "outputs": [
    {
     "data": {
      "text/plain": [
       "2260638"
      ]
     },
     "execution_count": 59,
     "metadata": {},
     "output_type": "execute_result"
    }
   ],
   "source": [
    "customers_distinct.count()"
   ]
  },
  {
   "cell_type": "code",
   "execution_count": 60,
   "id": "3a31518c",
   "metadata": {},
   "outputs": [],
   "source": [
    "customers_distinct.createOrReplaceTempView(\"customers\")"
   ]
  },
  {
   "cell_type": "code",
   "execution_count": 61,
   "id": "1e41bfc9",
   "metadata": {},
   "outputs": [
    {
     "data": {
      "text/html": [
       "<table border='1'>\n",
       "<tr><th>member_id</th><th>emp_title</th><th>emp_length</th><th>home_ownership</th><th>annual_income</th><th>address_state</th><th>address_zipcode</th><th>address_country</th><th>garde</th><th>sub_grade</th><th>verification_status</th><th>total_high_credit_limit</th><th>application_type</th><th>join_annual_income</th><th>verification_status_joint</th><th>ingest_date</th></tr>\n",
       "<tr><td>086dccd1baa3ff132...</td><td>Director Public A...</td><td>10+ years</td><td>OWN</td><td>287000.0</td><td>MI</td><td>488xx</td><td>USA</td><td>B</td><td>B2</td><td>Source Verified</td><td>1013663.0</td><td>Individual</td><td>null</td><td>null</td><td>2024-05-09 16:06:...</td></tr>\n",
       "<tr><td>67746868d4221c37a...</td><td>Engineer</td><td>&lt; 1 year</td><td>RENT</td><td>63786.0</td><td>MD</td><td>206xx</td><td>USA</td><td>A</td><td>A3</td><td>Not Verified</td><td>57716.0</td><td>Individual</td><td>null</td><td>null</td><td>2024-05-09 16:06:...</td></tr>\n",
       "<tr><td>3ba883cd6807bfac3...</td><td>Dispatch</td><td>3 years</td><td>MORTGAGE</td><td>38200.0</td><td>UT</td><td>840xx</td><td>USA</td><td>B</td><td>B3</td><td>Not Verified</td><td>271886.0</td><td>Joint App</td><td>100700.0</td><td>Not Verified</td><td>2024-05-09 16:06:...</td></tr>\n",
       "<tr><td>6a5fc0f813f26756b...</td><td>null</td><td>null</td><td>MORTGAGE</td><td>62300.0</td><td>FL</td><td>349xx</td><td>USA</td><td>B</td><td>B5</td><td>Verified</td><td>194060.0</td><td>Individual</td><td>null</td><td>null</td><td>2024-05-09 16:06:...</td></tr>\n",
       "<tr><td>b81cc4fa8ab810df7...</td><td>Medical assistant</td><td>2 years</td><td>MORTGAGE</td><td>30000.0</td><td>AZ</td><td>851xx</td><td>USA</td><td>D</td><td>D4</td><td>Source Verified</td><td>53519.0</td><td>Joint App</td><td>90000.0</td><td>Source Verified</td><td>2024-05-09 16:06:...</td></tr>\n",
       "<tr><td>69316327da8fec2bc...</td><td>Teacher</td><td>10+ years</td><td>MORTGAGE</td><td>75000.0</td><td>WA</td><td>980xx</td><td>USA</td><td>A</td><td>A5</td><td>Source Verified</td><td>134227.0</td><td>Individual</td><td>null</td><td>null</td><td>2024-05-09 16:06:...</td></tr>\n",
       "<tr><td>2ceb42e2df86a7c58...</td><td>Owner/Dentist</td><td>10+ years</td><td>MORTGAGE</td><td>250000.0</td><td>UT</td><td>840xx</td><td>USA</td><td>A</td><td>A2</td><td>Verified</td><td>782212.0</td><td>Joint App</td><td>510000.0</td><td>Source Verified</td><td>2024-05-09 16:06:...</td></tr>\n",
       "<tr><td>41f3fb095340ddad9...</td><td>Assistance manager</td><td>3 years</td><td>RENT</td><td>48000.0</td><td>NY</td><td>114xx</td><td>USA</td><td>B</td><td>B3</td><td>Not Verified</td><td>12900.0</td><td>Individual</td><td>null</td><td>null</td><td>2024-05-09 16:06:...</td></tr>\n",
       "<tr><td>83d18f985cf6cc12d...</td><td>Dancer</td><td>8 years</td><td>RENT</td><td>85000.0</td><td>NY</td><td>100xx</td><td>USA</td><td>B</td><td>B3</td><td>Not Verified</td><td>69700.0</td><td>Individual</td><td>null</td><td>null</td><td>2024-05-09 16:06:...</td></tr>\n",
       "<tr><td>e6c17fe5009392057...</td><td>Store Manager</td><td>5 years</td><td>OWN</td><td>65000.0</td><td>WI</td><td>539xx</td><td>USA</td><td>D</td><td>D1</td><td>Verified</td><td>71147.0</td><td>Individual</td><td>null</td><td>null</td><td>2024-05-09 16:06:...</td></tr>\n",
       "<tr><td>70e5c0a7410d0a82e...</td><td>Private Banker</td><td>8 years</td><td>RENT</td><td>141000.0</td><td>NJ</td><td>070xx</td><td>USA</td><td>B</td><td>B5</td><td>Source Verified</td><td>24800.0</td><td>Individual</td><td>null</td><td>null</td><td>2024-05-09 16:06:...</td></tr>\n",
       "<tr><td>e2a82a4b0fb154b79...</td><td>Owner</td><td>2 years</td><td>OWN</td><td>46000.0</td><td>MI</td><td>481xx</td><td>USA</td><td>B</td><td>B4</td><td>Source Verified</td><td>33200.0</td><td>Individual</td><td>null</td><td>null</td><td>2024-05-09 16:06:...</td></tr>\n",
       "<tr><td>7cf97bbeb82291aeb...</td><td>DEPUTY SHERIFF</td><td>10+ years</td><td>MORTGAGE</td><td>60000.0</td><td>NC</td><td>282xx</td><td>USA</td><td>B</td><td>B3</td><td>Not Verified</td><td>214359.0</td><td>Individual</td><td>null</td><td>null</td><td>2024-05-09 16:06:...</td></tr>\n",
       "<tr><td>d872c7c8c68e0c25e...</td><td>Owner</td><td>10+ years</td><td>MORTGAGE</td><td>60000.0</td><td>CT</td><td>066xx</td><td>USA</td><td>D</td><td>D4</td><td>Not Verified</td><td>380121.0</td><td>Joint App</td><td>99000.0</td><td>Not Verified</td><td>2024-05-09 16:06:...</td></tr>\n",
       "<tr><td>a3e5c7c903838f689...</td><td>owner</td><td>10+ years</td><td>RENT</td><td>60000.0</td><td>FL</td><td>327xx</td><td>USA</td><td>A</td><td>A3</td><td>Not Verified</td><td>27148.0</td><td>Individual</td><td>null</td><td>null</td><td>2024-05-09 16:06:...</td></tr>\n",
       "<tr><td>349aa818ba9e1bd1f...</td><td>Maintenance</td><td>4 years</td><td>OWN</td><td>28750.0</td><td>CA</td><td>925xx</td><td>USA</td><td>C</td><td>C2</td><td>Source Verified</td><td>43496.0</td><td>Individual</td><td>null</td><td>null</td><td>2024-05-09 16:06:...</td></tr>\n",
       "<tr><td>879a8992ea5ee93dd...</td><td>LPN</td><td>10+ years</td><td>OWN</td><td>50000.0</td><td>VA</td><td>238xx</td><td>USA</td><td>C</td><td>C5</td><td>Verified</td><td>47597.0</td><td>Individual</td><td>null</td><td>null</td><td>2024-05-09 16:06:...</td></tr>\n",
       "<tr><td>05f28f7e814487ec0...</td><td>Manager</td><td>10+ years</td><td>MORTGAGE</td><td>78000.0</td><td>MS</td><td>394xx</td><td>USA</td><td>A</td><td>A1</td><td>Not Verified</td><td>396757.0</td><td>Individual</td><td>null</td><td>null</td><td>2024-05-09 16:06:...</td></tr>\n",
       "<tr><td>9870d07c623131120...</td><td>Corrections officer</td><td>10+ years</td><td>MORTGAGE</td><td>65000.0</td><td>OH</td><td>449xx</td><td>USA</td><td>C</td><td>C3</td><td>Verified</td><td>184086.0</td><td>Joint App</td><td>142000.0</td><td>Not Verified</td><td>2024-05-09 16:06:...</td></tr>\n",
       "<tr><td>65c1486bfa45ecdf9...</td><td>Claims Specialist</td><td>10+ years</td><td>MORTGAGE</td><td>87000.0</td><td>WA</td><td>980xx</td><td>USA</td><td>C</td><td>C5</td><td>Source Verified</td><td>386080.0</td><td>Individual</td><td>null</td><td>null</td><td>2024-05-09 16:06:...</td></tr>\n",
       "</table>\n",
       "only showing top 20 rows\n"
      ],
      "text/plain": [
       "+--------------------+--------------------+----------+--------------+-------------+-------------+---------------+---------------+-----+---------+-------------------+-----------------------+----------------+------------------+-------------------------+--------------------+\n",
       "|           member_id|           emp_title|emp_length|home_ownership|annual_income|address_state|address_zipcode|address_country|garde|sub_grade|verification_status|total_high_credit_limit|application_type|join_annual_income|verification_status_joint|         ingest_date|\n",
       "+--------------------+--------------------+----------+--------------+-------------+-------------+---------------+---------------+-----+---------+-------------------+-----------------------+----------------+------------------+-------------------------+--------------------+\n",
       "|41b23bea2d5d21eab...|Sr. operations Ma...|   2 years|          RENT|     160000.0|           IL|          605xx|            USA|    D|       D4|           Verified|               115226.0|      Individual|              null|                     null|2024-05-09 16:06:...|\n",
       "|0f32b26439810666f...|      Vice President| 10+ years|      MORTGAGE|     120000.0|           TX|          780xx|            USA|    A|       A1|    Source Verified|               621354.0|      Individual|              null|                     null|2024-05-09 16:06:...|\n",
       "|92aa1c4fad94f7369...|             Manager| 10+ years|      MORTGAGE|      75000.0|           AL|          363xx|            USA|    F|       F2|    Source Verified|               146127.0|      Individual|              null|                     null|2024-05-09 16:06:...|\n",
       "|682a7da459d35ab16...|                null|      null|      MORTGAGE|      90000.0|           NC|          275xx|            USA|    D|       D4|           Verified|               248018.0|      Individual|              null|                     null|2024-05-09 16:06:...|\n",
       "|ec157ebccf5101148...|                null|      null|      MORTGAGE|      42000.0|           TX|          762xx|            USA|    C|       C2|           Verified|                15529.0|      Individual|              null|                     null|2024-05-09 16:06:...|\n",
       "|9ac2f35eef9fa0c10...|Sr. Executive Ass...| 10+ years|          RENT|      84000.0|           CA|          913xx|            USA|    C|       C4|    Source Verified|               140678.0|      Individual|              null|                     null|2024-05-09 16:06:...|\n",
       "|8499254dfa1551700...|                null|      null|      MORTGAGE|      62560.0|           CT|          063xx|            USA|    B|       B3|           Verified|               272967.0|      Individual|              null|                     null|2024-05-09 16:06:...|\n",
       "|42c34ba17ea5d9e3a...| Warehouse associate| 10+ years|          RENT|      76000.0|           MN|          553xx|            USA|    C|       C5|           Verified|                22500.0|      Individual|              null|                     null|2024-05-09 16:06:...|\n",
       "|d540ed9149beacb01...|Schedule Coordinator|   2 years|          RENT|      41000.0|           CA|          959xx|            USA|    D|       D1|    Source Verified|                45185.0|      Individual|              null|                     null|2024-05-09 16:06:...|\n",
       "|f2fa5ec3bca6f7492...|     Police Sergeant|   3 years|          RENT|     120000.0|           FL|          339xx|            USA|    A|       A4|           Verified|               190470.0|      Individual|              null|                     null|2024-05-09 16:06:...|\n",
       "|6f48b3f2b3200a584...|Accounting Clerk III|    1 year|          RENT|      32100.0|           TX|          752xx|            USA|    C|       C2|    Source Verified|                45461.0|      Individual|              null|                     null|2024-05-09 16:06:...|\n",
       "|f6dcc4b13d6aeb21d...|             Teacher| 10+ years|          RENT|      43200.0|           IL|          606xx|            USA|    B|       B4|    Source Verified|                46647.0|      Individual|              null|                     null|2024-05-09 16:06:...|\n",
       "|65ee592d37a803318...|                null|      null|          RENT|      36000.0|           LA|          704xx|            USA|    B|       B1|    Source Verified|                48640.0|      Individual|              null|                     null|2024-05-09 16:06:...|\n",
       "|f420ff154003e0f5d...|        Distribution|   5 years|      MORTGAGE|      44670.0|           GA|          301xx|            USA|    B|       B2|       Not Verified|               296240.0|      Individual|              null|                     null|2024-05-09 16:06:...|\n",
       "|96ce9da892f3fdc67...|         Corrections| 10+ years|      MORTGAGE|      65000.0|           MA|          018xx|            USA|    B|       B3|       Not Verified|               388312.0|      Individual|              null|                     null|2024-05-09 16:06:...|\n",
       "|9e457323dca18727a...|           President| 10+ years|          RENT|      60000.0|           IL|          605xx|            USA|    C|       C1|    Source Verified|                51155.0|      Individual|              null|                     null|2024-05-09 16:06:...|\n",
       "|7030a42b1a2dd57e9...|      Police Officer|    1 year|          RENT|      37000.0|           MI|          481xx|            USA|    E|       E1|           Verified|                38571.0|      Individual|              null|                     null|2024-05-09 16:06:...|\n",
       "|dd59de731c4a05334...|         Court Clerk|   8 years|          RENT|      46493.0|           CA|          900xx|            USA|    C|       C5|           Verified|                31900.0|      Individual|              null|                     null|2024-05-09 16:06:...|\n",
       "|f4974e1ae7479cdd7...|      Tax Consultant|   2 years|           OWN|     180000.0|           CA|          951xx|            USA|    A|       A5|    Source Verified|               215274.0|      Individual|              null|                     null|2024-05-09 16:06:...|\n",
       "|9e3916c62c16bd842...|Vice President - ...|  < 1 year|      MORTGAGE|      90000.0|           GA|          300xx|            USA|    A|       A2|    Source Verified|               321492.0|      Individual|              null|                     null|2024-05-09 16:06:...|\n",
       "+--------------------+--------------------+----------+--------------+-------------+-------------+---------------+---------------+-----+---------+-------------------+-----------------------+----------------+------------------+-------------------------+--------------------+\n",
       "only showing top 20 rows"
      ]
     },
     "execution_count": 61,
     "metadata": {},
     "output_type": "execute_result"
    }
   ],
   "source": [
    "spark.sql(\"select * from customers\")"
   ]
  },
  {
   "cell_type": "code",
   "execution_count": 62,
   "id": "7b66de94",
   "metadata": {},
   "outputs": [
    {
     "data": {
      "text/html": [
       "<table border='1'>\n",
       "<tr><th>count(1)</th></tr>\n",
       "<tr><td>5</td></tr>\n",
       "</table>\n"
      ],
      "text/plain": [
       "+--------+\n",
       "|count(1)|\n",
       "+--------+\n",
       "|       5|\n",
       "+--------+"
      ]
     },
     "execution_count": 62,
     "metadata": {},
     "output_type": "execute_result"
    }
   ],
   "source": [
    "spark.sql(\"select count(*) from customers where annual_income is null\")"
   ]
  },
  {
   "cell_type": "code",
   "execution_count": 63,
   "id": "7bdd57c6",
   "metadata": {},
   "outputs": [],
   "source": [
    "customers_income_filtered = spark.sql(\"select * from customers where annual_income is not null\")"
   ]
  },
  {
   "cell_type": "code",
   "execution_count": 64,
   "id": "bef96092",
   "metadata": {},
   "outputs": [],
   "source": [
    "customers_income_filtered.createOrReplaceTempView(\"customers\")"
   ]
  },
  {
   "cell_type": "code",
   "execution_count": 65,
   "id": "fd96d042",
   "metadata": {},
   "outputs": [
    {
     "data": {
      "text/html": [
       "<table border='1'>\n",
       "<tr><th>emp_length</th></tr>\n",
       "<tr><td>9 years</td></tr>\n",
       "<tr><td>5 years</td></tr>\n",
       "<tr><td>null</td></tr>\n",
       "<tr><td>1 year</td></tr>\n",
       "<tr><td>2 years</td></tr>\n",
       "<tr><td>7 years</td></tr>\n",
       "<tr><td>8 years</td></tr>\n",
       "<tr><td>4 years</td></tr>\n",
       "<tr><td>6 years</td></tr>\n",
       "<tr><td>3 years</td></tr>\n",
       "<tr><td>10+ years</td></tr>\n",
       "<tr><td>&lt; 1 year</td></tr>\n",
       "</table>\n"
      ],
      "text/plain": [
       "+----------+\n",
       "|emp_length|\n",
       "+----------+\n",
       "|   5 years|\n",
       "|   9 years|\n",
       "|      null|\n",
       "|    1 year|\n",
       "|   2 years|\n",
       "|   7 years|\n",
       "|   8 years|\n",
       "|   4 years|\n",
       "|   6 years|\n",
       "|   3 years|\n",
       "| 10+ years|\n",
       "|  < 1 year|\n",
       "+----------+"
      ]
     },
     "execution_count": 65,
     "metadata": {},
     "output_type": "execute_result"
    }
   ],
   "source": [
    "spark.sql(\"select distinct(emp_length) from customers\")"
   ]
  },
  {
   "cell_type": "code",
   "execution_count": 66,
   "id": "615d728f",
   "metadata": {},
   "outputs": [],
   "source": [
    "from pyspark.sql.functions import regexp_replace, col"
   ]
  },
  {
   "cell_type": "code",
   "execution_count": 67,
   "id": "f3cbd39e",
   "metadata": {},
   "outputs": [],
   "source": [
    "customers_emplength_cleaned = customers_income_filtered.withColumn(\"emp_length\", regexp_replace(col(\"emp_length\"),\"(\\D)\",\"\"))"
   ]
  },
  {
   "cell_type": "code",
   "execution_count": 68,
   "id": "0cc3d021",
   "metadata": {},
   "outputs": [
    {
     "data": {
      "text/html": [
       "<table border='1'>\n",
       "<tr><th>member_id</th><th>emp_title</th><th>emp_length</th><th>home_ownership</th><th>annual_income</th><th>address_state</th><th>address_zipcode</th><th>address_country</th><th>garde</th><th>sub_grade</th><th>verification_status</th><th>total_high_credit_limit</th><th>application_type</th><th>join_annual_income</th><th>verification_status_joint</th><th>ingest_date</th></tr>\n",
       "<tr><td>6410527350b772948...</td><td>registered nurse</td><td>2</td><td>OWN</td><td>100000.0</td><td>NC</td><td>275xx</td><td>USA</td><td>A</td><td>A2</td><td>Source Verified</td><td>63077.0</td><td>Individual</td><td>null</td><td>null</td><td>2024-05-09 16:06:...</td></tr>\n",
       "<tr><td>29d8a69f55cf83e86...</td><td>null</td><td>null</td><td>OWN</td><td>31740.0</td><td>OH</td><td>441xx</td><td>USA</td><td>D</td><td>D1</td><td>Not Verified</td><td>85470.0</td><td>Individual</td><td>null</td><td>null</td><td>2024-05-09 16:06:...</td></tr>\n",
       "<tr><td>0fd2bb17ff8ad6ee6...</td><td>Chef</td><td>3</td><td>RENT</td><td>60000.0</td><td>NY</td><td>112xx</td><td>USA</td><td>D</td><td>D2</td><td>Not Verified</td><td>28710.0</td><td>Individual</td><td>null</td><td>null</td><td>2024-05-09 16:06:...</td></tr>\n",
       "<tr><td>8cb07c74871bf096a...</td><td>Bellman</td><td>1</td><td>RENT</td><td>22000.0</td><td>CA</td><td>900xx</td><td>USA</td><td>F</td><td>F1</td><td>Verified</td><td>44666.0</td><td>Individual</td><td>null</td><td>null</td><td>2024-05-09 16:06:...</td></tr>\n",
       "<tr><td>9bfc6c707a0407b66...</td><td>Lead Tech Softwar...</td><td>5</td><td>RENT</td><td>150000.0</td><td>CA</td><td>949xx</td><td>USA</td><td>C</td><td>C5</td><td>Verified</td><td>155552.0</td><td>Individual</td><td>null</td><td>null</td><td>2024-05-09 16:06:...</td></tr>\n",
       "<tr><td>2d4d633b6cc68951e...</td><td>IT Business Relat...</td><td>1</td><td>MORTGAGE</td><td>85000.0</td><td>TX</td><td>794xx</td><td>USA</td><td>A</td><td>A1</td><td>Not Verified</td><td>180758.0</td><td>Individual</td><td>null</td><td>null</td><td>2024-05-09 16:06:...</td></tr>\n",
       "<tr><td>ebeee9cbae231a734...</td><td>Creative Director</td><td>10</td><td>MORTGAGE</td><td>200000.0</td><td>OH</td><td>439xx</td><td>USA</td><td>A</td><td>A1</td><td>Not Verified</td><td>290946.0</td><td>Individual</td><td>null</td><td>null</td><td>2024-05-09 16:06:...</td></tr>\n",
       "<tr><td>e08cc237781f4c899...</td><td>null</td><td>null</td><td>OWN</td><td>44000.0</td><td>NC</td><td>284xx</td><td>USA</td><td>B</td><td>B1</td><td>Source Verified</td><td>12000.0</td><td>Individual</td><td>null</td><td>null</td><td>2024-05-09 16:06:...</td></tr>\n",
       "<tr><td>eace77ddc9cadc471...</td><td>Paramedic</td><td>8</td><td>OWN</td><td>70000.0</td><td>MI</td><td>481xx</td><td>USA</td><td>C</td><td>C1</td><td>Not Verified</td><td>332782.0</td><td>Individual</td><td>null</td><td>null</td><td>2024-05-09 16:06:...</td></tr>\n",
       "<tr><td>bb5b79b6c4e6931c8...</td><td>Incident Manager</td><td>1</td><td>MORTGAGE</td><td>110000.0</td><td>TX</td><td>774xx</td><td>USA</td><td>B</td><td>B3</td><td>Verified</td><td>229751.0</td><td>Individual</td><td>null</td><td>null</td><td>2024-05-09 16:06:...</td></tr>\n",
       "<tr><td>1e02e2c627bd7003e...</td><td>Territory Sales R...</td><td>1</td><td>MORTGAGE</td><td>96000.0</td><td>OH</td><td>446xx</td><td>USA</td><td>B</td><td>B5</td><td>Source Verified</td><td>225747.0</td><td>Individual</td><td>null</td><td>null</td><td>2024-05-09 16:06:...</td></tr>\n",
       "<tr><td>8a8f95dc0da3addd4...</td><td>Technician</td><td>3</td><td>RENT</td><td>61000.0</td><td>CA</td><td>939xx</td><td>USA</td><td>B</td><td>B5</td><td>Source Verified</td><td>21000.0</td><td>Individual</td><td>null</td><td>null</td><td>2024-05-09 16:06:...</td></tr>\n",
       "<tr><td>3428d6c9bf548dd7b...</td><td>IT Project Manager</td><td>10</td><td>RENT</td><td>115000.0</td><td>IL</td><td>600xx</td><td>USA</td><td>B</td><td>B3</td><td>Not Verified</td><td>101452.0</td><td>Individual</td><td>null</td><td>null</td><td>2024-05-09 16:06:...</td></tr>\n",
       "<tr><td>2e0495e22a68943e6...</td><td>Finance Manager</td><td>10</td><td>OWN</td><td>84000.0</td><td>PA</td><td>190xx</td><td>USA</td><td>B</td><td>B1</td><td>Source Verified</td><td>333785.0</td><td>Individual</td><td>null</td><td>null</td><td>2024-05-09 16:06:...</td></tr>\n",
       "<tr><td>52ffef1c7ffedd02b...</td><td>AVP</td><td>1</td><td>RENT</td><td>126000.0</td><td>NY</td><td>100xx</td><td>USA</td><td>C</td><td>C3</td><td>Source Verified</td><td>49196.0</td><td>Individual</td><td>null</td><td>null</td><td>2024-05-09 16:06:...</td></tr>\n",
       "<tr><td>d64e35159e8d81d84...</td><td>Web Development M...</td><td>10</td><td>RENT</td><td>71000.0</td><td>ME</td><td>042xx</td><td>USA</td><td>A</td><td>A2</td><td>Not Verified</td><td>34800.0</td><td>Individual</td><td>null</td><td>null</td><td>2024-05-09 16:06:...</td></tr>\n",
       "<tr><td>69cff4a94dc5ad681...</td><td>Program Director</td><td>6</td><td>RENT</td><td>96000.0</td><td>NY</td><td>117xx</td><td>USA</td><td>C</td><td>C3</td><td>Verified</td><td>108936.0</td><td>Individual</td><td>null</td><td>null</td><td>2024-05-09 16:06:...</td></tr>\n",
       "<tr><td>6efaf0cc3b2483489...</td><td>Legal Assistant</td><td>2</td><td>MORTGAGE</td><td>65000.0</td><td>TX</td><td>773xx</td><td>USA</td><td>B</td><td>B2</td><td>Not Verified</td><td>107849.0</td><td>Individual</td><td>null</td><td>null</td><td>2024-05-09 16:06:...</td></tr>\n",
       "<tr><td>5b4b520fc159d8cde...</td><td>Sales Operations ...</td><td>7</td><td>MORTGAGE</td><td>75000.0</td><td>NJ</td><td>078xx</td><td>USA</td><td>A</td><td>A1</td><td>Not Verified</td><td>400954.0</td><td>Individual</td><td>null</td><td>null</td><td>2024-05-09 16:06:...</td></tr>\n",
       "<tr><td>53b6be4de4326901b...</td><td>Accountent</td><td>3</td><td>RENT</td><td>63000.0</td><td>CA</td><td>945xx</td><td>USA</td><td>A</td><td>A1</td><td>Source Verified</td><td>57801.0</td><td>Individual</td><td>null</td><td>null</td><td>2024-05-09 16:06:...</td></tr>\n",
       "</table>\n",
       "only showing top 20 rows\n"
      ],
      "text/plain": [
       "+--------------------+--------------------+----------+--------------+-------------+-------------+---------------+---------------+-----+---------+-------------------+-----------------------+----------------+------------------+-------------------------+--------------------+\n",
       "|           member_id|           emp_title|emp_length|home_ownership|annual_income|address_state|address_zipcode|address_country|garde|sub_grade|verification_status|total_high_credit_limit|application_type|join_annual_income|verification_status_joint|         ingest_date|\n",
       "+--------------------+--------------------+----------+--------------+-------------+-------------+---------------+---------------+-----+---------+-------------------+-----------------------+----------------+------------------+-------------------------+--------------------+\n",
       "|f3b07c359fa334fc9...|Director of Instr...|         4|      MORTGAGE|     117000.0|           AL|          358xx|            USA|    C|       C4|           Verified|               444393.0|      Individual|              null|                     null|2024-05-09 16:06:...|\n",
       "|7e885b3dde6417d7c...|            Shipping|         1|      MORTGAGE|      33000.0|           MN|          560xx|            USA|    B|       B1|           Verified|               129128.0|       Joint App|           65000.0|          Source Verified|2024-05-09 16:06:...|\n",
       "|ba6f31e233d84b2b3...|Maintenance engineer|         1|      MORTGAGE|      46000.0|           KS|          665xx|            USA|    A|       A4|    Source Verified|               108868.0|      Individual|              null|                     null|2024-05-09 16:06:...|\n",
       "|847adc9358966766c...|Administrative As...|        10|      MORTGAGE|      48000.0|           GA|          302xx|            USA|    B|       B5|    Source Verified|               208388.0|      Individual|              null|                     null|2024-05-09 16:06:...|\n",
       "|651f5e5409d03f88f...| Outreach Specialiat|         2|      MORTGAGE|      74500.0|           AR|          720xx|            USA|    C|       C4|           Verified|               341108.0|      Individual|              null|                     null|2024-05-09 16:06:...|\n",
       "|024f912d4e9fe761f...|Director Of Opera...|         2|          RENT|     140000.0|           NJ|          088xx|            USA|    C|       C4|       Not Verified|                88694.0|      Individual|              null|                     null|2024-05-09 16:06:...|\n",
       "|2f3e1829fc24a3993...|        med Kab tech|         9|      MORTGAGE|      60000.0|           FL|          325xx|            USA|    C|       C1|    Source Verified|               294546.0|      Individual|              null|                     null|2024-05-09 16:06:...|\n",
       "|c61bf719fc78ead42...|   Businesss Analyst|         1|      MORTGAGE|     103000.0|           NY|          117xx|            USA|    A|       A4|       Not Verified|               432440.0|      Individual|              null|                     null|2024-05-09 16:06:...|\n",
       "|e339422ea4c0f7ae1...|                null|      null|      MORTGAGE|      75000.0|           NC|          286xx|            USA|    A|       A3|       Not Verified|               248092.0|      Individual|              null|                     null|2024-05-09 16:06:...|\n",
       "|8fa2dd715bc743d19...| Cardiovascular Tech|         2|      MORTGAGE|     120000.0|           CA|          924xx|            USA|    A|       A1|       Not Verified|               385899.0|       Joint App|          165000.0|             Not Verified|2024-05-09 16:06:...|\n",
       "|32e67bf6df701613a...|           LEAD TEch|         7|          RENT|      85000.0|           NJ|          076xx|            USA|    D|       D3|           Verified|                62120.0|      Individual|              null|                     null|2024-05-09 16:06:...|\n",
       "|3999bcd98abef26fb...|       Service Clerk|        10|          RENT|      54000.0|           WA|          984xx|            USA|    E|       E1|    Source Verified|                42479.0|      Individual|              null|                     null|2024-05-09 16:06:...|\n",
       "|745044ec640f82bf8...|      Superintendent|        10|          RENT|      90000.0|           CA|          953xx|            USA|    A|       A3|       Not Verified|                42829.0|      Individual|              null|                     null|2024-05-09 16:06:...|\n",
       "|cf497ee042247664a...|         Fabrication|         6|      MORTGAGE|     100500.0|           WA|          981xx|            USA|    A|       A5|           Verified|               634838.0|      Individual|              null|                     null|2024-05-09 16:06:...|\n",
       "|9807f34c1d93080e8...|Jewelry Sales Ass...|         6|          RENT|      21500.0|           IN|          461xx|            USA|    C|       C5|    Source Verified|                34200.0|       Joint App|           47200.0|          Source Verified|2024-05-09 16:06:...|\n",
       "|1c87bdd9c14a8e331...|            Mechanic|        10|          RENT|      90000.0|           CA|          959xx|            USA|    C|       C3|    Source Verified|                61986.0|      Individual|              null|                     null|2024-05-09 16:06:...|\n",
       "|30ea4b1f0d135dcba...|Director of Food ...|         1|           OWN|     100000.0|           WI|          546xx|            USA|    B|       B2|    Source Verified|               285602.0|      Individual|              null|                     null|2024-05-09 16:06:...|\n",
       "|f8a9db85867d504b6...|    REGISTERED NURSE|         1|      MORTGAGE|      48000.0|           IL|          600xx|            USA|    A|       A3|       Not Verified|               111299.0|       Joint App|          118000.0|             Not Verified|2024-05-09 16:06:...|\n",
       "|ee89f59d5b5f8a995...|                null|         9|          RENT|      50000.0|           NV|          890xx|            USA|    B|       B5|    Source Verified|                13672.0|      Individual|              null|                     null|2024-05-09 16:06:...|\n",
       "|09d1dbf0ed3a86370...|                null|      null|          RENT|      22000.0|           OR|          973xx|            USA|    C|       C3|       Not Verified|                12100.0|      Individual|              null|                     null|2024-05-09 16:06:...|\n",
       "+--------------------+--------------------+----------+--------------+-------------+-------------+---------------+---------------+-----+---------+-------------------+-----------------------+----------------+------------------+-------------------------+--------------------+\n",
       "only showing top 20 rows"
      ]
     },
     "execution_count": 68,
     "metadata": {},
     "output_type": "execute_result"
    }
   ],
   "source": [
    "customers_emplength_cleaned"
   ]
  },
  {
   "cell_type": "code",
   "execution_count": 69,
   "id": "442c78c1",
   "metadata": {},
   "outputs": [
    {
     "name": "stdout",
     "output_type": "stream",
     "text": [
      "root\n",
      " |-- member_id: string (nullable = true)\n",
      " |-- emp_title: string (nullable = true)\n",
      " |-- emp_length: string (nullable = true)\n",
      " |-- home_ownership: string (nullable = true)\n",
      " |-- annual_income: float (nullable = true)\n",
      " |-- address_state: string (nullable = true)\n",
      " |-- address_zipcode: string (nullable = true)\n",
      " |-- address_country: string (nullable = true)\n",
      " |-- garde: string (nullable = true)\n",
      " |-- sub_grade: string (nullable = true)\n",
      " |-- verification_status: string (nullable = true)\n",
      " |-- total_high_credit_limit: float (nullable = true)\n",
      " |-- application_type: string (nullable = true)\n",
      " |-- join_annual_income: float (nullable = true)\n",
      " |-- verification_status_joint: string (nullable = true)\n",
      " |-- ingest_date: timestamp (nullable = false)\n",
      "\n"
     ]
    }
   ],
   "source": [
    "customers_emplength_cleaned.printSchema()"
   ]
  },
  {
   "cell_type": "code",
   "execution_count": 70,
   "id": "59b2973e",
   "metadata": {},
   "outputs": [],
   "source": [
    "customers_emplength_casted = customers_emplength_cleaned.withColumn(\"emp_length\",customers_emplength_cleaned.emp_length.cast('int'))"
   ]
  },
  {
   "cell_type": "code",
   "execution_count": 71,
   "id": "e1da146c",
   "metadata": {},
   "outputs": [
    {
     "data": {
      "text/html": [
       "<table border='1'>\n",
       "<tr><th>member_id</th><th>emp_title</th><th>emp_length</th><th>home_ownership</th><th>annual_income</th><th>address_state</th><th>address_zipcode</th><th>address_country</th><th>garde</th><th>sub_grade</th><th>verification_status</th><th>total_high_credit_limit</th><th>application_type</th><th>join_annual_income</th><th>verification_status_joint</th><th>ingest_date</th></tr>\n",
       "<tr><td>eeca6b4d1ac8cd642...</td><td>null</td><td>null</td><td>RENT</td><td>79000.0</td><td>TX</td><td>750xx</td><td>USA</td><td>B</td><td>B3</td><td>Verified</td><td>48437.0</td><td>Individual</td><td>null</td><td>null</td><td>2024-05-09 16:07:...</td></tr>\n",
       "<tr><td>ece0b0ee4d691a8ed...</td><td>pres</td><td>10</td><td>OWN</td><td>120000.0</td><td>NY</td><td>125xx</td><td>USA</td><td>B</td><td>B4</td><td>Not Verified</td><td>26941.0</td><td>Individual</td><td>null</td><td>null</td><td>2024-05-09 16:07:...</td></tr>\n",
       "<tr><td>dc3a1e7e6fb6fe0d5...</td><td>Teacher</td><td>2</td><td>MORTGAGE</td><td>58600.0</td><td>TX</td><td>775xx</td><td>USA</td><td>A</td><td>A4</td><td>Verified</td><td>287856.0</td><td>Individual</td><td>null</td><td>null</td><td>2024-05-09 16:07:...</td></tr>\n",
       "<tr><td>9f9a0bdf4175a3d6c...</td><td>Payroll Manager</td><td>10</td><td>MORTGAGE</td><td>102000.0</td><td>SC</td><td>297xx</td><td>USA</td><td>C</td><td>C1</td><td>Not Verified</td><td>516663.0</td><td>Individual</td><td>null</td><td>null</td><td>2024-05-09 16:07:...</td></tr>\n",
       "<tr><td>c468374ccb1034e7a...</td><td>Vice President</td><td>10</td><td>MORTGAGE</td><td>115000.0</td><td>IL</td><td>606xx</td><td>USA</td><td>A</td><td>A3</td><td>Not Verified</td><td>262883.0</td><td>Individual</td><td>null</td><td>null</td><td>2024-05-09 16:07:...</td></tr>\n",
       "<tr><td>54578aa9e7b50e54c...</td><td>Vice President EPMO</td><td>2</td><td>RENT</td><td>235000.0</td><td>CA</td><td>951xx</td><td>USA</td><td>B</td><td>B2</td><td>Source Verified</td><td>61776.0</td><td>Individual</td><td>null</td><td>null</td><td>2024-05-09 16:07:...</td></tr>\n",
       "<tr><td>8f6ee5ddfa85cd88f...</td><td>Clinical Administ...</td><td>2</td><td>OWN</td><td>100000.0</td><td>LA</td><td>703xx</td><td>USA</td><td>D</td><td>D3</td><td>Source Verified</td><td>177892.0</td><td>Individual</td><td>null</td><td>null</td><td>2024-05-09 16:07:...</td></tr>\n",
       "<tr><td>c6d9ce637fe8456bd...</td><td>null</td><td>null</td><td>OWN</td><td>20000.0</td><td>MI</td><td>480xx</td><td>USA</td><td>A</td><td>A4</td><td>Not Verified</td><td>11800.0</td><td>Joint App</td><td>55000.0</td><td>Not Verified</td><td>2024-05-09 16:07:...</td></tr>\n",
       "<tr><td>3068004a2dc1b3edf...</td><td>Manager</td><td>1</td><td>MORTGAGE</td><td>57500.0</td><td>TX</td><td>775xx</td><td>USA</td><td>B</td><td>B2</td><td>Verified</td><td>47000.0</td><td>Individual</td><td>null</td><td>null</td><td>2024-05-09 16:07:...</td></tr>\n",
       "<tr><td>c8d484bec577587d8...</td><td>null</td><td>null</td><td>MORTGAGE</td><td>8880.0</td><td>OR</td><td>973xx</td><td>USA</td><td>C</td><td>C5</td><td>Verified</td><td>149652.0</td><td>Joint App</td><td>59680.0</td><td>Source Verified</td><td>2024-05-09 16:07:...</td></tr>\n",
       "<tr><td>72b9a0a51470c3b83...</td><td>customer service ...</td><td>10</td><td>MORTGAGE</td><td>31000.0</td><td>FL</td><td>329xx</td><td>USA</td><td>A</td><td>A5</td><td>Verified</td><td>66732.0</td><td>Individual</td><td>null</td><td>null</td><td>2024-05-09 16:07:...</td></tr>\n",
       "<tr><td>f3203d4aabaadb9ed...</td><td>null</td><td>null</td><td>MORTGAGE</td><td>108096.0</td><td>CA</td><td>908xx</td><td>USA</td><td>A</td><td>A3</td><td>Source Verified</td><td>96948.0</td><td>Individual</td><td>null</td><td>null</td><td>2024-05-09 16:07:...</td></tr>\n",
       "<tr><td>06bc5f7385a21b345...</td><td>GENERAL SALES MAN...</td><td>5</td><td>MORTGAGE</td><td>66000.0</td><td>OH</td><td>454xx</td><td>USA</td><td>A</td><td>A1</td><td>Source Verified</td><td>95568.0</td><td>Individual</td><td>null</td><td>null</td><td>2024-05-09 16:07:...</td></tr>\n",
       "<tr><td>48d0681b8fd1aef08...</td><td>Residency Coordin...</td><td>10</td><td>MORTGAGE</td><td>103000.0</td><td>TX</td><td>770xx</td><td>USA</td><td>D</td><td>D2</td><td>Source Verified</td><td>337106.0</td><td>Individual</td><td>null</td><td>null</td><td>2024-05-09 16:07:...</td></tr>\n",
       "<tr><td>3e8bf650b3d9f14ef...</td><td>Associate professor</td><td>4</td><td>MORTGAGE</td><td>80000.0</td><td>NC</td><td>284xx</td><td>USA</td><td>A</td><td>A3</td><td>Not Verified</td><td>237210.0</td><td>Joint App</td><td>172000.0</td><td>Not Verified</td><td>2024-05-09 16:07:...</td></tr>\n",
       "<tr><td>cabf70dedf4692842...</td><td>null</td><td>null</td><td>OWN</td><td>42000.0</td><td>NC</td><td>283xx</td><td>USA</td><td>B</td><td>B1</td><td>Not Verified</td><td>34568.0</td><td>Individual</td><td>null</td><td>null</td><td>2024-05-09 16:07:...</td></tr>\n",
       "<tr><td>30e6b83af31486ec1...</td><td>Gate guard</td><td>4</td><td>RENT</td><td>25000.0</td><td>CA</td><td>922xx</td><td>USA</td><td>C</td><td>C2</td><td>Source Verified</td><td>41734.0</td><td>Individual</td><td>null</td><td>null</td><td>2024-05-09 16:07:...</td></tr>\n",
       "<tr><td>ded91336806693496...</td><td>Project Manager</td><td>1</td><td>RENT</td><td>122500.0</td><td>CA</td><td>945xx</td><td>USA</td><td>C</td><td>C5</td><td>Not Verified</td><td>104012.0</td><td>Individual</td><td>null</td><td>null</td><td>2024-05-09 16:07:...</td></tr>\n",
       "<tr><td>a162e2ddf7aa08ac9...</td><td>Mechanic</td><td>1</td><td>MORTGAGE</td><td>26000.0</td><td>VA</td><td>240xx</td><td>USA</td><td>D</td><td>D1</td><td>Not Verified</td><td>255185.0</td><td>Joint App</td><td>102000.0</td><td>Not Verified</td><td>2024-05-09 16:07:...</td></tr>\n",
       "<tr><td>539ffaa718e7dfb16...</td><td>Accountant</td><td>10</td><td>MORTGAGE</td><td>50000.0</td><td>KS</td><td>670xx</td><td>USA</td><td>C</td><td>C4</td><td>Not Verified</td><td>213387.0</td><td>Individual</td><td>null</td><td>null</td><td>2024-05-09 16:07:...</td></tr>\n",
       "</table>\n",
       "only showing top 20 rows\n"
      ],
      "text/plain": [
       "+--------------------+--------------------+----------+--------------+-------------+-------------+---------------+---------------+-----+---------+-------------------+-----------------------+----------------+------------------+-------------------------+--------------------+\n",
       "|           member_id|           emp_title|emp_length|home_ownership|annual_income|address_state|address_zipcode|address_country|garde|sub_grade|verification_status|total_high_credit_limit|application_type|join_annual_income|verification_status_joint|         ingest_date|\n",
       "+--------------------+--------------------+----------+--------------+-------------+-------------+---------------+---------------+-----+---------+-------------------+-----------------------+----------------+------------------+-------------------------+--------------------+\n",
       "|916d0143fc0db4adb...|     Area Supervisor|        10|      MORTGAGE|      63000.0|           MO|          639xx|            USA|    A|       A4|       Not Verified|               214753.0|      Individual|              null|                     null|2024-05-09 16:07:...|\n",
       "|a53e9806a4cddd5cc...|ACCOUNTS RECEIVABLES|         5|          RENT|      41086.0|           CA|          927xx|            USA|    D|       D5|    Source Verified|                62006.0|      Individual|              null|                     null|2024-05-09 16:07:...|\n",
       "|ebcb8ce874144fb42...|       Sales Manager|        10|          RENT|      90000.0|           FL|          328xx|            USA|    D|       D5|    Source Verified|                77007.0|      Individual|              null|                     null|2024-05-09 16:07:...|\n",
       "|c1f41c095052d3630...|Senior Claims Ana...|         9|          RENT|      54000.0|           CA|          957xx|            USA|    C|       C2|    Source Verified|                26757.0|      Individual|              null|                     null|2024-05-09 16:07:...|\n",
       "|a217bf90d6b37559c...|             Gen Mgr|        10|      MORTGAGE|      60000.0|           CO|          800xx|            USA|    B|       B4|    Source Verified|               364525.0|      Individual|              null|                     null|2024-05-09 16:07:...|\n",
       "|cc896655554bdbda2...| Sr. Account Manager|        10|      MORTGAGE|     100090.0|           KS|          662xx|            USA|    A|       A4|       Not Verified|               347781.0|      Individual|              null|                     null|2024-05-09 16:07:...|\n",
       "|49454b929e90524af...|            AMI Tech|        10|      MORTGAGE|      95000.0|           CO|          805xx|            USA|    A|       A3|       Not Verified|               470088.0|      Individual|              null|                     null|2024-05-09 16:07:...|\n",
       "|d5a8f1639365f8554...|                Cook|         2|          RENT|      27000.0|           IL|          617xx|            USA|    B|       B4|    Source Verified|                24010.0|      Individual|              null|                     null|2024-05-09 16:07:...|\n",
       "|8015a2610326e2522...|    Registered Nurse|        10|      MORTGAGE|      70200.0|           IN|          475xx|            USA|    D|       D1|       Not Verified|               155463.0|      Individual|              null|                     null|2024-05-09 16:07:...|\n",
       "|b85cca80654e4295c...|           Counselor|         1|      MORTGAGE|      80000.0|           AZ|          851xx|            USA|    D|       D5|    Source Verified|               261084.0|      Individual|              null|                     null|2024-05-09 16:07:...|\n",
       "|d6552ae71a84a2a37...|       Sr II Analyst|         4|      MORTGAGE|      90000.0|           NY|          109xx|            USA|    D|       D1|    Source Verified|                53494.0|      Individual|              null|                     null|2024-05-09 16:07:...|\n",
       "|5b35d386d552b9f57...|                 Csr|         8|          RENT|      43000.0|           NY|          112xx|            USA|    B|       B5|    Source Verified|                29000.0|      Individual|              null|                     null|2024-05-09 16:07:...|\n",
       "|d5e3bdda3f695391f...|                null|      null|      MORTGAGE|      47839.0|           NY|          105xx|            USA|    B|       B2|    Source Verified|                25600.0|      Individual|              null|                     null|2024-05-09 16:07:...|\n",
       "|70bda36c2a876b9fc...|              Labour|        10|           OWN|      55000.0|           GA|          316xx|            USA|    C|       C2|       Not Verified|                36298.0|      Individual|              null|                     null|2024-05-09 16:07:...|\n",
       "|8f8e0d4b345e38b32...|                null|        10|          RENT|      55000.0|           VA|          224xx|            USA|    C|       C2|       Not Verified|                35304.0|      Individual|              null|                     null|2024-05-09 16:07:...|\n",
       "|168b6c5039bc5bebc...|  Benefit specialist|         2|           OWN|      36500.0|           CO|          802xx|            USA|    A|       A5|       Not Verified|                42800.0|      Individual|              null|                     null|2024-05-09 16:07:...|\n",
       "|d2774368aa95cbec2...|Manufacturing For...|        10|           OWN|     102000.0|           NY|          121xx|            USA|    E|       E2|           Verified|                30000.0|      Individual|              null|                     null|2024-05-09 16:07:...|\n",
       "|2cc04c06dca15b5a9...|        Truck driver|         3|          RENT|      78000.0|           CA|          937xx|            USA|    C|       C3|    Source Verified|                40200.0|      Individual|              null|                     null|2024-05-09 16:07:...|\n",
       "|4128ef887698acecf...|            Handyman|        10|          RENT|      56000.0|           NY|          114xx|            USA|    A|       A3|    Source Verified|                46518.0|      Individual|              null|                     null|2024-05-09 16:07:...|\n",
       "|1e1990be3c597e478...| Knitting Instructor|         4|      MORTGAGE|       3600.0|           AR|          726xx|            USA|    B|       B2|       Not Verified|               411954.0|       Joint App|          220600.0|             Not Verified|2024-05-09 16:07:...|\n",
       "+--------------------+--------------------+----------+--------------+-------------+-------------+---------------+---------------+-----+---------+-------------------+-----------------------+----------------+------------------+-------------------------+--------------------+\n",
       "only showing top 20 rows"
      ]
     },
     "execution_count": 71,
     "metadata": {},
     "output_type": "execute_result"
    }
   ],
   "source": [
    "customers_emplength_casted"
   ]
  },
  {
   "cell_type": "code",
   "execution_count": 72,
   "id": "f810b4ce",
   "metadata": {},
   "outputs": [
    {
     "name": "stdout",
     "output_type": "stream",
     "text": [
      "root\n",
      " |-- member_id: string (nullable = true)\n",
      " |-- emp_title: string (nullable = true)\n",
      " |-- emp_length: integer (nullable = true)\n",
      " |-- home_ownership: string (nullable = true)\n",
      " |-- annual_income: float (nullable = true)\n",
      " |-- address_state: string (nullable = true)\n",
      " |-- address_zipcode: string (nullable = true)\n",
      " |-- address_country: string (nullable = true)\n",
      " |-- garde: string (nullable = true)\n",
      " |-- sub_grade: string (nullable = true)\n",
      " |-- verification_status: string (nullable = true)\n",
      " |-- total_high_credit_limit: float (nullable = true)\n",
      " |-- application_type: string (nullable = true)\n",
      " |-- join_annual_income: float (nullable = true)\n",
      " |-- verification_status_joint: string (nullable = true)\n",
      " |-- ingest_date: timestamp (nullable = false)\n",
      "\n"
     ]
    }
   ],
   "source": [
    "customers_emplength_casted.printSchema()"
   ]
  },
  {
   "cell_type": "code",
   "execution_count": 73,
   "id": "00806163",
   "metadata": {},
   "outputs": [
    {
     "data": {
      "text/plain": [
       "146903"
      ]
     },
     "execution_count": 73,
     "metadata": {},
     "output_type": "execute_result"
    }
   ],
   "source": [
    "customers_emplength_casted.filter(\"emp_length is null\").count()"
   ]
  },
  {
   "cell_type": "code",
   "execution_count": 74,
   "id": "98901e1f",
   "metadata": {},
   "outputs": [],
   "source": [
    "customers_emplength_casted.createOrReplaceTempView(\"customers\")"
   ]
  },
  {
   "cell_type": "code",
   "execution_count": 75,
   "id": "77535ce1",
   "metadata": {},
   "outputs": [],
   "source": [
    "avg_emp_length = spark.sql(\"select floor(avg(emp_length)) as avg_emp_legnth from customers\").collect()"
   ]
  },
  {
   "cell_type": "code",
   "execution_count": 76,
   "id": "fb5c0ca0",
   "metadata": {},
   "outputs": [
    {
     "name": "stdout",
     "output_type": "stream",
     "text": [
      "[Row(avg_emp_legnth=6)]\n"
     ]
    }
   ],
   "source": [
    "print(avg_emp_length)"
   ]
  },
  {
   "cell_type": "code",
   "execution_count": 77,
   "id": "a3b776ac",
   "metadata": {},
   "outputs": [],
   "source": [
    "avg_emp_duration = avg_emp_length[0][0]"
   ]
  },
  {
   "cell_type": "code",
   "execution_count": 78,
   "id": "69b899fe",
   "metadata": {},
   "outputs": [
    {
     "name": "stdout",
     "output_type": "stream",
     "text": [
      "6\n"
     ]
    }
   ],
   "source": [
    "print(avg_emp_duration)"
   ]
  },
  {
   "cell_type": "code",
   "execution_count": 79,
   "id": "68b08a20",
   "metadata": {},
   "outputs": [],
   "source": [
    "customers_emplength_replaced = customers_emplength_casted.na.fill(avg_emp_duration, subset=['emp_length'])"
   ]
  },
  {
   "cell_type": "code",
   "execution_count": 80,
   "id": "84ecdd25",
   "metadata": {},
   "outputs": [
    {
     "data": {
      "text/html": [
       "<table border='1'>\n",
       "<tr><th>member_id</th><th>emp_title</th><th>emp_length</th><th>home_ownership</th><th>annual_income</th><th>address_state</th><th>address_zipcode</th><th>address_country</th><th>garde</th><th>sub_grade</th><th>verification_status</th><th>total_high_credit_limit</th><th>application_type</th><th>join_annual_income</th><th>verification_status_joint</th><th>ingest_date</th></tr>\n",
       "<tr><td>a3e139d8f9d122712...</td><td>Lawyer</td><td>1</td><td>RENT</td><td>110000.0</td><td>LA</td><td>700xx</td><td>USA</td><td>C</td><td>C5</td><td>Source Verified</td><td>150894.0</td><td>Individual</td><td>null</td><td>null</td><td>2024-05-09 16:07:...</td></tr>\n",
       "<tr><td>22333a8199c49325c...</td><td>Accountant</td><td>3</td><td>OWN</td><td>60000.0</td><td>NC</td><td>280xx</td><td>USA</td><td>B</td><td>B1</td><td>Source Verified</td><td>284869.0</td><td>Individual</td><td>null</td><td>null</td><td>2024-05-09 16:07:...</td></tr>\n",
       "<tr><td>60fe3ad196370baf0...</td><td>Logistics Supervisor</td><td>6</td><td>MORTGAGE</td><td>141000.0</td><td>VA</td><td>239xx</td><td>USA</td><td>C</td><td>C5</td><td>Source Verified</td><td>62070.0</td><td>Individual</td><td>null</td><td>null</td><td>2024-05-09 16:07:...</td></tr>\n",
       "<tr><td>07f91e75e9a7349e4...</td><td>Enlisted/E6</td><td>10</td><td>MORTGAGE</td><td>96000.0</td><td>CA</td><td>925xx</td><td>USA</td><td>E</td><td>E3</td><td>Source Verified</td><td>513693.0</td><td>Individual</td><td>null</td><td>null</td><td>2024-05-09 16:07:...</td></tr>\n",
       "<tr><td>473f7b889d7df58e7...</td><td>Global Operations...</td><td>6</td><td>MORTGAGE</td><td>150000.0</td><td>TX</td><td>773xx</td><td>USA</td><td>C</td><td>C5</td><td>Verified</td><td>381336.0</td><td>Individual</td><td>null</td><td>null</td><td>2024-05-09 16:07:...</td></tr>\n",
       "<tr><td>dce5a226c88143a98...</td><td>Baillif</td><td>8</td><td>RENT</td><td>46000.0</td><td>OH</td><td>440xx</td><td>USA</td><td>C</td><td>C3</td><td>Source Verified</td><td>62383.0</td><td>Individual</td><td>null</td><td>null</td><td>2024-05-09 16:07:...</td></tr>\n",
       "<tr><td>be3ecb846e5173c41...</td><td>Senior Consultant</td><td>10</td><td>MORTGAGE</td><td>144000.0</td><td>KY</td><td>411xx</td><td>USA</td><td>C</td><td>C3</td><td>Not Verified</td><td>333115.0</td><td>Individual</td><td>null</td><td>null</td><td>2024-05-09 16:07:...</td></tr>\n",
       "<tr><td>bea9b9a875a4d559a...</td><td>Medical Coder</td><td>5</td><td>OWN</td><td>64000.0</td><td>NV</td><td>890xx</td><td>USA</td><td>C</td><td>C3</td><td>Verified</td><td>265170.0</td><td>Individual</td><td>null</td><td>null</td><td>2024-05-09 16:07:...</td></tr>\n",
       "<tr><td>4f0f31c1f334e82b9...</td><td>Registered Nurse</td><td>9</td><td>MORTGAGE</td><td>73905.0</td><td>AZ</td><td>857xx</td><td>USA</td><td>B</td><td>B2</td><td>Not Verified</td><td>369168.0</td><td>Individual</td><td>null</td><td>null</td><td>2024-05-09 16:07:...</td></tr>\n",
       "<tr><td>4364124ff8ffeecf7...</td><td>Investment Consul...</td><td>9</td><td>MORTGAGE</td><td>47500.0</td><td>AZ</td><td>852xx</td><td>USA</td><td>C</td><td>C5</td><td>Verified</td><td>277147.0</td><td>Individual</td><td>null</td><td>null</td><td>2024-05-09 16:07:...</td></tr>\n",
       "<tr><td>1e3053f1ab425ea13...</td><td>Senior auditor</td><td>2</td><td>RENT</td><td>84000.0</td><td>NY</td><td>112xx</td><td>USA</td><td>B</td><td>B3</td><td>Not Verified</td><td>173828.0</td><td>Individual</td><td>null</td><td>null</td><td>2024-05-09 16:07:...</td></tr>\n",
       "<tr><td>a3ff743d6f01e73e0...</td><td>Loan processr</td><td>3</td><td>MORTGAGE</td><td>51000.0</td><td>IL</td><td>601xx</td><td>USA</td><td>G</td><td>G4</td><td>Source Verified</td><td>37629.0</td><td>Individual</td><td>null</td><td>null</td><td>2024-05-09 16:07:...</td></tr>\n",
       "<tr><td>bfe9a39109fdee9f6...</td><td>Ultasound Technol...</td><td>10</td><td>RENT</td><td>83000.0</td><td>OH</td><td>440xx</td><td>USA</td><td>D</td><td>D2</td><td>Verified</td><td>90013.0</td><td>Individual</td><td>null</td><td>null</td><td>2024-05-09 16:07:...</td></tr>\n",
       "<tr><td>a5292aa2a64f85284...</td><td>Automation Clerk</td><td>10</td><td>MORTGAGE</td><td>65000.0</td><td>MN</td><td>553xx</td><td>USA</td><td>B</td><td>B5</td><td>Source Verified</td><td>174057.0</td><td>Individual</td><td>null</td><td>null</td><td>2024-05-09 16:07:...</td></tr>\n",
       "<tr><td>8b6a661373f4b40fd...</td><td>Exec. Chef</td><td>3</td><td>OWN</td><td>40000.0</td><td>NJ</td><td>082xx</td><td>USA</td><td>D</td><td>D3</td><td>Verified</td><td>39159.0</td><td>Individual</td><td>null</td><td>null</td><td>2024-05-09 16:07:...</td></tr>\n",
       "<tr><td>69e83b51fa8ce5ece...</td><td>Trainer</td><td>1</td><td>RENT</td><td>48000.0</td><td>FL</td><td>333xx</td><td>USA</td><td>C</td><td>C5</td><td>Source Verified</td><td>63888.0</td><td>Individual</td><td>null</td><td>null</td><td>2024-05-09 16:07:...</td></tr>\n",
       "<tr><td>4339bbb35a6a4a84f...</td><td>Line Leader</td><td>10</td><td>MORTGAGE</td><td>100000.0</td><td>NM</td><td>871xx</td><td>USA</td><td>C</td><td>C5</td><td>Verified</td><td>352286.0</td><td>Individual</td><td>null</td><td>null</td><td>2024-05-09 16:07:...</td></tr>\n",
       "<tr><td>5b91b4b1efe8be92c...</td><td>Executive Admin A...</td><td>7</td><td>RENT</td><td>55000.0</td><td>MD</td><td>212xx</td><td>USA</td><td>A</td><td>A1</td><td>Not Verified</td><td>121081.0</td><td>Individual</td><td>null</td><td>null</td><td>2024-05-09 16:07:...</td></tr>\n",
       "<tr><td>690473060e2321a47...</td><td>PTA</td><td>4</td><td>MORTGAGE</td><td>53000.0</td><td>MO</td><td>638xx</td><td>USA</td><td>B</td><td>B1</td><td>Not Verified</td><td>222931.0</td><td>Individual</td><td>null</td><td>null</td><td>2024-05-09 16:07:...</td></tr>\n",
       "<tr><td>c0afa6947d475ee25...</td><td>Assistant Director</td><td>1</td><td>OWN</td><td>55000.0</td><td>NY</td><td>112xx</td><td>USA</td><td>D</td><td>D1</td><td>Source Verified</td><td>593849.0</td><td>Individual</td><td>null</td><td>null</td><td>2024-05-09 16:07:...</td></tr>\n",
       "</table>\n",
       "only showing top 20 rows\n"
      ],
      "text/plain": [
       "+--------------------+--------------------+----------+--------------+-------------+-------------+---------------+---------------+-----+---------+-------------------+-----------------------+----------------+------------------+-------------------------+--------------------+\n",
       "|           member_id|           emp_title|emp_length|home_ownership|annual_income|address_state|address_zipcode|address_country|garde|sub_grade|verification_status|total_high_credit_limit|application_type|join_annual_income|verification_status_joint|         ingest_date|\n",
       "+--------------------+--------------------+----------+--------------+-------------+-------------+---------------+---------------+-----+---------+-------------------+-----------------------+----------------+------------------+-------------------------+--------------------+\n",
       "|e513532dc77e98189...|         IT Director|         9|      MORTGAGE|     158551.0|           PA|          190xx|            USA|    C|       C2|           Verified|               414267.0|      Individual|              null|                     null|2024-05-09 16:07:...|\n",
       "|235d3cfd2ca42a2e4...|Regional Marketin...|         1|      MORTGAGE|      55200.0|           GA|          303xx|            USA|    B|       B4|       Not Verified|               199054.0|      Individual|              null|                     null|2024-05-09 16:07:...|\n",
       "|0e2c70720855ef6d6...|Unit Accountant/F...|        10|      MORTGAGE|      64000.0|           PA|          152xx|            USA|    B|       B4|    Source Verified|                83297.0|      Individual|              null|                     null|2024-05-09 16:07:...|\n",
       "|f64f5ecca5b9d3325...|             billing|         9|      MORTGAGE|      55000.0|           NJ|          080xx|            USA|    C|       C1|    Source Verified|               208558.0|      Individual|              null|                     null|2024-05-09 16:07:...|\n",
       "|b1ed3eb1316458212...|Practice transfor...|         1|      MORTGAGE|      91800.0|           NM|          871xx|            USA|    A|       A3|       Not Verified|               432535.0|      Individual|              null|                     null|2024-05-09 16:07:...|\n",
       "|25f31f8b5f7d8b872...|Service Writer/Ma...|         2|      MORTGAGE|      90000.0|           PA|          150xx|            USA|    C|       C4|       Not Verified|               188143.0|      Individual|              null|                     null|2024-05-09 16:07:...|\n",
       "|6e1bf16e393a39e9e...|             MANAGER|        10|      MORTGAGE|      55000.0|           PA|          190xx|            USA|    B|       B5|       Not Verified|                40004.0|      Individual|              null|                     null|2024-05-09 16:07:...|\n",
       "|61b664ccd3cb456d5...|    Security Officer|         5|          RENT|      84000.0|           NY|          104xx|            USA|    B|       B4|    Source Verified|                27225.0|      Individual|              null|                     null|2024-05-09 16:07:...|\n",
       "|eb4dcdbbbea921015...|                  IT|         4|      MORTGAGE|     160000.0|           AL|          352xx|            USA|    B|       B1|       Not Verified|               336274.0|      Individual|              null|                     null|2024-05-09 16:07:...|\n",
       "|84954c785504d677d...|              Writer|         4|      MORTGAGE|      47250.0|           SD|          571xx|            USA|    A|       A3|       Not Verified|               245267.0|      Individual|              null|                     null|2024-05-09 16:07:...|\n",
       "|eafcf5fc3eefbde70...|                null|         6|           OWN|     100000.0|           NY|          117xx|            USA|    A|       A1|       Not Verified|               438198.0|      Individual|              null|                     null|2024-05-09 16:07:...|\n",
       "|f44130395a8adf2eb...|                null|         6|          RENT|      28500.0|           NJ|          086xx|            USA|    E|       E2|           Verified|                48000.0|      Individual|              null|                     null|2024-05-09 16:07:...|\n",
       "|9cfff193d820d1d36...|    District Manager|         9|          RENT|      76000.0|           CA|          945xx|            USA|    B|       B4|       Not Verified|                30976.0|      Individual|              null|                     null|2024-05-09 16:07:...|\n",
       "|dba407513002784c3...|           Paralegal|        10|      MORTGAGE|      43260.0|           TX|          750xx|            USA|    B|       B4|       Not Verified|               120277.0|      Individual|              null|                     null|2024-05-09 16:07:...|\n",
       "|fea3e2deb5f0d4169...|    Property Manager|        10|           OWN|      70000.0|           NC|          276xx|            USA|    B|       B4|    Source Verified|                29443.0|      Individual|              null|                     null|2024-05-09 16:07:...|\n",
       "|bb270d7800859e9e4...|             Partner|         6|      MORTGAGE|     250000.0|           GA|          302xx|            USA|    A|       A2|           Verified|              1006925.0|      Individual|              null|                     null|2024-05-09 16:07:...|\n",
       "|5db2d056e18f10a29...|        Assistant GM|         1|           OWN|      80000.0|           TX|          750xx|            USA|    C|       C1|       Not Verified|               187520.0|      Individual|              null|                     null|2024-05-09 16:07:...|\n",
       "|cb05ab9956381d48e...|    Transcriptionist|         4|          RENT|      25000.0|           MT|          593xx|            USA|    D|       D2|           Verified|                68775.0|      Individual|              null|                     null|2024-05-09 16:07:...|\n",
       "|f816cca194ddba2c4...|       Salon Manager|         2|           OWN|      60000.0|           WV|          259xx|            USA|    B|       B3|       Not Verified|                67065.0|      Individual|              null|                     null|2024-05-09 16:07:...|\n",
       "|42118cc7d741f29df...|            Educator|        10|      MORTGAGE|      70000.0|           WV|          255xx|            USA|    C|       C3|    Source Verified|               240229.0|      Individual|              null|                     null|2024-05-09 16:07:...|\n",
       "+--------------------+--------------------+----------+--------------+-------------+-------------+---------------+---------------+-----+---------+-------------------+-----------------------+----------------+------------------+-------------------------+--------------------+\n",
       "only showing top 20 rows"
      ]
     },
     "execution_count": 80,
     "metadata": {},
     "output_type": "execute_result"
    }
   ],
   "source": [
    "customers_emplength_replaced"
   ]
  },
  {
   "cell_type": "code",
   "execution_count": 81,
   "id": "a06109f3",
   "metadata": {},
   "outputs": [
    {
     "data": {
      "text/plain": [
       "0"
      ]
     },
     "execution_count": 81,
     "metadata": {},
     "output_type": "execute_result"
    }
   ],
   "source": [
    "customers_emplength_replaced.filter(\"emp_length is null\").count()"
   ]
  },
  {
   "cell_type": "code",
   "execution_count": 82,
   "id": "550684de",
   "metadata": {},
   "outputs": [],
   "source": [
    "customers_emplength_replaced.createOrReplaceTempView(\"customers\")"
   ]
  },
  {
   "cell_type": "code",
   "execution_count": 83,
   "id": "6b43d1c6",
   "metadata": {},
   "outputs": [
    {
     "data": {
      "text/html": [
       "<table border='1'>\n",
       "<tr><th>address_state</th></tr>\n",
       "<tr><td>Helping Kenya&#x27;s D...</td></tr>\n",
       "<tr><td>223xx</td></tr>\n",
       "<tr><td>175 (total projec...</td></tr>\n",
       "<tr><td>SC</td></tr>\n",
       "<tr><td>AZ</td></tr>\n",
       "<tr><td>so Plan &quot;&quot;C&quot;&quot; is ...</td></tr>\n",
       "<tr><td>I am 56 yrs. old ...</td></tr>\n",
       "<tr><td>financially I mad...</td></tr>\n",
       "<tr><td>but no one will l...</td></tr>\n",
       "<tr><td>LA</td></tr>\n",
       "<tr><td>etc.  First</td></tr>\n",
       "<tr><td>MN</td></tr>\n",
       "<tr><td>850xx</td></tr>\n",
       "<tr><td>499xx</td></tr>\n",
       "<tr><td>yet Capital One n...</td></tr>\n",
       "<tr><td>Advocate business...</td></tr>\n",
       "<tr><td>Eliminating Credi...</td></tr>\n",
       "<tr><td>and MBA&#x27;s are ove...</td></tr>\n",
       "<tr><td>951xx</td></tr>\n",
       "<tr><td>662xx</td></tr>\n",
       "</table>\n",
       "only showing top 20 rows\n"
      ],
      "text/plain": [
       "+--------------------+\n",
       "|       address_state|\n",
       "+--------------------+\n",
       "|Helping Kenya's D...|\n",
       "|175 (total projec...|\n",
       "|               223xx|\n",
       "|                  SC|\n",
       "|                  AZ|\n",
       "|so Plan \"\"C\"\" is ...|\n",
       "|I am 56 yrs. old ...|\n",
       "|financially I mad...|\n",
       "|but no one will l...|\n",
       "|                  LA|\n",
       "|         etc.  First|\n",
       "|                  MN|\n",
       "|               499xx|\n",
       "|               850xx|\n",
       "|yet Capital One n...|\n",
       "|and MBA's are ove...|\n",
       "|Advocate business...|\n",
       "|Eliminating Credi...|\n",
       "|               951xx|\n",
       "|               662xx|\n",
       "+--------------------+\n",
       "only showing top 20 rows"
      ]
     },
     "execution_count": 83,
     "metadata": {},
     "output_type": "execute_result"
    }
   ],
   "source": [
    "spark.sql(\"select distinct(address_state) from customers\")"
   ]
  },
  {
   "cell_type": "code",
   "execution_count": 84,
   "id": "a953962f",
   "metadata": {},
   "outputs": [
    {
     "data": {
      "text/html": [
       "<table border='1'>\n",
       "<tr><th>count(address_state)</th></tr>\n",
       "<tr><td>254</td></tr>\n",
       "</table>\n"
      ],
      "text/plain": [
       "+--------------------+\n",
       "|count(address_state)|\n",
       "+--------------------+\n",
       "|                 254|\n",
       "+--------------------+"
      ]
     },
     "execution_count": 84,
     "metadata": {},
     "output_type": "execute_result"
    }
   ],
   "source": [
    "spark.sql(\"select count(address_state) from customers where length(address_state)>2\")"
   ]
  },
  {
   "cell_type": "code",
   "execution_count": 85,
   "id": "e8594818",
   "metadata": {},
   "outputs": [],
   "source": [
    "from pyspark.sql.functions import when, col, length"
   ]
  },
  {
   "cell_type": "code",
   "execution_count": 86,
   "id": "2a6edfcd",
   "metadata": {},
   "outputs": [],
   "source": [
    "customers_state_cleaned = customers_emplength_replaced.withColumn(\"address_state\",\n",
    "                                       when(length(col(\"address_state\"))> 2, \"NA\").otherwise(col(\"address_state\")))"
   ]
  },
  {
   "cell_type": "code",
   "execution_count": 87,
   "id": "a88e8bcc",
   "metadata": {},
   "outputs": [
    {
     "data": {
      "text/html": [
       "<table border='1'>\n",
       "<tr><th>member_id</th><th>emp_title</th><th>emp_length</th><th>home_ownership</th><th>annual_income</th><th>address_state</th><th>address_zipcode</th><th>address_country</th><th>garde</th><th>sub_grade</th><th>verification_status</th><th>total_high_credit_limit</th><th>application_type</th><th>join_annual_income</th><th>verification_status_joint</th><th>ingest_date</th></tr>\n",
       "<tr><td>51f0059e1f69cd4e3...</td><td>assembly line</td><td>3</td><td>OWN</td><td>35000.0</td><td>MO</td><td>640xx</td><td>USA</td><td>C</td><td>C5</td><td>Not Verified</td><td>143004.0</td><td>Individual</td><td>null</td><td>null</td><td>2024-05-09 16:07:...</td></tr>\n",
       "<tr><td>71f9fb43c7712b3e3...</td><td>null</td><td>6</td><td>MORTGAGE</td><td>50000.0</td><td>MI</td><td>480xx</td><td>USA</td><td>B</td><td>B3</td><td>Not Verified</td><td>228008.0</td><td>Individual</td><td>null</td><td>null</td><td>2024-05-09 16:07:...</td></tr>\n",
       "<tr><td>e0d6712f3c582c733...</td><td>social worker</td><td>1</td><td>MORTGAGE</td><td>55000.0</td><td>NM</td><td>880xx</td><td>USA</td><td>D</td><td>D4</td><td>Source Verified</td><td>145372.0</td><td>Individual</td><td>null</td><td>null</td><td>2024-05-09 16:07:...</td></tr>\n",
       "<tr><td>ed133ad6cb861e457...</td><td>Clerical Assistant</td><td>2</td><td>RENT</td><td>22000.0</td><td>IN</td><td>479xx</td><td>USA</td><td>A</td><td>A3</td><td>Source Verified</td><td>19100.0</td><td>Individual</td><td>null</td><td>null</td><td>2024-05-09 16:07:...</td></tr>\n",
       "<tr><td>7610f8d87d5b9c0a2...</td><td>Stower</td><td>4</td><td>OWN</td><td>30000.0</td><td>CA</td><td>900xx</td><td>USA</td><td>C</td><td>C1</td><td>Source Verified</td><td>82339.0</td><td>Individual</td><td>null</td><td>null</td><td>2024-05-09 16:07:...</td></tr>\n",
       "<tr><td>987d91ee298d0a8a0...</td><td>null</td><td>6</td><td>OWN</td><td>50000.0</td><td>CA</td><td>920xx</td><td>USA</td><td>D</td><td>D1</td><td>Not Verified</td><td>34582.0</td><td>Individual</td><td>null</td><td>null</td><td>2024-05-09 16:07:...</td></tr>\n",
       "<tr><td>1a84264d2c453e78e...</td><td>Site acquisition ...</td><td>2</td><td>RENT</td><td>58000.0</td><td>NY</td><td>120xx</td><td>USA</td><td>A</td><td>A4</td><td>Not Verified</td><td>28000.0</td><td>Individual</td><td>null</td><td>null</td><td>2024-05-09 16:07:...</td></tr>\n",
       "<tr><td>e3ace37d2253efdbf...</td><td>null</td><td>6</td><td>OWN</td><td>50000.0</td><td>WI</td><td>535xx</td><td>USA</td><td>A</td><td>A1</td><td>Not Verified</td><td>101900.0</td><td>Joint App</td><td>85000.0</td><td>Not Verified</td><td>2024-05-09 16:07:...</td></tr>\n",
       "<tr><td>fad939a019d70e159...</td><td>Computer Analysts</td><td>1</td><td>MORTGAGE</td><td>82000.0</td><td>NJ</td><td>088xx</td><td>USA</td><td>B</td><td>B4</td><td>Not Verified</td><td>242465.0</td><td>Joint App</td><td>130000.0</td><td>Not Verified</td><td>2024-05-09 16:07:...</td></tr>\n",
       "<tr><td>a1ff8f97cd9d55d60...</td><td>null</td><td>6</td><td>MORTGAGE</td><td>24000.0</td><td>SC</td><td>296xx</td><td>USA</td><td>A</td><td>A3</td><td>Not Verified</td><td>70915.0</td><td>Individual</td><td>null</td><td>null</td><td>2024-05-09 16:07:...</td></tr>\n",
       "<tr><td>1257254d6e89b3215...</td><td>Production Mechanic</td><td>6</td><td>OWN</td><td>95000.0</td><td>NY</td><td>127xx</td><td>USA</td><td>D</td><td>D2</td><td>Not Verified</td><td>85730.0</td><td>Joint App</td><td>160000.0</td><td>Not Verified</td><td>2024-05-09 16:07:...</td></tr>\n",
       "<tr><td>4eaad29c739f8456a...</td><td>Ironworker</td><td>1</td><td>MORTGAGE</td><td>95000.0</td><td>AL</td><td>366xx</td><td>USA</td><td>D</td><td>D2</td><td>Verified</td><td>198730.0</td><td>Individual</td><td>null</td><td>null</td><td>2024-05-09 16:07:...</td></tr>\n",
       "<tr><td>4de3c6db3a9305fb4...</td><td>IT Director</td><td>9</td><td>OWN</td><td>80000.0</td><td>GA</td><td>302xx</td><td>USA</td><td>C</td><td>C2</td><td>Source Verified</td><td>120381.0</td><td>Individual</td><td>null</td><td>null</td><td>2024-05-09 16:07:...</td></tr>\n",
       "<tr><td>e390f6a0cde8fe0be...</td><td>PURCHASING MANAGER</td><td>6</td><td>MORTGAGE</td><td>60000.0</td><td>MO</td><td>645xx</td><td>USA</td><td>A</td><td>A5</td><td>Not Verified</td><td>225456.0</td><td>Individual</td><td>null</td><td>null</td><td>2024-05-09 16:07:...</td></tr>\n",
       "<tr><td>3c4e27e61ea53207e...</td><td>Inventory Management</td><td>2</td><td>MORTGAGE</td><td>108000.0</td><td>OK</td><td>731xx</td><td>USA</td><td>A</td><td>A2</td><td>Not Verified</td><td>759567.0</td><td>Individual</td><td>null</td><td>null</td><td>2024-05-09 16:07:...</td></tr>\n",
       "<tr><td>6e664f29f03faafff...</td><td>School Social Worker</td><td>2</td><td>MORTGAGE</td><td>56190.0</td><td>NC</td><td>273xx</td><td>USA</td><td>C</td><td>C5</td><td>Source Verified</td><td>63932.0</td><td>Individual</td><td>null</td><td>null</td><td>2024-05-09 16:07:...</td></tr>\n",
       "<tr><td>3bef1c798b95bca16...</td><td>Reimbursement App...</td><td>2</td><td>RENT</td><td>100000.0</td><td>NE</td><td>681xx</td><td>USA</td><td>A</td><td>A3</td><td>Not Verified</td><td>133814.0</td><td>Individual</td><td>null</td><td>null</td><td>2024-05-09 16:07:...</td></tr>\n",
       "<tr><td>11fec3359f0aecbb0...</td><td>carrier</td><td>8</td><td>OWN</td><td>24000.0</td><td>OK</td><td>744xx</td><td>USA</td><td>C</td><td>C5</td><td>Verified</td><td>23275.0</td><td>Individual</td><td>null</td><td>null</td><td>2024-05-09 16:07:...</td></tr>\n",
       "<tr><td>5ef4a9e764cd3f866...</td><td>Teacher</td><td>10</td><td>MORTGAGE</td><td>90000.0</td><td>NJ</td><td>076xx</td><td>USA</td><td>A</td><td>A4</td><td>Verified</td><td>453188.0</td><td>Joint App</td><td>114800.0</td><td>Verified</td><td>2024-05-09 16:07:...</td></tr>\n",
       "<tr><td>86782fe0175bc26ff...</td><td>CNP</td><td>2</td><td>OWN</td><td>150000.0</td><td>TX</td><td>775xx</td><td>USA</td><td>D</td><td>D5</td><td>Source Verified</td><td>90960.0</td><td>Individual</td><td>null</td><td>null</td><td>2024-05-09 16:07:...</td></tr>\n",
       "</table>\n",
       "only showing top 20 rows\n"
      ],
      "text/plain": [
       "+--------------------+--------------------+----------+--------------+-------------+-------------+---------------+---------------+-----+---------+-------------------+-----------------------+----------------+------------------+-------------------------+--------------------+\n",
       "|           member_id|           emp_title|emp_length|home_ownership|annual_income|address_state|address_zipcode|address_country|garde|sub_grade|verification_status|total_high_credit_limit|application_type|join_annual_income|verification_status_joint|         ingest_date|\n",
       "+--------------------+--------------------+----------+--------------+-------------+-------------+---------------+---------------+-----+---------+-------------------+-----------------------+----------------+------------------+-------------------------+--------------------+\n",
       "|34fa83aa4f4a846c3...|    Property manager|         4|          RENT|       9200.0|           NV|          893xx|            USA|    C|       C3|       Not Verified|                48791.0|       Joint App|           89200.0|             Not Verified|2024-05-09 16:07:...|\n",
       "|4ec03733d71fd9e35...|               Owner|         4|      MORTGAGE|      48000.0|           MI|          481xx|            USA|    A|       A1|       Not Verified|               352757.0|      Individual|              null|                     null|2024-05-09 16:07:...|\n",
       "|862951787da376d70...|   Financial Advisor|         4|          RENT|     185000.0|           MA|          021xx|            USA|    A|       A1|       Not Verified|               120087.0|      Individual|              null|                     null|2024-05-09 16:07:...|\n",
       "|f76d17ed425fc5146...|                null|         6|      MORTGAGE|      32500.0|           OK|          730xx|            USA|    B|       B4|       Not Verified|               201350.0|      Individual|              null|                     null|2024-05-09 16:07:...|\n",
       "|a6b91f56e8a3ea7e6...|           Paralegal|        10|      MORTGAGE|      60000.0|           WA|          982xx|            USA|    C|       C4|    Source Verified|               205044.0|      Individual|              null|                     null|2024-05-09 16:07:...|\n",
       "|d22c9c8acd2ac9976...|Administrative As...|         2|           OWN|      45000.0|           MI|          481xx|            USA|    B|       B4|    Source Verified|                91739.0|      Individual|              null|                     null|2024-05-09 16:07:...|\n",
       "|79a4daf1e0803883a...|          Technician|         5|      MORTGAGE|      30000.0|           GA|          305xx|            USA|    C|       C1|    Source Verified|               168532.0|      Individual|              null|                     null|2024-05-09 16:07:...|\n",
       "|69447694242ad4b21...|             Manager|         6|          RENT|      48000.0|           TX|          786xx|            USA|    D|       D4|           Verified|                57815.0|      Individual|              null|                     null|2024-05-09 16:07:...|\n",
       "|25e42027f42e7fb03...|             Manager|         6|      MORTGAGE|      77000.0|           MO|          630xx|            USA|    B|       B4|           Verified|               275676.0|      Individual|              null|                     null|2024-05-09 16:07:...|\n",
       "|0bd8d514e8b872145...|        Truck driver|         9|          RENT|     100000.0|           NY|          115xx|            USA|    A|       A3|       Not Verified|               115152.0|      Individual|              null|                     null|2024-05-09 16:07:...|\n",
       "|df4690a0d161ab6e8...|    Associate Pastor|         5|          RENT|      56000.0|           TX|          750xx|            USA|    C|       C4|    Source Verified|               136357.0|      Individual|              null|                     null|2024-05-09 16:07:...|\n",
       "|d757fed61237d5885...|        Truck Drivet|        10|      MORTGAGE|     110000.0|           CA|          913xx|            USA|    A|       A5|    Source Verified|               372300.0|      Individual|              null|                     null|2024-05-09 16:07:...|\n",
       "|c01e902bdfd718533...|        para teacher|        10|      MORTGAGE|      13000.0|           KS|          660xx|            USA|    B|       B5|       Not Verified|               171579.0|       Joint App|          113000.0|             Not Verified|2024-05-09 16:07:...|\n",
       "|aa8fb3a9c7a6c0e30...|     Full Time Sales|         5|          RENT|      33000.0|           CA|          956xx|            USA|    A|       A5|    Source Verified|                87100.0|      Individual|              null|                     null|2024-05-09 16:07:...|\n",
       "|3ece34af7479d4b34...|                null|         6|           OWN|      35000.0|           SC|          296xx|            USA|    C|       C1|       Not Verified|                57800.0|      Individual|              null|                     null|2024-05-09 16:07:...|\n",
       "|53a1bbe0d8ce6d01b...|Digital Product M...|         1|          RENT|     110000.0|           CA|          907xx|            USA|    C|       C1|    Source Verified|                58600.0|      Individual|              null|                     null|2024-05-09 16:07:...|\n",
       "|32c71416ab552f583...|Communications Di...|         7|      MORTGAGE|      80000.0|           CT|          060xx|            USA|    C|       C1|           Verified|               471356.0|       Joint App|          215000.0|                 Verified|2024-05-09 16:07:...|\n",
       "|0e4468505136709d4...|              driver|         1|      MORTGAGE|      65000.0|           CO|          810xx|            USA|    D|       D5|       Not Verified|               283163.0|      Individual|              null|                     null|2024-05-09 16:07:...|\n",
       "|6a3724532e37ce9e8...|Law Enforcement O...|        10|      MORTGAGE|      55000.0|           FL|          320xx|            USA|    B|       B2|       Not Verified|               136630.0|      Individual|              null|                     null|2024-05-09 16:07:...|\n",
       "|15def2d36b58e34e6...|    Machine Operator|         2|      MORTGAGE|      80000.0|           TX|          799xx|            USA|    A|       A4|       Not Verified|                70397.0|      Individual|              null|                     null|2024-05-09 16:07:...|\n",
       "+--------------------+--------------------+----------+--------------+-------------+-------------+---------------+---------------+-----+---------+-------------------+-----------------------+----------------+------------------+-------------------------+--------------------+\n",
       "only showing top 20 rows"
      ]
     },
     "execution_count": 87,
     "metadata": {},
     "output_type": "execute_result"
    }
   ],
   "source": [
    "customers_state_cleaned"
   ]
  },
  {
   "cell_type": "code",
   "execution_count": 88,
   "id": "2b2e7d03",
   "metadata": {},
   "outputs": [
    {
     "data": {
      "text/html": [
       "<table border='1'>\n",
       "<tr><th>address_state</th></tr>\n",
       "<tr><td>AZ</td></tr>\n",
       "<tr><td>SC</td></tr>\n",
       "<tr><td>LA</td></tr>\n",
       "<tr><td>MN</td></tr>\n",
       "<tr><td>NJ</td></tr>\n",
       "<tr><td>DC</td></tr>\n",
       "<tr><td>OR</td></tr>\n",
       "<tr><td>NA</td></tr>\n",
       "<tr><td>VA</td></tr>\n",
       "<tr><td>null</td></tr>\n",
       "<tr><td>RI</td></tr>\n",
       "<tr><td>KY</td></tr>\n",
       "<tr><td>WY</td></tr>\n",
       "<tr><td>NH</td></tr>\n",
       "<tr><td>MI</td></tr>\n",
       "<tr><td>NV</td></tr>\n",
       "<tr><td>WI</td></tr>\n",
       "<tr><td>ID</td></tr>\n",
       "<tr><td>CA</td></tr>\n",
       "<tr><td>CT</td></tr>\n",
       "</table>\n",
       "only showing top 20 rows\n"
      ],
      "text/plain": [
       "+-------------+\n",
       "|address_state|\n",
       "+-------------+\n",
       "|           AZ|\n",
       "|           SC|\n",
       "|           LA|\n",
       "|           MN|\n",
       "|           NJ|\n",
       "|           DC|\n",
       "|           OR|\n",
       "|           NA|\n",
       "|           VA|\n",
       "|         null|\n",
       "|           RI|\n",
       "|           KY|\n",
       "|           WY|\n",
       "|           NH|\n",
       "|           MI|\n",
       "|           NV|\n",
       "|           WI|\n",
       "|           ID|\n",
       "|           CA|\n",
       "|           CT|\n",
       "+-------------+\n",
       "only showing top 20 rows"
      ]
     },
     "execution_count": 88,
     "metadata": {},
     "output_type": "execute_result"
    }
   ],
   "source": [
    "customers_state_cleaned.select(\"address_state\").distinct()"
   ]
  },
  {
   "cell_type": "code",
   "execution_count": 89,
   "id": "ae3cf637",
   "metadata": {},
   "outputs": [],
   "source": [
    "customers_state_cleaned.write \\\n",
    ".format(\"parquet\") \\\n",
    ".mode(\"overwrite\") \\\n",
    ".option(\"path\", \"/user/itv010110/lendingclubprojectJ/cleaned/customers_parquet\" ) \\\n",
    ".save()"
   ]
  },
  {
   "cell_type": "code",
   "execution_count": 90,
   "id": "b17e8445",
   "metadata": {},
   "outputs": [],
   "source": [
    "customers_state_cleaned.write \\\n",
    ".option(\"header\", True) \\\n",
    ".format(\"csv\") \\\n",
    ".mode(\"overwrite\") \\\n",
    ".option(\"path\", \"/user/itv010110/lendingclubprojectJ/cleaned/customers_csv\" ) \\\n",
    ".save()"
   ]
  },
  {
   "cell_type": "code",
   "execution_count": null,
   "id": "6a0d2ff6",
   "metadata": {},
   "outputs": [],
   "source": []
  }
 ],
 "metadata": {
  "kernelspec": {
   "display_name": "Pyspark 3",
   "language": "python",
   "name": "pyspark3"
  },
  "language_info": {
   "codemirror_mode": {
    "name": "ipython",
    "version": 3
   },
   "file_extension": ".py",
   "mimetype": "text/x-python",
   "name": "python",
   "nbconvert_exporter": "python",
   "pygments_lexer": "ipython3",
   "version": "3.6.12"
  }
 },
 "nbformat": 4,
 "nbformat_minor": 5
}
