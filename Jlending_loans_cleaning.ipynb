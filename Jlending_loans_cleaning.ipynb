{
 "cells": [
  {
   "cell_type": "code",
   "execution_count": 1,
   "id": "99ca57ec",
   "metadata": {},
   "outputs": [],
   "source": [
    "from pyspark.sql import SparkSession\n",
    "import getpass\n",
    "username = getpass.getuser()\n",
    "spark = SparkSession. \\\n",
    "builder. \\\n",
    "config('spark.ui.port', '0'). \\\n",
    "config('spark.shuffle.useOldFetchProtocol', 'true'). \\\n",
    "config(\"spark.sql.warehouse.dir\", f\"/user/itv005857/warehouse\"). \\\n",
    "enableHiveSupport(). \\\n",
    "master('yarn'). \\\n",
    "getOrCreate()"
   ]
  },
  {
   "cell_type": "code",
   "execution_count": 2,
   "id": "41b113d8",
   "metadata": {},
   "outputs": [],
   "source": [
    "loans_schema = 'loan_id string, member_id string, loan_amount float, funded_amount float, loan_term_months string, interest_rate float, monthly_installment float, issue_date string, loan_status string, loan_purpose string, loan_title string'"
   ]
  },
  {
   "cell_type": "code",
   "execution_count": 1,
   "id": "2ad0a36b",
   "metadata": {},
   "outputs": [
    {
     "ename": "NameError",
     "evalue": "name 'spark' is not defined",
     "output_type": "error",
     "traceback": [
      "\u001b[0;31m---------------------------------------------------------------------------\u001b[0m",
      "\u001b[0;31mNameError\u001b[0m                                 Traceback (most recent call last)",
      "\u001b[0;32m<ipython-input-1-6577750e7bb8>\u001b[0m in \u001b[0;36m<module>\u001b[0;34m\u001b[0m\n\u001b[0;32m----> 1\u001b[0;31m \u001b[0mloans_raw_df\u001b[0m \u001b[0;34m=\u001b[0m \u001b[0mspark\u001b[0m\u001b[0;34m.\u001b[0m\u001b[0mread\u001b[0m\u001b[0;31m \u001b[0m\u001b[0;31m\\\u001b[0m\u001b[0;34m\u001b[0m\u001b[0;34m\u001b[0m\u001b[0m\n\u001b[0m\u001b[1;32m      2\u001b[0m \u001b[0;34m.\u001b[0m\u001b[0mformat\u001b[0m\u001b[0;34m(\u001b[0m\u001b[0;34m\"csv\"\u001b[0m\u001b[0;34m)\u001b[0m\u001b[0;31m \u001b[0m\u001b[0;31m\\\u001b[0m\u001b[0;34m\u001b[0m\u001b[0;34m\u001b[0m\u001b[0m\n\u001b[1;32m      3\u001b[0m \u001b[0;34m.\u001b[0m\u001b[0moption\u001b[0m\u001b[0;34m(\u001b[0m\u001b[0;34m\"header\"\u001b[0m\u001b[0;34m,\u001b[0m \u001b[0;32mTrue\u001b[0m\u001b[0;34m)\u001b[0m\u001b[0;31m \u001b[0m\u001b[0;31m\\\u001b[0m\u001b[0;34m\u001b[0m\u001b[0;34m\u001b[0m\u001b[0m\n\u001b[1;32m      4\u001b[0m \u001b[0;34m.\u001b[0m\u001b[0mschema\u001b[0m\u001b[0;34m(\u001b[0m\u001b[0;34m\"inferSchema\"\u001b[0m\u001b[0;34m,\u001b[0m \u001b[0;32mTrue\u001b[0m\u001b[0;34m)\u001b[0m\u001b[0;31m \u001b[0m\u001b[0;31m\\\u001b[0m\u001b[0;34m\u001b[0m\u001b[0;34m\u001b[0m\u001b[0m\n\u001b[1;32m      5\u001b[0m \u001b[0;34m.\u001b[0m\u001b[0mload\u001b[0m\u001b[0;34m(\u001b[0m\u001b[0;34m\"/user/itv010110/lendingclubprojectJ/raw/loans_repayments_csv\"\u001b[0m\u001b[0;34m)\u001b[0m\u001b[0;34m\u001b[0m\u001b[0;34m\u001b[0m\u001b[0m\n",
      "\u001b[0;31mNameError\u001b[0m: name 'spark' is not defined"
     ]
    }
   ],
   "source": [
    "loans_raw_df = spark.read \\\n",
    ".format(\"csv\") \\\n",
    ".option(\"header\", True) \\\n",
    ".schema(loans_schema) \\\n",
    ".load(\"/user/itv010110/lendingclubprojectJ/raw/loans_data_csv\")"
   ]
  },
  {
   "cell_type": "code",
   "execution_count": 4,
   "id": "271c5d01",
   "metadata": {},
   "outputs": [
    {
     "data": {
      "text/html": [
       "<table border='1'>\n",
       "<tr><th>loan_id</th><th>member_id</th><th>loan_amount</th><th>funded_amount</th><th>loan_term_months</th><th>interest_rate</th><th>monthly_installment</th><th>issue_date</th><th>loan_status</th><th>loan_purpose</th><th>loan_title</th></tr>\n",
       "<tr><td>68407277</td><td>6d5091b3fcaaeb4ea...</td><td>3600.0</td><td>3600.0</td><td>36 months</td><td>13.99</td><td>123.03</td><td>Dec-2015</td><td>Fully Paid</td><td>debt_consolidation</td><td>Debt consolidation</td></tr>\n",
       "<tr><td>68355089</td><td>b5e7938b0a2da4cea...</td><td>24700.0</td><td>24700.0</td><td>36 months</td><td>11.99</td><td>820.28</td><td>Dec-2015</td><td>Fully Paid</td><td>small_business</td><td>Business</td></tr>\n",
       "<tr><td>68341763</td><td>91060b858433e8a61...</td><td>20000.0</td><td>20000.0</td><td>60 months</td><td>10.78</td><td>432.66</td><td>Dec-2015</td><td>Fully Paid</td><td>home_improvement</td><td>null</td></tr>\n",
       "<tr><td>66310712</td><td>cab1fa9f533688b0a...</td><td>35000.0</td><td>35000.0</td><td>60 months</td><td>14.85</td><td>829.9</td><td>Dec-2015</td><td>Current</td><td>debt_consolidation</td><td>Debt consolidation</td></tr>\n",
       "<tr><td>68476807</td><td>f74e401c1ab0adf78...</td><td>10400.0</td><td>10400.0</td><td>60 months</td><td>22.45</td><td>289.91</td><td>Dec-2015</td><td>Fully Paid</td><td>major_purchase</td><td>Major purchase</td></tr>\n",
       "<tr><td>68426831</td><td>8aef4bb29d609d8d6...</td><td>11950.0</td><td>11950.0</td><td>36 months</td><td>13.44</td><td>405.18</td><td>Dec-2015</td><td>Fully Paid</td><td>debt_consolidation</td><td>Debt consolidation</td></tr>\n",
       "<tr><td>68476668</td><td>538b4653da3b1e814...</td><td>20000.0</td><td>20000.0</td><td>36 months</td><td>9.17</td><td>637.58</td><td>Dec-2015</td><td>Fully Paid</td><td>debt_consolidation</td><td>Debt consolidation</td></tr>\n",
       "<tr><td>67275481</td><td>b24d55f21390533c5...</td><td>20000.0</td><td>20000.0</td><td>36 months</td><td>8.49</td><td>631.26</td><td>Dec-2015</td><td>Fully Paid</td><td>major_purchase</td><td>Major purchase</td></tr>\n",
       "<tr><td>68466926</td><td>1035c5401b0ca76d0...</td><td>10000.0</td><td>10000.0</td><td>36 months</td><td>6.49</td><td>306.45</td><td>Dec-2015</td><td>Fully Paid</td><td>credit_card</td><td>Credit card refin...</td></tr>\n",
       "<tr><td>68616873</td><td>cb0f1777593e77909...</td><td>8000.0</td><td>8000.0</td><td>36 months</td><td>11.48</td><td>263.74</td><td>Dec-2015</td><td>Fully Paid</td><td>credit_card</td><td>Credit card refin...</td></tr>\n",
       "<tr><td>68356421</td><td>a962f4d59caec5fa1...</td><td>22400.0</td><td>22400.0</td><td>60 months</td><td>12.88</td><td>508.3</td><td>Dec-2015</td><td>Current</td><td>debt_consolidation</td><td>Debt consolidation</td></tr>\n",
       "<tr><td>68426545</td><td>e7592ab57b3afd9f1...</td><td>16000.0</td><td>16000.0</td><td>60 months</td><td>12.88</td><td>363.07</td><td>Dec-2015</td><td>Current</td><td>debt_consolidation</td><td>Debt consolidation</td></tr>\n",
       "<tr><td>68338832</td><td>603afa9d1be879b7b...</td><td>1400.0</td><td>1400.0</td><td>36 months</td><td>12.88</td><td>47.1</td><td>Dec-2015</td><td>Fully Paid</td><td>other</td><td>null</td></tr>\n",
       "<tr><td>66624733</td><td>9fe2d59ddf2a4f37e...</td><td>18000.0</td><td>18000.0</td><td>60 months</td><td>19.48</td><td>471.7</td><td>Dec-2015</td><td>Charged Off</td><td>debt_consolidation</td><td>Debt consolidation</td></tr>\n",
       "<tr><td>68466961</td><td>23857480ccf555ce4...</td><td>28000.0</td><td>28000.0</td><td>36 months</td><td>6.49</td><td>858.05</td><td>Dec-2015</td><td>Fully Paid</td><td>debt_consolidation</td><td>Debt consolidation</td></tr>\n",
       "<tr><td>68354783</td><td>7c69d5f36fdabf6e1...</td><td>9600.0</td><td>9600.0</td><td>36 months</td><td>7.49</td><td>298.58</td><td>Dec-2015</td><td>Fully Paid</td><td>credit_card</td><td>Credit card refin...</td></tr>\n",
       "<tr><td>68466916</td><td>08bf9e080503b0113...</td><td>25000.0</td><td>25000.0</td><td>36 months</td><td>7.49</td><td>777.55</td><td>Dec-2015</td><td>Fully Paid</td><td>debt_consolidation</td><td>Debt consolidation</td></tr>\n",
       "<tr><td>68577849</td><td>1cafb05aa6c894c30...</td><td>18000.0</td><td>18000.0</td><td>60 months</td><td>11.99</td><td>400.31</td><td>Dec-2015</td><td>Fully Paid</td><td>debt_consolidation</td><td>Debt consolidation</td></tr>\n",
       "<tr><td>68506798</td><td>f2c4010f700d8c9c4...</td><td>23000.0</td><td>23000.0</td><td>60 months</td><td>8.49</td><td>471.77</td><td>Dec-2015</td><td>Current</td><td>credit_card</td><td>Credit card refin...</td></tr>\n",
       "<tr><td>68495092</td><td>05ad4aed7c393035e...</td><td>8650.0</td><td>8650.0</td><td>36 months</td><td>19.89</td><td>320.99</td><td>Dec-2015</td><td>Fully Paid</td><td>debt_consolidation</td><td>Debt consolidation</td></tr>\n",
       "</table>\n",
       "only showing top 20 rows\n"
      ],
      "text/plain": [
       "+--------+--------------------+-----------+-------------+----------------+-------------+-------------------+----------+-----------+------------------+--------------------+\n",
       "| loan_id|           member_id|loan_amount|funded_amount|loan_term_months|interest_rate|monthly_installment|issue_date|loan_status|      loan_purpose|          loan_title|\n",
       "+--------+--------------------+-----------+-------------+----------------+-------------+-------------------+----------+-----------+------------------+--------------------+\n",
       "|68407277|6d5091b3fcaaeb4ea...|     3600.0|       3600.0|       36 months|        13.99|             123.03|  Dec-2015| Fully Paid|debt_consolidation|  Debt consolidation|\n",
       "|68355089|b5e7938b0a2da4cea...|    24700.0|      24700.0|       36 months|        11.99|             820.28|  Dec-2015| Fully Paid|    small_business|            Business|\n",
       "|68341763|91060b858433e8a61...|    20000.0|      20000.0|       60 months|        10.78|             432.66|  Dec-2015| Fully Paid|  home_improvement|                null|\n",
       "|66310712|cab1fa9f533688b0a...|    35000.0|      35000.0|       60 months|        14.85|              829.9|  Dec-2015|    Current|debt_consolidation|  Debt consolidation|\n",
       "|68476807|f74e401c1ab0adf78...|    10400.0|      10400.0|       60 months|        22.45|             289.91|  Dec-2015| Fully Paid|    major_purchase|      Major purchase|\n",
       "|68426831|8aef4bb29d609d8d6...|    11950.0|      11950.0|       36 months|        13.44|             405.18|  Dec-2015| Fully Paid|debt_consolidation|  Debt consolidation|\n",
       "|68476668|538b4653da3b1e814...|    20000.0|      20000.0|       36 months|         9.17|             637.58|  Dec-2015| Fully Paid|debt_consolidation|  Debt consolidation|\n",
       "|67275481|b24d55f21390533c5...|    20000.0|      20000.0|       36 months|         8.49|             631.26|  Dec-2015| Fully Paid|    major_purchase|      Major purchase|\n",
       "|68466926|1035c5401b0ca76d0...|    10000.0|      10000.0|       36 months|         6.49|             306.45|  Dec-2015| Fully Paid|       credit_card|Credit card refin...|\n",
       "|68616873|cb0f1777593e77909...|     8000.0|       8000.0|       36 months|        11.48|             263.74|  Dec-2015| Fully Paid|       credit_card|Credit card refin...|\n",
       "|68356421|a962f4d59caec5fa1...|    22400.0|      22400.0|       60 months|        12.88|              508.3|  Dec-2015|    Current|debt_consolidation|  Debt consolidation|\n",
       "|68426545|e7592ab57b3afd9f1...|    16000.0|      16000.0|       60 months|        12.88|             363.07|  Dec-2015|    Current|debt_consolidation|  Debt consolidation|\n",
       "|68338832|603afa9d1be879b7b...|     1400.0|       1400.0|       36 months|        12.88|               47.1|  Dec-2015| Fully Paid|             other|                null|\n",
       "|66624733|9fe2d59ddf2a4f37e...|    18000.0|      18000.0|       60 months|        19.48|              471.7|  Dec-2015|Charged Off|debt_consolidation|  Debt consolidation|\n",
       "|68466961|23857480ccf555ce4...|    28000.0|      28000.0|       36 months|         6.49|             858.05|  Dec-2015| Fully Paid|debt_consolidation|  Debt consolidation|\n",
       "|68354783|7c69d5f36fdabf6e1...|     9600.0|       9600.0|       36 months|         7.49|             298.58|  Dec-2015| Fully Paid|       credit_card|Credit card refin...|\n",
       "|68466916|08bf9e080503b0113...|    25000.0|      25000.0|       36 months|         7.49|             777.55|  Dec-2015| Fully Paid|debt_consolidation|  Debt consolidation|\n",
       "|68577849|1cafb05aa6c894c30...|    18000.0|      18000.0|       60 months|        11.99|             400.31|  Dec-2015| Fully Paid|debt_consolidation|  Debt consolidation|\n",
       "|68506798|f2c4010f700d8c9c4...|    23000.0|      23000.0|       60 months|         8.49|             471.77|  Dec-2015|    Current|       credit_card|Credit card refin...|\n",
       "|68495092|05ad4aed7c393035e...|     8650.0|       8650.0|       36 months|        19.89|             320.99|  Dec-2015| Fully Paid|debt_consolidation|  Debt consolidation|\n",
       "+--------+--------------------+-----------+-------------+----------------+-------------+-------------------+----------+-----------+------------------+--------------------+\n",
       "only showing top 20 rows"
      ]
     },
     "execution_count": 4,
     "metadata": {},
     "output_type": "execute_result"
    }
   ],
   "source": [
    "loans_raw_df"
   ]
  },
  {
   "cell_type": "code",
   "execution_count": 5,
   "id": "f1a30da4",
   "metadata": {},
   "outputs": [
    {
     "name": "stdout",
     "output_type": "stream",
     "text": [
      "root\n",
      " |-- loan_id: string (nullable = true)\n",
      " |-- member_id: string (nullable = true)\n",
      " |-- loan_amount: float (nullable = true)\n",
      " |-- funded_amount: float (nullable = true)\n",
      " |-- loan_term_months: string (nullable = true)\n",
      " |-- interest_rate: float (nullable = true)\n",
      " |-- monthly_installment: float (nullable = true)\n",
      " |-- issue_date: string (nullable = true)\n",
      " |-- loan_status: string (nullable = true)\n",
      " |-- loan_purpose: string (nullable = true)\n",
      " |-- loan_title: string (nullable = true)\n",
      "\n"
     ]
    }
   ],
   "source": [
    "loans_raw_df.printSchema()"
   ]
  },
  {
   "cell_type": "code",
   "execution_count": 6,
   "id": "93747741",
   "metadata": {},
   "outputs": [],
   "source": [
    "from pyspark.sql.functions import current_timestamp"
   ]
  },
  {
   "cell_type": "code",
   "execution_count": 7,
   "id": "21b844c5",
   "metadata": {},
   "outputs": [],
   "source": [
    "loans_df_ingestd = loans_raw_df.withColumn(\"ingest_date\",  current_timestamp())"
   ]
  },
  {
   "cell_type": "code",
   "execution_count": 8,
   "id": "fdfbbfad",
   "metadata": {},
   "outputs": [
    {
     "data": {
      "text/html": [
       "<table border='1'>\n",
       "<tr><th>loan_id</th><th>member_id</th><th>loan_amount</th><th>funded_amount</th><th>loan_term_months</th><th>interest_rate</th><th>monthly_installment</th><th>issue_date</th><th>loan_status</th><th>loan_purpose</th><th>loan_title</th><th>ingest_date</th></tr>\n",
       "<tr><td>68407277</td><td>6d5091b3fcaaeb4ea...</td><td>3600.0</td><td>3600.0</td><td>36 months</td><td>13.99</td><td>123.03</td><td>Dec-2015</td><td>Fully Paid</td><td>debt_consolidation</td><td>Debt consolidation</td><td>2024-05-14 10:34:...</td></tr>\n",
       "<tr><td>68355089</td><td>b5e7938b0a2da4cea...</td><td>24700.0</td><td>24700.0</td><td>36 months</td><td>11.99</td><td>820.28</td><td>Dec-2015</td><td>Fully Paid</td><td>small_business</td><td>Business</td><td>2024-05-14 10:34:...</td></tr>\n",
       "<tr><td>68341763</td><td>91060b858433e8a61...</td><td>20000.0</td><td>20000.0</td><td>60 months</td><td>10.78</td><td>432.66</td><td>Dec-2015</td><td>Fully Paid</td><td>home_improvement</td><td>null</td><td>2024-05-14 10:34:...</td></tr>\n",
       "<tr><td>66310712</td><td>cab1fa9f533688b0a...</td><td>35000.0</td><td>35000.0</td><td>60 months</td><td>14.85</td><td>829.9</td><td>Dec-2015</td><td>Current</td><td>debt_consolidation</td><td>Debt consolidation</td><td>2024-05-14 10:34:...</td></tr>\n",
       "<tr><td>68476807</td><td>f74e401c1ab0adf78...</td><td>10400.0</td><td>10400.0</td><td>60 months</td><td>22.45</td><td>289.91</td><td>Dec-2015</td><td>Fully Paid</td><td>major_purchase</td><td>Major purchase</td><td>2024-05-14 10:34:...</td></tr>\n",
       "<tr><td>68426831</td><td>8aef4bb29d609d8d6...</td><td>11950.0</td><td>11950.0</td><td>36 months</td><td>13.44</td><td>405.18</td><td>Dec-2015</td><td>Fully Paid</td><td>debt_consolidation</td><td>Debt consolidation</td><td>2024-05-14 10:34:...</td></tr>\n",
       "<tr><td>68476668</td><td>538b4653da3b1e814...</td><td>20000.0</td><td>20000.0</td><td>36 months</td><td>9.17</td><td>637.58</td><td>Dec-2015</td><td>Fully Paid</td><td>debt_consolidation</td><td>Debt consolidation</td><td>2024-05-14 10:34:...</td></tr>\n",
       "<tr><td>67275481</td><td>b24d55f21390533c5...</td><td>20000.0</td><td>20000.0</td><td>36 months</td><td>8.49</td><td>631.26</td><td>Dec-2015</td><td>Fully Paid</td><td>major_purchase</td><td>Major purchase</td><td>2024-05-14 10:34:...</td></tr>\n",
       "<tr><td>68466926</td><td>1035c5401b0ca76d0...</td><td>10000.0</td><td>10000.0</td><td>36 months</td><td>6.49</td><td>306.45</td><td>Dec-2015</td><td>Fully Paid</td><td>credit_card</td><td>Credit card refin...</td><td>2024-05-14 10:34:...</td></tr>\n",
       "<tr><td>68616873</td><td>cb0f1777593e77909...</td><td>8000.0</td><td>8000.0</td><td>36 months</td><td>11.48</td><td>263.74</td><td>Dec-2015</td><td>Fully Paid</td><td>credit_card</td><td>Credit card refin...</td><td>2024-05-14 10:34:...</td></tr>\n",
       "<tr><td>68356421</td><td>a962f4d59caec5fa1...</td><td>22400.0</td><td>22400.0</td><td>60 months</td><td>12.88</td><td>508.3</td><td>Dec-2015</td><td>Current</td><td>debt_consolidation</td><td>Debt consolidation</td><td>2024-05-14 10:34:...</td></tr>\n",
       "<tr><td>68426545</td><td>e7592ab57b3afd9f1...</td><td>16000.0</td><td>16000.0</td><td>60 months</td><td>12.88</td><td>363.07</td><td>Dec-2015</td><td>Current</td><td>debt_consolidation</td><td>Debt consolidation</td><td>2024-05-14 10:34:...</td></tr>\n",
       "<tr><td>68338832</td><td>603afa9d1be879b7b...</td><td>1400.0</td><td>1400.0</td><td>36 months</td><td>12.88</td><td>47.1</td><td>Dec-2015</td><td>Fully Paid</td><td>other</td><td>null</td><td>2024-05-14 10:34:...</td></tr>\n",
       "<tr><td>66624733</td><td>9fe2d59ddf2a4f37e...</td><td>18000.0</td><td>18000.0</td><td>60 months</td><td>19.48</td><td>471.7</td><td>Dec-2015</td><td>Charged Off</td><td>debt_consolidation</td><td>Debt consolidation</td><td>2024-05-14 10:34:...</td></tr>\n",
       "<tr><td>68466961</td><td>23857480ccf555ce4...</td><td>28000.0</td><td>28000.0</td><td>36 months</td><td>6.49</td><td>858.05</td><td>Dec-2015</td><td>Fully Paid</td><td>debt_consolidation</td><td>Debt consolidation</td><td>2024-05-14 10:34:...</td></tr>\n",
       "<tr><td>68354783</td><td>7c69d5f36fdabf6e1...</td><td>9600.0</td><td>9600.0</td><td>36 months</td><td>7.49</td><td>298.58</td><td>Dec-2015</td><td>Fully Paid</td><td>credit_card</td><td>Credit card refin...</td><td>2024-05-14 10:34:...</td></tr>\n",
       "<tr><td>68466916</td><td>08bf9e080503b0113...</td><td>25000.0</td><td>25000.0</td><td>36 months</td><td>7.49</td><td>777.55</td><td>Dec-2015</td><td>Fully Paid</td><td>debt_consolidation</td><td>Debt consolidation</td><td>2024-05-14 10:34:...</td></tr>\n",
       "<tr><td>68577849</td><td>1cafb05aa6c894c30...</td><td>18000.0</td><td>18000.0</td><td>60 months</td><td>11.99</td><td>400.31</td><td>Dec-2015</td><td>Fully Paid</td><td>debt_consolidation</td><td>Debt consolidation</td><td>2024-05-14 10:34:...</td></tr>\n",
       "<tr><td>68506798</td><td>f2c4010f700d8c9c4...</td><td>23000.0</td><td>23000.0</td><td>60 months</td><td>8.49</td><td>471.77</td><td>Dec-2015</td><td>Current</td><td>credit_card</td><td>Credit card refin...</td><td>2024-05-14 10:34:...</td></tr>\n",
       "<tr><td>68495092</td><td>05ad4aed7c393035e...</td><td>8650.0</td><td>8650.0</td><td>36 months</td><td>19.89</td><td>320.99</td><td>Dec-2015</td><td>Fully Paid</td><td>debt_consolidation</td><td>Debt consolidation</td><td>2024-05-14 10:34:...</td></tr>\n",
       "</table>\n",
       "only showing top 20 rows\n"
      ],
      "text/plain": [
       "+--------+--------------------+-----------+-------------+----------------+-------------+-------------------+----------+-----------+------------------+--------------------+--------------------+\n",
       "| loan_id|           member_id|loan_amount|funded_amount|loan_term_months|interest_rate|monthly_installment|issue_date|loan_status|      loan_purpose|          loan_title|         ingest_date|\n",
       "+--------+--------------------+-----------+-------------+----------------+-------------+-------------------+----------+-----------+------------------+--------------------+--------------------+\n",
       "|68407277|6d5091b3fcaaeb4ea...|     3600.0|       3600.0|       36 months|        13.99|             123.03|  Dec-2015| Fully Paid|debt_consolidation|  Debt consolidation|2024-05-14 10:34:...|\n",
       "|68355089|b5e7938b0a2da4cea...|    24700.0|      24700.0|       36 months|        11.99|             820.28|  Dec-2015| Fully Paid|    small_business|            Business|2024-05-14 10:34:...|\n",
       "|68341763|91060b858433e8a61...|    20000.0|      20000.0|       60 months|        10.78|             432.66|  Dec-2015| Fully Paid|  home_improvement|                null|2024-05-14 10:34:...|\n",
       "|66310712|cab1fa9f533688b0a...|    35000.0|      35000.0|       60 months|        14.85|              829.9|  Dec-2015|    Current|debt_consolidation|  Debt consolidation|2024-05-14 10:34:...|\n",
       "|68476807|f74e401c1ab0adf78...|    10400.0|      10400.0|       60 months|        22.45|             289.91|  Dec-2015| Fully Paid|    major_purchase|      Major purchase|2024-05-14 10:34:...|\n",
       "|68426831|8aef4bb29d609d8d6...|    11950.0|      11950.0|       36 months|        13.44|             405.18|  Dec-2015| Fully Paid|debt_consolidation|  Debt consolidation|2024-05-14 10:34:...|\n",
       "|68476668|538b4653da3b1e814...|    20000.0|      20000.0|       36 months|         9.17|             637.58|  Dec-2015| Fully Paid|debt_consolidation|  Debt consolidation|2024-05-14 10:34:...|\n",
       "|67275481|b24d55f21390533c5...|    20000.0|      20000.0|       36 months|         8.49|             631.26|  Dec-2015| Fully Paid|    major_purchase|      Major purchase|2024-05-14 10:34:...|\n",
       "|68466926|1035c5401b0ca76d0...|    10000.0|      10000.0|       36 months|         6.49|             306.45|  Dec-2015| Fully Paid|       credit_card|Credit card refin...|2024-05-14 10:34:...|\n",
       "|68616873|cb0f1777593e77909...|     8000.0|       8000.0|       36 months|        11.48|             263.74|  Dec-2015| Fully Paid|       credit_card|Credit card refin...|2024-05-14 10:34:...|\n",
       "|68356421|a962f4d59caec5fa1...|    22400.0|      22400.0|       60 months|        12.88|              508.3|  Dec-2015|    Current|debt_consolidation|  Debt consolidation|2024-05-14 10:34:...|\n",
       "|68426545|e7592ab57b3afd9f1...|    16000.0|      16000.0|       60 months|        12.88|             363.07|  Dec-2015|    Current|debt_consolidation|  Debt consolidation|2024-05-14 10:34:...|\n",
       "|68338832|603afa9d1be879b7b...|     1400.0|       1400.0|       36 months|        12.88|               47.1|  Dec-2015| Fully Paid|             other|                null|2024-05-14 10:34:...|\n",
       "|66624733|9fe2d59ddf2a4f37e...|    18000.0|      18000.0|       60 months|        19.48|              471.7|  Dec-2015|Charged Off|debt_consolidation|  Debt consolidation|2024-05-14 10:34:...|\n",
       "|68466961|23857480ccf555ce4...|    28000.0|      28000.0|       36 months|         6.49|             858.05|  Dec-2015| Fully Paid|debt_consolidation|  Debt consolidation|2024-05-14 10:34:...|\n",
       "|68354783|7c69d5f36fdabf6e1...|     9600.0|       9600.0|       36 months|         7.49|             298.58|  Dec-2015| Fully Paid|       credit_card|Credit card refin...|2024-05-14 10:34:...|\n",
       "|68466916|08bf9e080503b0113...|    25000.0|      25000.0|       36 months|         7.49|             777.55|  Dec-2015| Fully Paid|debt_consolidation|  Debt consolidation|2024-05-14 10:34:...|\n",
       "|68577849|1cafb05aa6c894c30...|    18000.0|      18000.0|       60 months|        11.99|             400.31|  Dec-2015| Fully Paid|debt_consolidation|  Debt consolidation|2024-05-14 10:34:...|\n",
       "|68506798|f2c4010f700d8c9c4...|    23000.0|      23000.0|       60 months|         8.49|             471.77|  Dec-2015|    Current|       credit_card|Credit card refin...|2024-05-14 10:34:...|\n",
       "|68495092|05ad4aed7c393035e...|     8650.0|       8650.0|       36 months|        19.89|             320.99|  Dec-2015| Fully Paid|debt_consolidation|  Debt consolidation|2024-05-14 10:34:...|\n",
       "+--------+--------------------+-----------+-------------+----------------+-------------+-------------------+----------+-----------+------------------+--------------------+--------------------+\n",
       "only showing top 20 rows"
      ]
     },
     "execution_count": 8,
     "metadata": {},
     "output_type": "execute_result"
    }
   ],
   "source": [
    "loans_df_ingestd"
   ]
  },
  {
   "cell_type": "code",
   "execution_count": 9,
   "id": "1c9b0ac0",
   "metadata": {},
   "outputs": [],
   "source": [
    "loans_df_ingestd.createOrReplaceTempView(\"loans\")"
   ]
  },
  {
   "cell_type": "code",
   "execution_count": 10,
   "id": "2ed251a2",
   "metadata": {},
   "outputs": [
    {
     "data": {
      "text/html": [
       "<table border='1'>\n",
       "<tr><th>count(1)</th></tr>\n",
       "<tr><td>2260701</td></tr>\n",
       "</table>\n"
      ],
      "text/plain": [
       "+--------+\n",
       "|count(1)|\n",
       "+--------+\n",
       "| 2260701|\n",
       "+--------+"
      ]
     },
     "execution_count": 10,
     "metadata": {},
     "output_type": "execute_result"
    }
   ],
   "source": [
    "spark.sql(\"select count(*) from loans\")"
   ]
  },
  {
   "cell_type": "code",
   "execution_count": 11,
   "id": "0f232ace",
   "metadata": {},
   "outputs": [
    {
     "data": {
      "text/html": [
       "<table border='1'>\n",
       "<tr><th>loan_id</th><th>member_id</th><th>loan_amount</th><th>funded_amount</th><th>loan_term_months</th><th>interest_rate</th><th>monthly_installment</th><th>issue_date</th><th>loan_status</th><th>loan_purpose</th><th>loan_title</th><th>ingest_date</th></tr>\n",
       "<tr><td>Total amount fund...</td><td>e3b0c44298fc1c149...</td><td>null</td><td>null</td><td>null</td><td>null</td><td>null</td><td>null</td><td>null</td><td>null</td><td>null</td><td>2024-05-14 10:35:...</td></tr>\n",
       "<tr><td>Total amount fund...</td><td>e3b0c44298fc1c149...</td><td>null</td><td>null</td><td>null</td><td>null</td><td>null</td><td>null</td><td>null</td><td>null</td><td>null</td><td>2024-05-14 10:35:...</td></tr>\n",
       "<tr><td>Total amount fund...</td><td>e3b0c44298fc1c149...</td><td>null</td><td>null</td><td>null</td><td>null</td><td>null</td><td>null</td><td>null</td><td>null</td><td>null</td><td>2024-05-14 10:35:...</td></tr>\n",
       "<tr><td>Total amount fund...</td><td>e3b0c44298fc1c149...</td><td>null</td><td>null</td><td>null</td><td>null</td><td>null</td><td>null</td><td>null</td><td>null</td><td>null</td><td>2024-05-14 10:35:...</td></tr>\n",
       "<tr><td>Total amount fund...</td><td>e3b0c44298fc1c149...</td><td>null</td><td>null</td><td>null</td><td>null</td><td>null</td><td>null</td><td>null</td><td>null</td><td>null</td><td>2024-05-14 10:35:...</td></tr>\n",
       "<tr><td>Total amount fund...</td><td>e3b0c44298fc1c149...</td><td>null</td><td>null</td><td>null</td><td>null</td><td>null</td><td>null</td><td>null</td><td>null</td><td>null</td><td>2024-05-14 10:35:...</td></tr>\n",
       "<tr><td>Total amount fund...</td><td>e3b0c44298fc1c149...</td><td>null</td><td>null</td><td>null</td><td>null</td><td>null</td><td>null</td><td>null</td><td>null</td><td>null</td><td>2024-05-14 10:35:...</td></tr>\n",
       "<tr><td>Total amount fund...</td><td>e3b0c44298fc1c149...</td><td>null</td><td>null</td><td>null</td><td>null</td><td>null</td><td>null</td><td>null</td><td>null</td><td>null</td><td>2024-05-14 10:35:...</td></tr>\n",
       "<tr><td>Total amount fund...</td><td>e3b0c44298fc1c149...</td><td>null</td><td>null</td><td>null</td><td>null</td><td>null</td><td>null</td><td>null</td><td>null</td><td>null</td><td>2024-05-14 10:35:...</td></tr>\n",
       "<tr><td>Total amount fund...</td><td>e3b0c44298fc1c149...</td><td>null</td><td>null</td><td>null</td><td>null</td><td>null</td><td>null</td><td>null</td><td>null</td><td>null</td><td>2024-05-14 10:35:...</td></tr>\n",
       "<tr><td>Total amount fund...</td><td>e3b0c44298fc1c149...</td><td>null</td><td>null</td><td>null</td><td>null</td><td>null</td><td>null</td><td>null</td><td>null</td><td>null</td><td>2024-05-14 10:35:...</td></tr>\n",
       "<tr><td>Total amount fund...</td><td>e3b0c44298fc1c149...</td><td>null</td><td>null</td><td>null</td><td>null</td><td>null</td><td>null</td><td>null</td><td>null</td><td>null</td><td>2024-05-14 10:35:...</td></tr>\n",
       "<tr><td>Total amount fund...</td><td>e3b0c44298fc1c149...</td><td>null</td><td>null</td><td>null</td><td>null</td><td>null</td><td>null</td><td>null</td><td>null</td><td>null</td><td>2024-05-14 10:35:...</td></tr>\n",
       "<tr><td>Total amount fund...</td><td>e3b0c44298fc1c149...</td><td>null</td><td>null</td><td>null</td><td>null</td><td>null</td><td>null</td><td>null</td><td>null</td><td>null</td><td>2024-05-14 10:35:...</td></tr>\n",
       "<tr><td>Total amount fund...</td><td>e3b0c44298fc1c149...</td><td>null</td><td>null</td><td>null</td><td>null</td><td>null</td><td>null</td><td>null</td><td>null</td><td>null</td><td>2024-05-14 10:35:...</td></tr>\n",
       "<tr><td>Total amount fund...</td><td>e3b0c44298fc1c149...</td><td>null</td><td>null</td><td>null</td><td>null</td><td>null</td><td>null</td><td>null</td><td>null</td><td>null</td><td>2024-05-14 10:35:...</td></tr>\n",
       "<tr><td>Total amount fund...</td><td>e3b0c44298fc1c149...</td><td>null</td><td>null</td><td>null</td><td>null</td><td>null</td><td>null</td><td>null</td><td>null</td><td>null</td><td>2024-05-14 10:35:...</td></tr>\n",
       "<tr><td>Total amount fund...</td><td>e3b0c44298fc1c149...</td><td>null</td><td>null</td><td>null</td><td>null</td><td>null</td><td>null</td><td>null</td><td>null</td><td>null</td><td>2024-05-14 10:35:...</td></tr>\n",
       "<tr><td>Total amount fund...</td><td>e3b0c44298fc1c149...</td><td>null</td><td>null</td><td>null</td><td>null</td><td>null</td><td>null</td><td>null</td><td>null</td><td>null</td><td>2024-05-14 10:35:...</td></tr>\n",
       "<tr><td>Total amount fund...</td><td>e3b0c44298fc1c149...</td><td>null</td><td>null</td><td>null</td><td>null</td><td>null</td><td>null</td><td>null</td><td>null</td><td>null</td><td>2024-05-14 10:35:...</td></tr>\n",
       "</table>\n",
       "only showing top 20 rows\n"
      ],
      "text/plain": [
       "+--------------------+--------------------+-----------+-------------+----------------+-------------+-------------------+----------+-----------+------------+----------+--------------------+\n",
       "|             loan_id|           member_id|loan_amount|funded_amount|loan_term_months|interest_rate|monthly_installment|issue_date|loan_status|loan_purpose|loan_title|         ingest_date|\n",
       "+--------------------+--------------------+-----------+-------------+----------------+-------------+-------------------+----------+-----------+------------+----------+--------------------+\n",
       "|Total amount fund...|e3b0c44298fc1c149...|       null|         null|            null|         null|               null|      null|       null|        null|      null|2024-05-14 10:35:...|\n",
       "|Total amount fund...|e3b0c44298fc1c149...|       null|         null|            null|         null|               null|      null|       null|        null|      null|2024-05-14 10:35:...|\n",
       "|Total amount fund...|e3b0c44298fc1c149...|       null|         null|            null|         null|               null|      null|       null|        null|      null|2024-05-14 10:35:...|\n",
       "|Total amount fund...|e3b0c44298fc1c149...|       null|         null|            null|         null|               null|      null|       null|        null|      null|2024-05-14 10:35:...|\n",
       "|Total amount fund...|e3b0c44298fc1c149...|       null|         null|            null|         null|               null|      null|       null|        null|      null|2024-05-14 10:35:...|\n",
       "|Total amount fund...|e3b0c44298fc1c149...|       null|         null|            null|         null|               null|      null|       null|        null|      null|2024-05-14 10:35:...|\n",
       "|Total amount fund...|e3b0c44298fc1c149...|       null|         null|            null|         null|               null|      null|       null|        null|      null|2024-05-14 10:35:...|\n",
       "|Total amount fund...|e3b0c44298fc1c149...|       null|         null|            null|         null|               null|      null|       null|        null|      null|2024-05-14 10:35:...|\n",
       "|Total amount fund...|e3b0c44298fc1c149...|       null|         null|            null|         null|               null|      null|       null|        null|      null|2024-05-14 10:35:...|\n",
       "|Total amount fund...|e3b0c44298fc1c149...|       null|         null|            null|         null|               null|      null|       null|        null|      null|2024-05-14 10:35:...|\n",
       "|Total amount fund...|e3b0c44298fc1c149...|       null|         null|            null|         null|               null|      null|       null|        null|      null|2024-05-14 10:35:...|\n",
       "|Total amount fund...|e3b0c44298fc1c149...|       null|         null|            null|         null|               null|      null|       null|        null|      null|2024-05-14 10:35:...|\n",
       "|Total amount fund...|e3b0c44298fc1c149...|       null|         null|            null|         null|               null|      null|       null|        null|      null|2024-05-14 10:35:...|\n",
       "|Total amount fund...|e3b0c44298fc1c149...|       null|         null|            null|         null|               null|      null|       null|        null|      null|2024-05-14 10:35:...|\n",
       "|Total amount fund...|e3b0c44298fc1c149...|       null|         null|            null|         null|               null|      null|       null|        null|      null|2024-05-14 10:35:...|\n",
       "|Total amount fund...|e3b0c44298fc1c149...|       null|         null|            null|         null|               null|      null|       null|        null|      null|2024-05-14 10:35:...|\n",
       "|Total amount fund...|e3b0c44298fc1c149...|       null|         null|            null|         null|               null|      null|       null|        null|      null|2024-05-14 10:35:...|\n",
       "|Total amount fund...|e3b0c44298fc1c149...|       null|         null|            null|         null|               null|      null|       null|        null|      null|2024-05-14 10:35:...|\n",
       "|Total amount fund...|e3b0c44298fc1c149...|       null|         null|            null|         null|               null|      null|       null|        null|      null|2024-05-14 10:35:...|\n",
       "|Total amount fund...|e3b0c44298fc1c149...|       null|         null|            null|         null|               null|      null|       null|        null|      null|2024-05-14 10:35:...|\n",
       "+--------------------+--------------------+-----------+-------------+----------------+-------------+-------------------+----------+-----------+------------+----------+--------------------+\n",
       "only showing top 20 rows"
      ]
     },
     "execution_count": 11,
     "metadata": {},
     "output_type": "execute_result"
    }
   ],
   "source": [
    "spark.sql(\"select * from loans where loan_amount is null\")"
   ]
  },
  {
   "cell_type": "code",
   "execution_count": 12,
   "id": "b2ac77cc",
   "metadata": {},
   "outputs": [],
   "source": [
    "columns_to_check = [\"loan_amount\",\"funded_amount\",\"loan_term_months\",\"interest_rate\",\"monthly_installment\",\"issue_date\",\"loan_status\",\"loan_purpose\"]"
   ]
  },
  {
   "cell_type": "code",
   "execution_count": 13,
   "id": "7d20713a",
   "metadata": {},
   "outputs": [],
   "source": [
    "loans_filtered_df = loans_df_ingestd.na.drop(subset = columns_to_check)"
   ]
  },
  {
   "cell_type": "code",
   "execution_count": 14,
   "id": "3c062aab",
   "metadata": {},
   "outputs": [
    {
     "data": {
      "text/plain": [
       "2260667"
      ]
     },
     "execution_count": 14,
     "metadata": {},
     "output_type": "execute_result"
    }
   ],
   "source": [
    "loans_filtered_df.count()"
   ]
  },
  {
   "cell_type": "code",
   "execution_count": 15,
   "id": "21fa44fc",
   "metadata": {},
   "outputs": [],
   "source": [
    "loans_filtered_df.createOrReplaceTempView(\"loans\")"
   ]
  },
  {
   "cell_type": "code",
   "execution_count": 16,
   "id": "6c3551b8",
   "metadata": {},
   "outputs": [
    {
     "data": {
      "text/html": [
       "<table border='1'>\n",
       "<tr><th>loan_id</th><th>member_id</th><th>loan_amount</th><th>funded_amount</th><th>loan_term_months</th><th>interest_rate</th><th>monthly_installment</th><th>issue_date</th><th>loan_status</th><th>loan_purpose</th><th>loan_title</th><th>ingest_date</th></tr>\n",
       "<tr><td>68407277</td><td>6d5091b3fcaaeb4ea...</td><td>3600.0</td><td>3600.0</td><td>36 months</td><td>13.99</td><td>123.03</td><td>Dec-2015</td><td>Fully Paid</td><td>debt_consolidation</td><td>Debt consolidation</td><td>2024-05-14 10:35:...</td></tr>\n",
       "<tr><td>68355089</td><td>b5e7938b0a2da4cea...</td><td>24700.0</td><td>24700.0</td><td>36 months</td><td>11.99</td><td>820.28</td><td>Dec-2015</td><td>Fully Paid</td><td>small_business</td><td>Business</td><td>2024-05-14 10:35:...</td></tr>\n",
       "<tr><td>68341763</td><td>91060b858433e8a61...</td><td>20000.0</td><td>20000.0</td><td>60 months</td><td>10.78</td><td>432.66</td><td>Dec-2015</td><td>Fully Paid</td><td>home_improvement</td><td>null</td><td>2024-05-14 10:35:...</td></tr>\n",
       "<tr><td>66310712</td><td>cab1fa9f533688b0a...</td><td>35000.0</td><td>35000.0</td><td>60 months</td><td>14.85</td><td>829.9</td><td>Dec-2015</td><td>Current</td><td>debt_consolidation</td><td>Debt consolidation</td><td>2024-05-14 10:35:...</td></tr>\n",
       "<tr><td>68476807</td><td>f74e401c1ab0adf78...</td><td>10400.0</td><td>10400.0</td><td>60 months</td><td>22.45</td><td>289.91</td><td>Dec-2015</td><td>Fully Paid</td><td>major_purchase</td><td>Major purchase</td><td>2024-05-14 10:35:...</td></tr>\n",
       "<tr><td>68426831</td><td>8aef4bb29d609d8d6...</td><td>11950.0</td><td>11950.0</td><td>36 months</td><td>13.44</td><td>405.18</td><td>Dec-2015</td><td>Fully Paid</td><td>debt_consolidation</td><td>Debt consolidation</td><td>2024-05-14 10:35:...</td></tr>\n",
       "<tr><td>68476668</td><td>538b4653da3b1e814...</td><td>20000.0</td><td>20000.0</td><td>36 months</td><td>9.17</td><td>637.58</td><td>Dec-2015</td><td>Fully Paid</td><td>debt_consolidation</td><td>Debt consolidation</td><td>2024-05-14 10:35:...</td></tr>\n",
       "<tr><td>67275481</td><td>b24d55f21390533c5...</td><td>20000.0</td><td>20000.0</td><td>36 months</td><td>8.49</td><td>631.26</td><td>Dec-2015</td><td>Fully Paid</td><td>major_purchase</td><td>Major purchase</td><td>2024-05-14 10:35:...</td></tr>\n",
       "<tr><td>68466926</td><td>1035c5401b0ca76d0...</td><td>10000.0</td><td>10000.0</td><td>36 months</td><td>6.49</td><td>306.45</td><td>Dec-2015</td><td>Fully Paid</td><td>credit_card</td><td>Credit card refin...</td><td>2024-05-14 10:35:...</td></tr>\n",
       "<tr><td>68616873</td><td>cb0f1777593e77909...</td><td>8000.0</td><td>8000.0</td><td>36 months</td><td>11.48</td><td>263.74</td><td>Dec-2015</td><td>Fully Paid</td><td>credit_card</td><td>Credit card refin...</td><td>2024-05-14 10:35:...</td></tr>\n",
       "<tr><td>68356421</td><td>a962f4d59caec5fa1...</td><td>22400.0</td><td>22400.0</td><td>60 months</td><td>12.88</td><td>508.3</td><td>Dec-2015</td><td>Current</td><td>debt_consolidation</td><td>Debt consolidation</td><td>2024-05-14 10:35:...</td></tr>\n",
       "<tr><td>68426545</td><td>e7592ab57b3afd9f1...</td><td>16000.0</td><td>16000.0</td><td>60 months</td><td>12.88</td><td>363.07</td><td>Dec-2015</td><td>Current</td><td>debt_consolidation</td><td>Debt consolidation</td><td>2024-05-14 10:35:...</td></tr>\n",
       "<tr><td>68338832</td><td>603afa9d1be879b7b...</td><td>1400.0</td><td>1400.0</td><td>36 months</td><td>12.88</td><td>47.1</td><td>Dec-2015</td><td>Fully Paid</td><td>other</td><td>null</td><td>2024-05-14 10:35:...</td></tr>\n",
       "<tr><td>66624733</td><td>9fe2d59ddf2a4f37e...</td><td>18000.0</td><td>18000.0</td><td>60 months</td><td>19.48</td><td>471.7</td><td>Dec-2015</td><td>Charged Off</td><td>debt_consolidation</td><td>Debt consolidation</td><td>2024-05-14 10:35:...</td></tr>\n",
       "<tr><td>68466961</td><td>23857480ccf555ce4...</td><td>28000.0</td><td>28000.0</td><td>36 months</td><td>6.49</td><td>858.05</td><td>Dec-2015</td><td>Fully Paid</td><td>debt_consolidation</td><td>Debt consolidation</td><td>2024-05-14 10:35:...</td></tr>\n",
       "<tr><td>68354783</td><td>7c69d5f36fdabf6e1...</td><td>9600.0</td><td>9600.0</td><td>36 months</td><td>7.49</td><td>298.58</td><td>Dec-2015</td><td>Fully Paid</td><td>credit_card</td><td>Credit card refin...</td><td>2024-05-14 10:35:...</td></tr>\n",
       "<tr><td>68466916</td><td>08bf9e080503b0113...</td><td>25000.0</td><td>25000.0</td><td>36 months</td><td>7.49</td><td>777.55</td><td>Dec-2015</td><td>Fully Paid</td><td>debt_consolidation</td><td>Debt consolidation</td><td>2024-05-14 10:35:...</td></tr>\n",
       "<tr><td>68577849</td><td>1cafb05aa6c894c30...</td><td>18000.0</td><td>18000.0</td><td>60 months</td><td>11.99</td><td>400.31</td><td>Dec-2015</td><td>Fully Paid</td><td>debt_consolidation</td><td>Debt consolidation</td><td>2024-05-14 10:35:...</td></tr>\n",
       "<tr><td>68506798</td><td>f2c4010f700d8c9c4...</td><td>23000.0</td><td>23000.0</td><td>60 months</td><td>8.49</td><td>471.77</td><td>Dec-2015</td><td>Current</td><td>credit_card</td><td>Credit card refin...</td><td>2024-05-14 10:35:...</td></tr>\n",
       "<tr><td>68495092</td><td>05ad4aed7c393035e...</td><td>8650.0</td><td>8650.0</td><td>36 months</td><td>19.89</td><td>320.99</td><td>Dec-2015</td><td>Fully Paid</td><td>debt_consolidation</td><td>Debt consolidation</td><td>2024-05-14 10:35:...</td></tr>\n",
       "</table>\n",
       "only showing top 20 rows\n"
      ],
      "text/plain": [
       "+--------+--------------------+-----------+-------------+----------------+-------------+-------------------+----------+-----------+------------------+--------------------+--------------------+\n",
       "| loan_id|           member_id|loan_amount|funded_amount|loan_term_months|interest_rate|monthly_installment|issue_date|loan_status|      loan_purpose|          loan_title|         ingest_date|\n",
       "+--------+--------------------+-----------+-------------+----------------+-------------+-------------------+----------+-----------+------------------+--------------------+--------------------+\n",
       "|68407277|6d5091b3fcaaeb4ea...|     3600.0|       3600.0|       36 months|        13.99|             123.03|  Dec-2015| Fully Paid|debt_consolidation|  Debt consolidation|2024-05-14 10:35:...|\n",
       "|68355089|b5e7938b0a2da4cea...|    24700.0|      24700.0|       36 months|        11.99|             820.28|  Dec-2015| Fully Paid|    small_business|            Business|2024-05-14 10:35:...|\n",
       "|68341763|91060b858433e8a61...|    20000.0|      20000.0|       60 months|        10.78|             432.66|  Dec-2015| Fully Paid|  home_improvement|                null|2024-05-14 10:35:...|\n",
       "|66310712|cab1fa9f533688b0a...|    35000.0|      35000.0|       60 months|        14.85|              829.9|  Dec-2015|    Current|debt_consolidation|  Debt consolidation|2024-05-14 10:35:...|\n",
       "|68476807|f74e401c1ab0adf78...|    10400.0|      10400.0|       60 months|        22.45|             289.91|  Dec-2015| Fully Paid|    major_purchase|      Major purchase|2024-05-14 10:35:...|\n",
       "|68426831|8aef4bb29d609d8d6...|    11950.0|      11950.0|       36 months|        13.44|             405.18|  Dec-2015| Fully Paid|debt_consolidation|  Debt consolidation|2024-05-14 10:35:...|\n",
       "|68476668|538b4653da3b1e814...|    20000.0|      20000.0|       36 months|         9.17|             637.58|  Dec-2015| Fully Paid|debt_consolidation|  Debt consolidation|2024-05-14 10:35:...|\n",
       "|67275481|b24d55f21390533c5...|    20000.0|      20000.0|       36 months|         8.49|             631.26|  Dec-2015| Fully Paid|    major_purchase|      Major purchase|2024-05-14 10:35:...|\n",
       "|68466926|1035c5401b0ca76d0...|    10000.0|      10000.0|       36 months|         6.49|             306.45|  Dec-2015| Fully Paid|       credit_card|Credit card refin...|2024-05-14 10:35:...|\n",
       "|68616873|cb0f1777593e77909...|     8000.0|       8000.0|       36 months|        11.48|             263.74|  Dec-2015| Fully Paid|       credit_card|Credit card refin...|2024-05-14 10:35:...|\n",
       "|68356421|a962f4d59caec5fa1...|    22400.0|      22400.0|       60 months|        12.88|              508.3|  Dec-2015|    Current|debt_consolidation|  Debt consolidation|2024-05-14 10:35:...|\n",
       "|68426545|e7592ab57b3afd9f1...|    16000.0|      16000.0|       60 months|        12.88|             363.07|  Dec-2015|    Current|debt_consolidation|  Debt consolidation|2024-05-14 10:35:...|\n",
       "|68338832|603afa9d1be879b7b...|     1400.0|       1400.0|       36 months|        12.88|               47.1|  Dec-2015| Fully Paid|             other|                null|2024-05-14 10:35:...|\n",
       "|66624733|9fe2d59ddf2a4f37e...|    18000.0|      18000.0|       60 months|        19.48|              471.7|  Dec-2015|Charged Off|debt_consolidation|  Debt consolidation|2024-05-14 10:35:...|\n",
       "|68466961|23857480ccf555ce4...|    28000.0|      28000.0|       36 months|         6.49|             858.05|  Dec-2015| Fully Paid|debt_consolidation|  Debt consolidation|2024-05-14 10:35:...|\n",
       "|68354783|7c69d5f36fdabf6e1...|     9600.0|       9600.0|       36 months|         7.49|             298.58|  Dec-2015| Fully Paid|       credit_card|Credit card refin...|2024-05-14 10:35:...|\n",
       "|68466916|08bf9e080503b0113...|    25000.0|      25000.0|       36 months|         7.49|             777.55|  Dec-2015| Fully Paid|debt_consolidation|  Debt consolidation|2024-05-14 10:35:...|\n",
       "|68577849|1cafb05aa6c894c30...|    18000.0|      18000.0|       60 months|        11.99|             400.31|  Dec-2015| Fully Paid|debt_consolidation|  Debt consolidation|2024-05-14 10:35:...|\n",
       "|68506798|f2c4010f700d8c9c4...|    23000.0|      23000.0|       60 months|         8.49|             471.77|  Dec-2015|    Current|       credit_card|Credit card refin...|2024-05-14 10:35:...|\n",
       "|68495092|05ad4aed7c393035e...|     8650.0|       8650.0|       36 months|        19.89|             320.99|  Dec-2015| Fully Paid|debt_consolidation|  Debt consolidation|2024-05-14 10:35:...|\n",
       "+--------+--------------------+-----------+-------------+----------------+-------------+-------------------+----------+-----------+------------------+--------------------+--------------------+\n",
       "only showing top 20 rows"
      ]
     },
     "execution_count": 16,
     "metadata": {},
     "output_type": "execute_result"
    }
   ],
   "source": [
    "loans_filtered_df"
   ]
  },
  {
   "cell_type": "code",
   "execution_count": 17,
   "id": "4b6d36f6",
   "metadata": {},
   "outputs": [],
   "source": [
    "from pyspark.sql.functions import regexp_replace, col"
   ]
  },
  {
   "cell_type": "code",
   "execution_count": 18,
   "id": "21e980bc",
   "metadata": {},
   "outputs": [],
   "source": [
    "loans_term_modified_df = loans_filtered_df.withColumn(\"loan_term_months\", (regexp_replace(col(\"loan_term_months\"), \"months\",\"\") \\\n",
    ".cast(\"int\") / 12) \\\n",
    ".cast(\"int\")) \\\n",
    ".withColumnRenamed(\"loan_term_months\",\"loan_term_years\")"
   ]
  },
  {
   "cell_type": "code",
   "execution_count": 19,
   "id": "88e65c61",
   "metadata": {},
   "outputs": [
    {
     "data": {
      "text/html": [
       "<table border='1'>\n",
       "<tr><th>loan_id</th><th>member_id</th><th>loan_amount</th><th>funded_amount</th><th>loan_term_years</th><th>interest_rate</th><th>monthly_installment</th><th>issue_date</th><th>loan_status</th><th>loan_purpose</th><th>loan_title</th><th>ingest_date</th></tr>\n",
       "<tr><td>68407277</td><td>6d5091b3fcaaeb4ea...</td><td>3600.0</td><td>3600.0</td><td>3</td><td>13.99</td><td>123.03</td><td>Dec-2015</td><td>Fully Paid</td><td>debt_consolidation</td><td>Debt consolidation</td><td>2024-05-14 10:35:...</td></tr>\n",
       "<tr><td>68355089</td><td>b5e7938b0a2da4cea...</td><td>24700.0</td><td>24700.0</td><td>3</td><td>11.99</td><td>820.28</td><td>Dec-2015</td><td>Fully Paid</td><td>small_business</td><td>Business</td><td>2024-05-14 10:35:...</td></tr>\n",
       "<tr><td>68341763</td><td>91060b858433e8a61...</td><td>20000.0</td><td>20000.0</td><td>5</td><td>10.78</td><td>432.66</td><td>Dec-2015</td><td>Fully Paid</td><td>home_improvement</td><td>null</td><td>2024-05-14 10:35:...</td></tr>\n",
       "<tr><td>66310712</td><td>cab1fa9f533688b0a...</td><td>35000.0</td><td>35000.0</td><td>5</td><td>14.85</td><td>829.9</td><td>Dec-2015</td><td>Current</td><td>debt_consolidation</td><td>Debt consolidation</td><td>2024-05-14 10:35:...</td></tr>\n",
       "<tr><td>68476807</td><td>f74e401c1ab0adf78...</td><td>10400.0</td><td>10400.0</td><td>5</td><td>22.45</td><td>289.91</td><td>Dec-2015</td><td>Fully Paid</td><td>major_purchase</td><td>Major purchase</td><td>2024-05-14 10:35:...</td></tr>\n",
       "<tr><td>68426831</td><td>8aef4bb29d609d8d6...</td><td>11950.0</td><td>11950.0</td><td>3</td><td>13.44</td><td>405.18</td><td>Dec-2015</td><td>Fully Paid</td><td>debt_consolidation</td><td>Debt consolidation</td><td>2024-05-14 10:35:...</td></tr>\n",
       "<tr><td>68476668</td><td>538b4653da3b1e814...</td><td>20000.0</td><td>20000.0</td><td>3</td><td>9.17</td><td>637.58</td><td>Dec-2015</td><td>Fully Paid</td><td>debt_consolidation</td><td>Debt consolidation</td><td>2024-05-14 10:35:...</td></tr>\n",
       "<tr><td>67275481</td><td>b24d55f21390533c5...</td><td>20000.0</td><td>20000.0</td><td>3</td><td>8.49</td><td>631.26</td><td>Dec-2015</td><td>Fully Paid</td><td>major_purchase</td><td>Major purchase</td><td>2024-05-14 10:35:...</td></tr>\n",
       "<tr><td>68466926</td><td>1035c5401b0ca76d0...</td><td>10000.0</td><td>10000.0</td><td>3</td><td>6.49</td><td>306.45</td><td>Dec-2015</td><td>Fully Paid</td><td>credit_card</td><td>Credit card refin...</td><td>2024-05-14 10:35:...</td></tr>\n",
       "<tr><td>68616873</td><td>cb0f1777593e77909...</td><td>8000.0</td><td>8000.0</td><td>3</td><td>11.48</td><td>263.74</td><td>Dec-2015</td><td>Fully Paid</td><td>credit_card</td><td>Credit card refin...</td><td>2024-05-14 10:35:...</td></tr>\n",
       "<tr><td>68356421</td><td>a962f4d59caec5fa1...</td><td>22400.0</td><td>22400.0</td><td>5</td><td>12.88</td><td>508.3</td><td>Dec-2015</td><td>Current</td><td>debt_consolidation</td><td>Debt consolidation</td><td>2024-05-14 10:35:...</td></tr>\n",
       "<tr><td>68426545</td><td>e7592ab57b3afd9f1...</td><td>16000.0</td><td>16000.0</td><td>5</td><td>12.88</td><td>363.07</td><td>Dec-2015</td><td>Current</td><td>debt_consolidation</td><td>Debt consolidation</td><td>2024-05-14 10:35:...</td></tr>\n",
       "<tr><td>68338832</td><td>603afa9d1be879b7b...</td><td>1400.0</td><td>1400.0</td><td>3</td><td>12.88</td><td>47.1</td><td>Dec-2015</td><td>Fully Paid</td><td>other</td><td>null</td><td>2024-05-14 10:35:...</td></tr>\n",
       "<tr><td>66624733</td><td>9fe2d59ddf2a4f37e...</td><td>18000.0</td><td>18000.0</td><td>5</td><td>19.48</td><td>471.7</td><td>Dec-2015</td><td>Charged Off</td><td>debt_consolidation</td><td>Debt consolidation</td><td>2024-05-14 10:35:...</td></tr>\n",
       "<tr><td>68466961</td><td>23857480ccf555ce4...</td><td>28000.0</td><td>28000.0</td><td>3</td><td>6.49</td><td>858.05</td><td>Dec-2015</td><td>Fully Paid</td><td>debt_consolidation</td><td>Debt consolidation</td><td>2024-05-14 10:35:...</td></tr>\n",
       "<tr><td>68354783</td><td>7c69d5f36fdabf6e1...</td><td>9600.0</td><td>9600.0</td><td>3</td><td>7.49</td><td>298.58</td><td>Dec-2015</td><td>Fully Paid</td><td>credit_card</td><td>Credit card refin...</td><td>2024-05-14 10:35:...</td></tr>\n",
       "<tr><td>68466916</td><td>08bf9e080503b0113...</td><td>25000.0</td><td>25000.0</td><td>3</td><td>7.49</td><td>777.55</td><td>Dec-2015</td><td>Fully Paid</td><td>debt_consolidation</td><td>Debt consolidation</td><td>2024-05-14 10:35:...</td></tr>\n",
       "<tr><td>68577849</td><td>1cafb05aa6c894c30...</td><td>18000.0</td><td>18000.0</td><td>5</td><td>11.99</td><td>400.31</td><td>Dec-2015</td><td>Fully Paid</td><td>debt_consolidation</td><td>Debt consolidation</td><td>2024-05-14 10:35:...</td></tr>\n",
       "<tr><td>68506798</td><td>f2c4010f700d8c9c4...</td><td>23000.0</td><td>23000.0</td><td>5</td><td>8.49</td><td>471.77</td><td>Dec-2015</td><td>Current</td><td>credit_card</td><td>Credit card refin...</td><td>2024-05-14 10:35:...</td></tr>\n",
       "<tr><td>68495092</td><td>05ad4aed7c393035e...</td><td>8650.0</td><td>8650.0</td><td>3</td><td>19.89</td><td>320.99</td><td>Dec-2015</td><td>Fully Paid</td><td>debt_consolidation</td><td>Debt consolidation</td><td>2024-05-14 10:35:...</td></tr>\n",
       "</table>\n",
       "only showing top 20 rows\n"
      ],
      "text/plain": [
       "+--------+--------------------+-----------+-------------+---------------+-------------+-------------------+----------+-----------+------------------+--------------------+--------------------+\n",
       "| loan_id|           member_id|loan_amount|funded_amount|loan_term_years|interest_rate|monthly_installment|issue_date|loan_status|      loan_purpose|          loan_title|         ingest_date|\n",
       "+--------+--------------------+-----------+-------------+---------------+-------------+-------------------+----------+-----------+------------------+--------------------+--------------------+\n",
       "|68407277|6d5091b3fcaaeb4ea...|     3600.0|       3600.0|              3|        13.99|             123.03|  Dec-2015| Fully Paid|debt_consolidation|  Debt consolidation|2024-05-14 10:35:...|\n",
       "|68355089|b5e7938b0a2da4cea...|    24700.0|      24700.0|              3|        11.99|             820.28|  Dec-2015| Fully Paid|    small_business|            Business|2024-05-14 10:35:...|\n",
       "|68341763|91060b858433e8a61...|    20000.0|      20000.0|              5|        10.78|             432.66|  Dec-2015| Fully Paid|  home_improvement|                null|2024-05-14 10:35:...|\n",
       "|66310712|cab1fa9f533688b0a...|    35000.0|      35000.0|              5|        14.85|              829.9|  Dec-2015|    Current|debt_consolidation|  Debt consolidation|2024-05-14 10:35:...|\n",
       "|68476807|f74e401c1ab0adf78...|    10400.0|      10400.0|              5|        22.45|             289.91|  Dec-2015| Fully Paid|    major_purchase|      Major purchase|2024-05-14 10:35:...|\n",
       "|68426831|8aef4bb29d609d8d6...|    11950.0|      11950.0|              3|        13.44|             405.18|  Dec-2015| Fully Paid|debt_consolidation|  Debt consolidation|2024-05-14 10:35:...|\n",
       "|68476668|538b4653da3b1e814...|    20000.0|      20000.0|              3|         9.17|             637.58|  Dec-2015| Fully Paid|debt_consolidation|  Debt consolidation|2024-05-14 10:35:...|\n",
       "|67275481|b24d55f21390533c5...|    20000.0|      20000.0|              3|         8.49|             631.26|  Dec-2015| Fully Paid|    major_purchase|      Major purchase|2024-05-14 10:35:...|\n",
       "|68466926|1035c5401b0ca76d0...|    10000.0|      10000.0|              3|         6.49|             306.45|  Dec-2015| Fully Paid|       credit_card|Credit card refin...|2024-05-14 10:35:...|\n",
       "|68616873|cb0f1777593e77909...|     8000.0|       8000.0|              3|        11.48|             263.74|  Dec-2015| Fully Paid|       credit_card|Credit card refin...|2024-05-14 10:35:...|\n",
       "|68356421|a962f4d59caec5fa1...|    22400.0|      22400.0|              5|        12.88|              508.3|  Dec-2015|    Current|debt_consolidation|  Debt consolidation|2024-05-14 10:35:...|\n",
       "|68426545|e7592ab57b3afd9f1...|    16000.0|      16000.0|              5|        12.88|             363.07|  Dec-2015|    Current|debt_consolidation|  Debt consolidation|2024-05-14 10:35:...|\n",
       "|68338832|603afa9d1be879b7b...|     1400.0|       1400.0|              3|        12.88|               47.1|  Dec-2015| Fully Paid|             other|                null|2024-05-14 10:35:...|\n",
       "|66624733|9fe2d59ddf2a4f37e...|    18000.0|      18000.0|              5|        19.48|              471.7|  Dec-2015|Charged Off|debt_consolidation|  Debt consolidation|2024-05-14 10:35:...|\n",
       "|68466961|23857480ccf555ce4...|    28000.0|      28000.0|              3|         6.49|             858.05|  Dec-2015| Fully Paid|debt_consolidation|  Debt consolidation|2024-05-14 10:35:...|\n",
       "|68354783|7c69d5f36fdabf6e1...|     9600.0|       9600.0|              3|         7.49|             298.58|  Dec-2015| Fully Paid|       credit_card|Credit card refin...|2024-05-14 10:35:...|\n",
       "|68466916|08bf9e080503b0113...|    25000.0|      25000.0|              3|         7.49|             777.55|  Dec-2015| Fully Paid|debt_consolidation|  Debt consolidation|2024-05-14 10:35:...|\n",
       "|68577849|1cafb05aa6c894c30...|    18000.0|      18000.0|              5|        11.99|             400.31|  Dec-2015| Fully Paid|debt_consolidation|  Debt consolidation|2024-05-14 10:35:...|\n",
       "|68506798|f2c4010f700d8c9c4...|    23000.0|      23000.0|              5|         8.49|             471.77|  Dec-2015|    Current|       credit_card|Credit card refin...|2024-05-14 10:35:...|\n",
       "|68495092|05ad4aed7c393035e...|     8650.0|       8650.0|              3|        19.89|             320.99|  Dec-2015| Fully Paid|debt_consolidation|  Debt consolidation|2024-05-14 10:35:...|\n",
       "+--------+--------------------+-----------+-------------+---------------+-------------+-------------------+----------+-----------+------------------+--------------------+--------------------+\n",
       "only showing top 20 rows"
      ]
     },
     "execution_count": 19,
     "metadata": {},
     "output_type": "execute_result"
    }
   ],
   "source": [
    "loans_term_modified_df"
   ]
  },
  {
   "cell_type": "code",
   "execution_count": 20,
   "id": "eb13f655",
   "metadata": {},
   "outputs": [
    {
     "name": "stdout",
     "output_type": "stream",
     "text": [
      "root\n",
      " |-- loan_id: string (nullable = true)\n",
      " |-- member_id: string (nullable = true)\n",
      " |-- loan_amount: float (nullable = true)\n",
      " |-- funded_amount: float (nullable = true)\n",
      " |-- loan_term_years: integer (nullable = true)\n",
      " |-- interest_rate: float (nullable = true)\n",
      " |-- monthly_installment: float (nullable = true)\n",
      " |-- issue_date: string (nullable = true)\n",
      " |-- loan_status: string (nullable = true)\n",
      " |-- loan_purpose: string (nullable = true)\n",
      " |-- loan_title: string (nullable = true)\n",
      " |-- ingest_date: timestamp (nullable = false)\n",
      "\n"
     ]
    }
   ],
   "source": [
    "loans_term_modified_df.printSchema()"
   ]
  },
  {
   "cell_type": "code",
   "execution_count": 21,
   "id": "66179c28",
   "metadata": {},
   "outputs": [],
   "source": [
    "loans_term_modified_df.createOrReplaceTempView(\"loans\")"
   ]
  },
  {
   "cell_type": "code",
   "execution_count": 22,
   "id": "af63522c",
   "metadata": {},
   "outputs": [
    {
     "data": {
      "text/html": [
       "<table border='1'>\n",
       "<tr><th>loan_id</th><th>member_id</th><th>loan_amount</th><th>funded_amount</th><th>loan_term_years</th><th>interest_rate</th><th>monthly_installment</th><th>issue_date</th><th>loan_status</th><th>loan_purpose</th><th>loan_title</th><th>ingest_date</th></tr>\n",
       "<tr><td>68407277</td><td>6d5091b3fcaaeb4ea...</td><td>3600.0</td><td>3600.0</td><td>3</td><td>13.99</td><td>123.03</td><td>Dec-2015</td><td>Fully Paid</td><td>debt_consolidation</td><td>Debt consolidation</td><td>2024-05-14 10:35:...</td></tr>\n",
       "<tr><td>68355089</td><td>b5e7938b0a2da4cea...</td><td>24700.0</td><td>24700.0</td><td>3</td><td>11.99</td><td>820.28</td><td>Dec-2015</td><td>Fully Paid</td><td>small_business</td><td>Business</td><td>2024-05-14 10:35:...</td></tr>\n",
       "<tr><td>68341763</td><td>91060b858433e8a61...</td><td>20000.0</td><td>20000.0</td><td>5</td><td>10.78</td><td>432.66</td><td>Dec-2015</td><td>Fully Paid</td><td>home_improvement</td><td>null</td><td>2024-05-14 10:35:...</td></tr>\n",
       "<tr><td>66310712</td><td>cab1fa9f533688b0a...</td><td>35000.0</td><td>35000.0</td><td>5</td><td>14.85</td><td>829.9</td><td>Dec-2015</td><td>Current</td><td>debt_consolidation</td><td>Debt consolidation</td><td>2024-05-14 10:35:...</td></tr>\n",
       "<tr><td>68476807</td><td>f74e401c1ab0adf78...</td><td>10400.0</td><td>10400.0</td><td>5</td><td>22.45</td><td>289.91</td><td>Dec-2015</td><td>Fully Paid</td><td>major_purchase</td><td>Major purchase</td><td>2024-05-14 10:35:...</td></tr>\n",
       "<tr><td>68426831</td><td>8aef4bb29d609d8d6...</td><td>11950.0</td><td>11950.0</td><td>3</td><td>13.44</td><td>405.18</td><td>Dec-2015</td><td>Fully Paid</td><td>debt_consolidation</td><td>Debt consolidation</td><td>2024-05-14 10:35:...</td></tr>\n",
       "<tr><td>68476668</td><td>538b4653da3b1e814...</td><td>20000.0</td><td>20000.0</td><td>3</td><td>9.17</td><td>637.58</td><td>Dec-2015</td><td>Fully Paid</td><td>debt_consolidation</td><td>Debt consolidation</td><td>2024-05-14 10:35:...</td></tr>\n",
       "<tr><td>67275481</td><td>b24d55f21390533c5...</td><td>20000.0</td><td>20000.0</td><td>3</td><td>8.49</td><td>631.26</td><td>Dec-2015</td><td>Fully Paid</td><td>major_purchase</td><td>Major purchase</td><td>2024-05-14 10:35:...</td></tr>\n",
       "<tr><td>68466926</td><td>1035c5401b0ca76d0...</td><td>10000.0</td><td>10000.0</td><td>3</td><td>6.49</td><td>306.45</td><td>Dec-2015</td><td>Fully Paid</td><td>credit_card</td><td>Credit card refin...</td><td>2024-05-14 10:35:...</td></tr>\n",
       "<tr><td>68616873</td><td>cb0f1777593e77909...</td><td>8000.0</td><td>8000.0</td><td>3</td><td>11.48</td><td>263.74</td><td>Dec-2015</td><td>Fully Paid</td><td>credit_card</td><td>Credit card refin...</td><td>2024-05-14 10:35:...</td></tr>\n",
       "<tr><td>68356421</td><td>a962f4d59caec5fa1...</td><td>22400.0</td><td>22400.0</td><td>5</td><td>12.88</td><td>508.3</td><td>Dec-2015</td><td>Current</td><td>debt_consolidation</td><td>Debt consolidation</td><td>2024-05-14 10:35:...</td></tr>\n",
       "<tr><td>68426545</td><td>e7592ab57b3afd9f1...</td><td>16000.0</td><td>16000.0</td><td>5</td><td>12.88</td><td>363.07</td><td>Dec-2015</td><td>Current</td><td>debt_consolidation</td><td>Debt consolidation</td><td>2024-05-14 10:35:...</td></tr>\n",
       "<tr><td>68338832</td><td>603afa9d1be879b7b...</td><td>1400.0</td><td>1400.0</td><td>3</td><td>12.88</td><td>47.1</td><td>Dec-2015</td><td>Fully Paid</td><td>other</td><td>null</td><td>2024-05-14 10:35:...</td></tr>\n",
       "<tr><td>66624733</td><td>9fe2d59ddf2a4f37e...</td><td>18000.0</td><td>18000.0</td><td>5</td><td>19.48</td><td>471.7</td><td>Dec-2015</td><td>Charged Off</td><td>debt_consolidation</td><td>Debt consolidation</td><td>2024-05-14 10:35:...</td></tr>\n",
       "<tr><td>68466961</td><td>23857480ccf555ce4...</td><td>28000.0</td><td>28000.0</td><td>3</td><td>6.49</td><td>858.05</td><td>Dec-2015</td><td>Fully Paid</td><td>debt_consolidation</td><td>Debt consolidation</td><td>2024-05-14 10:35:...</td></tr>\n",
       "<tr><td>68354783</td><td>7c69d5f36fdabf6e1...</td><td>9600.0</td><td>9600.0</td><td>3</td><td>7.49</td><td>298.58</td><td>Dec-2015</td><td>Fully Paid</td><td>credit_card</td><td>Credit card refin...</td><td>2024-05-14 10:35:...</td></tr>\n",
       "<tr><td>68466916</td><td>08bf9e080503b0113...</td><td>25000.0</td><td>25000.0</td><td>3</td><td>7.49</td><td>777.55</td><td>Dec-2015</td><td>Fully Paid</td><td>debt_consolidation</td><td>Debt consolidation</td><td>2024-05-14 10:35:...</td></tr>\n",
       "<tr><td>68577849</td><td>1cafb05aa6c894c30...</td><td>18000.0</td><td>18000.0</td><td>5</td><td>11.99</td><td>400.31</td><td>Dec-2015</td><td>Fully Paid</td><td>debt_consolidation</td><td>Debt consolidation</td><td>2024-05-14 10:35:...</td></tr>\n",
       "<tr><td>68506798</td><td>f2c4010f700d8c9c4...</td><td>23000.0</td><td>23000.0</td><td>5</td><td>8.49</td><td>471.77</td><td>Dec-2015</td><td>Current</td><td>credit_card</td><td>Credit card refin...</td><td>2024-05-14 10:35:...</td></tr>\n",
       "<tr><td>68495092</td><td>05ad4aed7c393035e...</td><td>8650.0</td><td>8650.0</td><td>3</td><td>19.89</td><td>320.99</td><td>Dec-2015</td><td>Fully Paid</td><td>debt_consolidation</td><td>Debt consolidation</td><td>2024-05-14 10:35:...</td></tr>\n",
       "</table>\n",
       "only showing top 20 rows\n"
      ],
      "text/plain": [
       "+--------+--------------------+-----------+-------------+---------------+-------------+-------------------+----------+-----------+------------------+--------------------+--------------------+\n",
       "| loan_id|           member_id|loan_amount|funded_amount|loan_term_years|interest_rate|monthly_installment|issue_date|loan_status|      loan_purpose|          loan_title|         ingest_date|\n",
       "+--------+--------------------+-----------+-------------+---------------+-------------+-------------------+----------+-----------+------------------+--------------------+--------------------+\n",
       "|68407277|6d5091b3fcaaeb4ea...|     3600.0|       3600.0|              3|        13.99|             123.03|  Dec-2015| Fully Paid|debt_consolidation|  Debt consolidation|2024-05-14 10:35:...|\n",
       "|68355089|b5e7938b0a2da4cea...|    24700.0|      24700.0|              3|        11.99|             820.28|  Dec-2015| Fully Paid|    small_business|            Business|2024-05-14 10:35:...|\n",
       "|68341763|91060b858433e8a61...|    20000.0|      20000.0|              5|        10.78|             432.66|  Dec-2015| Fully Paid|  home_improvement|                null|2024-05-14 10:35:...|\n",
       "|66310712|cab1fa9f533688b0a...|    35000.0|      35000.0|              5|        14.85|              829.9|  Dec-2015|    Current|debt_consolidation|  Debt consolidation|2024-05-14 10:35:...|\n",
       "|68476807|f74e401c1ab0adf78...|    10400.0|      10400.0|              5|        22.45|             289.91|  Dec-2015| Fully Paid|    major_purchase|      Major purchase|2024-05-14 10:35:...|\n",
       "|68426831|8aef4bb29d609d8d6...|    11950.0|      11950.0|              3|        13.44|             405.18|  Dec-2015| Fully Paid|debt_consolidation|  Debt consolidation|2024-05-14 10:35:...|\n",
       "|68476668|538b4653da3b1e814...|    20000.0|      20000.0|              3|         9.17|             637.58|  Dec-2015| Fully Paid|debt_consolidation|  Debt consolidation|2024-05-14 10:35:...|\n",
       "|67275481|b24d55f21390533c5...|    20000.0|      20000.0|              3|         8.49|             631.26|  Dec-2015| Fully Paid|    major_purchase|      Major purchase|2024-05-14 10:35:...|\n",
       "|68466926|1035c5401b0ca76d0...|    10000.0|      10000.0|              3|         6.49|             306.45|  Dec-2015| Fully Paid|       credit_card|Credit card refin...|2024-05-14 10:35:...|\n",
       "|68616873|cb0f1777593e77909...|     8000.0|       8000.0|              3|        11.48|             263.74|  Dec-2015| Fully Paid|       credit_card|Credit card refin...|2024-05-14 10:35:...|\n",
       "|68356421|a962f4d59caec5fa1...|    22400.0|      22400.0|              5|        12.88|              508.3|  Dec-2015|    Current|debt_consolidation|  Debt consolidation|2024-05-14 10:35:...|\n",
       "|68426545|e7592ab57b3afd9f1...|    16000.0|      16000.0|              5|        12.88|             363.07|  Dec-2015|    Current|debt_consolidation|  Debt consolidation|2024-05-14 10:35:...|\n",
       "|68338832|603afa9d1be879b7b...|     1400.0|       1400.0|              3|        12.88|               47.1|  Dec-2015| Fully Paid|             other|                null|2024-05-14 10:35:...|\n",
       "|66624733|9fe2d59ddf2a4f37e...|    18000.0|      18000.0|              5|        19.48|              471.7|  Dec-2015|Charged Off|debt_consolidation|  Debt consolidation|2024-05-14 10:35:...|\n",
       "|68466961|23857480ccf555ce4...|    28000.0|      28000.0|              3|         6.49|             858.05|  Dec-2015| Fully Paid|debt_consolidation|  Debt consolidation|2024-05-14 10:35:...|\n",
       "|68354783|7c69d5f36fdabf6e1...|     9600.0|       9600.0|              3|         7.49|             298.58|  Dec-2015| Fully Paid|       credit_card|Credit card refin...|2024-05-14 10:35:...|\n",
       "|68466916|08bf9e080503b0113...|    25000.0|      25000.0|              3|         7.49|             777.55|  Dec-2015| Fully Paid|debt_consolidation|  Debt consolidation|2024-05-14 10:35:...|\n",
       "|68577849|1cafb05aa6c894c30...|    18000.0|      18000.0|              5|        11.99|             400.31|  Dec-2015| Fully Paid|debt_consolidation|  Debt consolidation|2024-05-14 10:35:...|\n",
       "|68506798|f2c4010f700d8c9c4...|    23000.0|      23000.0|              5|         8.49|             471.77|  Dec-2015|    Current|       credit_card|Credit card refin...|2024-05-14 10:35:...|\n",
       "|68495092|05ad4aed7c393035e...|     8650.0|       8650.0|              3|        19.89|             320.99|  Dec-2015| Fully Paid|debt_consolidation|  Debt consolidation|2024-05-14 10:35:...|\n",
       "+--------+--------------------+-----------+-------------+---------------+-------------+-------------------+----------+-----------+------------------+--------------------+--------------------+\n",
       "only showing top 20 rows"
      ]
     },
     "execution_count": 22,
     "metadata": {},
     "output_type": "execute_result"
    }
   ],
   "source": [
    "spark.sql(\"select * from loans\")"
   ]
  },
  {
   "cell_type": "code",
   "execution_count": 23,
   "id": "c383c917",
   "metadata": {},
   "outputs": [
    {
     "data": {
      "text/html": [
       "<table border='1'>\n",
       "<tr><th>loan_purpose</th></tr>\n",
       "<tr><td>guaranteed!&quot;</td></tr>\n",
       "<tr><td>and if they are a...</td></tr>\n",
       "<tr><td>never had any tro...</td></tr>\n",
       "<tr><td>&lt;br/&gt;&lt;br/&gt;Lending...</td></tr>\n",
       "<tr><td>Bank of America c...</td></tr>\n",
       "<tr><td>stocks</td></tr>\n",
       "<tr><td>please feel free ...</td></tr>\n",
       "<tr><td>I became his prim...</td></tr>\n",
       "<tr><td>brakes</td></tr>\n",
       "<tr><td>on one of the bus...</td></tr>\n",
       "<tr><td>because of the na...</td></tr>\n",
       "<tr><td>progressive multi...</td></tr>\n",
       "<tr><td>but not much info...</td></tr>\n",
       "<tr><td>I have eliminated...</td></tr>\n",
       "<tr><td>TutoringOne is a ...</td></tr>\n",
       "<tr><td>so I have to pay ...</td></tr>\n",
       "<tr><td>you may feel conf...</td></tr>\n",
       "<tr><td>Hilal Khalil Homa...</td></tr>\n",
       "<tr><td>000 in debt on cr...</td></tr>\n",
       "<tr><td>and the monthly p...</td></tr>\n",
       "</table>\n",
       "only showing top 20 rows\n"
      ],
      "text/plain": [
       "+--------------------+\n",
       "|        loan_purpose|\n",
       "+--------------------+\n",
       "|        guaranteed!\"|\n",
       "|and if they are a...|\n",
       "|never had any tro...|\n",
       "|Bank of America c...|\n",
       "|<br/><br/>Lending...|\n",
       "|              stocks|\n",
       "|please feel free ...|\n",
       "|I became his prim...|\n",
       "|              brakes|\n",
       "|on one of the bus...|\n",
       "|because of the na...|\n",
       "|progressive multi...|\n",
       "|but not much info...|\n",
       "|I have eliminated...|\n",
       "|TutoringOne is a ...|\n",
       "|you may feel conf...|\n",
       "|so I have to pay ...|\n",
       "|Hilal Khalil Homa...|\n",
       "|000 in debt on cr...|\n",
       "|and the monthly p...|\n",
       "+--------------------+\n",
       "only showing top 20 rows"
      ]
     },
     "execution_count": 23,
     "metadata": {},
     "output_type": "execute_result"
    }
   ],
   "source": [
    "spark.sql(\"select distinct(loan_purpose) from loans\")"
   ]
  },
  {
   "cell_type": "code",
   "execution_count": 24,
   "id": "e499b0a7",
   "metadata": {},
   "outputs": [
    {
     "data": {
      "text/html": [
       "<table border='1'>\n",
       "<tr><th>loan_purpose</th><th>total</th></tr>\n",
       "<tr><td>debt_consolidation</td><td>1277790</td></tr>\n",
       "<tr><td>credit_card</td><td>516926</td></tr>\n",
       "<tr><td>home_improvement</td><td>150440</td></tr>\n",
       "<tr><td>other</td><td>139413</td></tr>\n",
       "<tr><td>major_purchase</td><td>50429</td></tr>\n",
       "<tr><td>medical</td><td>27481</td></tr>\n",
       "<tr><td>small_business</td><td>24659</td></tr>\n",
       "<tr><td>car</td><td>24009</td></tr>\n",
       "<tr><td>vacation</td><td>15525</td></tr>\n",
       "<tr><td>moving</td><td>15402</td></tr>\n",
       "<tr><td>house</td><td>14131</td></tr>\n",
       "<tr><td>wedding</td><td>2351</td></tr>\n",
       "<tr><td>renewable_energy</td><td>1445</td></tr>\n",
       "<tr><td>educational</td><td>412</td></tr>\n",
       "<tr><td>but we cant all b...</td><td>1</td></tr>\n",
       "<tr><td>TutoringOne is a ...</td><td>1</td></tr>\n",
       "<tr><td>guaranteed!&quot;</td><td>1</td></tr>\n",
       "<tr><td>stocks</td><td>1</td></tr>\n",
       "<tr><td>I became his prim...</td><td>1</td></tr>\n",
       "<tr><td>but I&#x27;ve still go...</td><td>1</td></tr>\n",
       "</table>\n",
       "only showing top 20 rows\n"
      ],
      "text/plain": [
       "+--------------------+-------+\n",
       "|        loan_purpose|  total|\n",
       "+--------------------+-------+\n",
       "|  debt_consolidation|1277790|\n",
       "|         credit_card| 516926|\n",
       "|    home_improvement| 150440|\n",
       "|               other| 139413|\n",
       "|      major_purchase|  50429|\n",
       "|             medical|  27481|\n",
       "|      small_business|  24659|\n",
       "|                 car|  24009|\n",
       "|            vacation|  15525|\n",
       "|              moving|  15402|\n",
       "|               house|  14131|\n",
       "|             wedding|   2351|\n",
       "|    renewable_energy|   1445|\n",
       "|         educational|    412|\n",
       "|but we cant all b...|      1|\n",
       "|and if they are a...|      1|\n",
       "|Bank of America c...|      1|\n",
       "|but I've still go...|      1|\n",
       "|<br/><br/>Lending...|      1|\n",
       "|I became his prim...|      1|\n",
       "+--------------------+-------+\n",
       "only showing top 20 rows"
      ]
     },
     "execution_count": 24,
     "metadata": {},
     "output_type": "execute_result"
    }
   ],
   "source": [
    "spark.sql(\"select loan_purpose, count(*) as total from loans group by loan_purpose order by total desc\")"
   ]
  },
  {
   "cell_type": "code",
   "execution_count": 25,
   "id": "bdfec699",
   "metadata": {},
   "outputs": [],
   "source": [
    "loan_purpose_lookup = [\"debt_consolidation\", \"credit_card\", \"home_improvement\",\"other\",\"major_purchase\",\"medical\",\"small_business\",\"car\",\"vacation\",\"moving\",\"house\",\"wedding\",\"renewable_energy\",\"educational\"]"
   ]
  },
  {
   "cell_type": "code",
   "execution_count": 26,
   "id": "a0fb3529",
   "metadata": {},
   "outputs": [],
   "source": [
    "from pyspark.sql.functions import when"
   ]
  },
  {
   "cell_type": "code",
   "execution_count": 27,
   "id": "446b825d",
   "metadata": {},
   "outputs": [],
   "source": [
    "loans_purpose_modified = loans_term_modified_df.withColumn(\"loan_purpose\", when(col(\"loan_purpose\").isin(loan_purpose_lookup), col(\"loan_purpose\")).otherwise(\"other\"))"
   ]
  },
  {
   "cell_type": "code",
   "execution_count": 28,
   "id": "98ec036f",
   "metadata": {},
   "outputs": [
    {
     "data": {
      "text/html": [
       "<table border='1'>\n",
       "<tr><th>loan_id</th><th>member_id</th><th>loan_amount</th><th>funded_amount</th><th>loan_term_years</th><th>interest_rate</th><th>monthly_installment</th><th>issue_date</th><th>loan_status</th><th>loan_purpose</th><th>loan_title</th><th>ingest_date</th></tr>\n",
       "<tr><td>68407277</td><td>6d5091b3fcaaeb4ea...</td><td>3600.0</td><td>3600.0</td><td>3</td><td>13.99</td><td>123.03</td><td>Dec-2015</td><td>Fully Paid</td><td>debt_consolidation</td><td>Debt consolidation</td><td>2024-05-14 10:35:...</td></tr>\n",
       "<tr><td>68355089</td><td>b5e7938b0a2da4cea...</td><td>24700.0</td><td>24700.0</td><td>3</td><td>11.99</td><td>820.28</td><td>Dec-2015</td><td>Fully Paid</td><td>small_business</td><td>Business</td><td>2024-05-14 10:35:...</td></tr>\n",
       "<tr><td>68341763</td><td>91060b858433e8a61...</td><td>20000.0</td><td>20000.0</td><td>5</td><td>10.78</td><td>432.66</td><td>Dec-2015</td><td>Fully Paid</td><td>home_improvement</td><td>null</td><td>2024-05-14 10:35:...</td></tr>\n",
       "<tr><td>66310712</td><td>cab1fa9f533688b0a...</td><td>35000.0</td><td>35000.0</td><td>5</td><td>14.85</td><td>829.9</td><td>Dec-2015</td><td>Current</td><td>debt_consolidation</td><td>Debt consolidation</td><td>2024-05-14 10:35:...</td></tr>\n",
       "<tr><td>68476807</td><td>f74e401c1ab0adf78...</td><td>10400.0</td><td>10400.0</td><td>5</td><td>22.45</td><td>289.91</td><td>Dec-2015</td><td>Fully Paid</td><td>major_purchase</td><td>Major purchase</td><td>2024-05-14 10:35:...</td></tr>\n",
       "<tr><td>68426831</td><td>8aef4bb29d609d8d6...</td><td>11950.0</td><td>11950.0</td><td>3</td><td>13.44</td><td>405.18</td><td>Dec-2015</td><td>Fully Paid</td><td>debt_consolidation</td><td>Debt consolidation</td><td>2024-05-14 10:35:...</td></tr>\n",
       "<tr><td>68476668</td><td>538b4653da3b1e814...</td><td>20000.0</td><td>20000.0</td><td>3</td><td>9.17</td><td>637.58</td><td>Dec-2015</td><td>Fully Paid</td><td>debt_consolidation</td><td>Debt consolidation</td><td>2024-05-14 10:35:...</td></tr>\n",
       "<tr><td>67275481</td><td>b24d55f21390533c5...</td><td>20000.0</td><td>20000.0</td><td>3</td><td>8.49</td><td>631.26</td><td>Dec-2015</td><td>Fully Paid</td><td>major_purchase</td><td>Major purchase</td><td>2024-05-14 10:35:...</td></tr>\n",
       "<tr><td>68466926</td><td>1035c5401b0ca76d0...</td><td>10000.0</td><td>10000.0</td><td>3</td><td>6.49</td><td>306.45</td><td>Dec-2015</td><td>Fully Paid</td><td>credit_card</td><td>Credit card refin...</td><td>2024-05-14 10:35:...</td></tr>\n",
       "<tr><td>68616873</td><td>cb0f1777593e77909...</td><td>8000.0</td><td>8000.0</td><td>3</td><td>11.48</td><td>263.74</td><td>Dec-2015</td><td>Fully Paid</td><td>credit_card</td><td>Credit card refin...</td><td>2024-05-14 10:35:...</td></tr>\n",
       "<tr><td>68356421</td><td>a962f4d59caec5fa1...</td><td>22400.0</td><td>22400.0</td><td>5</td><td>12.88</td><td>508.3</td><td>Dec-2015</td><td>Current</td><td>debt_consolidation</td><td>Debt consolidation</td><td>2024-05-14 10:35:...</td></tr>\n",
       "<tr><td>68426545</td><td>e7592ab57b3afd9f1...</td><td>16000.0</td><td>16000.0</td><td>5</td><td>12.88</td><td>363.07</td><td>Dec-2015</td><td>Current</td><td>debt_consolidation</td><td>Debt consolidation</td><td>2024-05-14 10:35:...</td></tr>\n",
       "<tr><td>68338832</td><td>603afa9d1be879b7b...</td><td>1400.0</td><td>1400.0</td><td>3</td><td>12.88</td><td>47.1</td><td>Dec-2015</td><td>Fully Paid</td><td>other</td><td>null</td><td>2024-05-14 10:35:...</td></tr>\n",
       "<tr><td>66624733</td><td>9fe2d59ddf2a4f37e...</td><td>18000.0</td><td>18000.0</td><td>5</td><td>19.48</td><td>471.7</td><td>Dec-2015</td><td>Charged Off</td><td>debt_consolidation</td><td>Debt consolidation</td><td>2024-05-14 10:35:...</td></tr>\n",
       "<tr><td>68466961</td><td>23857480ccf555ce4...</td><td>28000.0</td><td>28000.0</td><td>3</td><td>6.49</td><td>858.05</td><td>Dec-2015</td><td>Fully Paid</td><td>debt_consolidation</td><td>Debt consolidation</td><td>2024-05-14 10:35:...</td></tr>\n",
       "<tr><td>68354783</td><td>7c69d5f36fdabf6e1...</td><td>9600.0</td><td>9600.0</td><td>3</td><td>7.49</td><td>298.58</td><td>Dec-2015</td><td>Fully Paid</td><td>credit_card</td><td>Credit card refin...</td><td>2024-05-14 10:35:...</td></tr>\n",
       "<tr><td>68466916</td><td>08bf9e080503b0113...</td><td>25000.0</td><td>25000.0</td><td>3</td><td>7.49</td><td>777.55</td><td>Dec-2015</td><td>Fully Paid</td><td>debt_consolidation</td><td>Debt consolidation</td><td>2024-05-14 10:35:...</td></tr>\n",
       "<tr><td>68577849</td><td>1cafb05aa6c894c30...</td><td>18000.0</td><td>18000.0</td><td>5</td><td>11.99</td><td>400.31</td><td>Dec-2015</td><td>Fully Paid</td><td>debt_consolidation</td><td>Debt consolidation</td><td>2024-05-14 10:35:...</td></tr>\n",
       "<tr><td>68506798</td><td>f2c4010f700d8c9c4...</td><td>23000.0</td><td>23000.0</td><td>5</td><td>8.49</td><td>471.77</td><td>Dec-2015</td><td>Current</td><td>credit_card</td><td>Credit card refin...</td><td>2024-05-14 10:35:...</td></tr>\n",
       "<tr><td>68495092</td><td>05ad4aed7c393035e...</td><td>8650.0</td><td>8650.0</td><td>3</td><td>19.89</td><td>320.99</td><td>Dec-2015</td><td>Fully Paid</td><td>debt_consolidation</td><td>Debt consolidation</td><td>2024-05-14 10:35:...</td></tr>\n",
       "</table>\n",
       "only showing top 20 rows\n"
      ],
      "text/plain": [
       "+--------+--------------------+-----------+-------------+---------------+-------------+-------------------+----------+-----------+------------------+--------------------+--------------------+\n",
       "| loan_id|           member_id|loan_amount|funded_amount|loan_term_years|interest_rate|monthly_installment|issue_date|loan_status|      loan_purpose|          loan_title|         ingest_date|\n",
       "+--------+--------------------+-----------+-------------+---------------+-------------+-------------------+----------+-----------+------------------+--------------------+--------------------+\n",
       "|68407277|6d5091b3fcaaeb4ea...|     3600.0|       3600.0|              3|        13.99|             123.03|  Dec-2015| Fully Paid|debt_consolidation|  Debt consolidation|2024-05-14 10:35:...|\n",
       "|68355089|b5e7938b0a2da4cea...|    24700.0|      24700.0|              3|        11.99|             820.28|  Dec-2015| Fully Paid|    small_business|            Business|2024-05-14 10:35:...|\n",
       "|68341763|91060b858433e8a61...|    20000.0|      20000.0|              5|        10.78|             432.66|  Dec-2015| Fully Paid|  home_improvement|                null|2024-05-14 10:35:...|\n",
       "|66310712|cab1fa9f533688b0a...|    35000.0|      35000.0|              5|        14.85|              829.9|  Dec-2015|    Current|debt_consolidation|  Debt consolidation|2024-05-14 10:35:...|\n",
       "|68476807|f74e401c1ab0adf78...|    10400.0|      10400.0|              5|        22.45|             289.91|  Dec-2015| Fully Paid|    major_purchase|      Major purchase|2024-05-14 10:35:...|\n",
       "|68426831|8aef4bb29d609d8d6...|    11950.0|      11950.0|              3|        13.44|             405.18|  Dec-2015| Fully Paid|debt_consolidation|  Debt consolidation|2024-05-14 10:35:...|\n",
       "|68476668|538b4653da3b1e814...|    20000.0|      20000.0|              3|         9.17|             637.58|  Dec-2015| Fully Paid|debt_consolidation|  Debt consolidation|2024-05-14 10:35:...|\n",
       "|67275481|b24d55f21390533c5...|    20000.0|      20000.0|              3|         8.49|             631.26|  Dec-2015| Fully Paid|    major_purchase|      Major purchase|2024-05-14 10:35:...|\n",
       "|68466926|1035c5401b0ca76d0...|    10000.0|      10000.0|              3|         6.49|             306.45|  Dec-2015| Fully Paid|       credit_card|Credit card refin...|2024-05-14 10:35:...|\n",
       "|68616873|cb0f1777593e77909...|     8000.0|       8000.0|              3|        11.48|             263.74|  Dec-2015| Fully Paid|       credit_card|Credit card refin...|2024-05-14 10:35:...|\n",
       "|68356421|a962f4d59caec5fa1...|    22400.0|      22400.0|              5|        12.88|              508.3|  Dec-2015|    Current|debt_consolidation|  Debt consolidation|2024-05-14 10:35:...|\n",
       "|68426545|e7592ab57b3afd9f1...|    16000.0|      16000.0|              5|        12.88|             363.07|  Dec-2015|    Current|debt_consolidation|  Debt consolidation|2024-05-14 10:35:...|\n",
       "|68338832|603afa9d1be879b7b...|     1400.0|       1400.0|              3|        12.88|               47.1|  Dec-2015| Fully Paid|             other|                null|2024-05-14 10:35:...|\n",
       "|66624733|9fe2d59ddf2a4f37e...|    18000.0|      18000.0|              5|        19.48|              471.7|  Dec-2015|Charged Off|debt_consolidation|  Debt consolidation|2024-05-14 10:35:...|\n",
       "|68466961|23857480ccf555ce4...|    28000.0|      28000.0|              3|         6.49|             858.05|  Dec-2015| Fully Paid|debt_consolidation|  Debt consolidation|2024-05-14 10:35:...|\n",
       "|68354783|7c69d5f36fdabf6e1...|     9600.0|       9600.0|              3|         7.49|             298.58|  Dec-2015| Fully Paid|       credit_card|Credit card refin...|2024-05-14 10:35:...|\n",
       "|68466916|08bf9e080503b0113...|    25000.0|      25000.0|              3|         7.49|             777.55|  Dec-2015| Fully Paid|debt_consolidation|  Debt consolidation|2024-05-14 10:35:...|\n",
       "|68577849|1cafb05aa6c894c30...|    18000.0|      18000.0|              5|        11.99|             400.31|  Dec-2015| Fully Paid|debt_consolidation|  Debt consolidation|2024-05-14 10:35:...|\n",
       "|68506798|f2c4010f700d8c9c4...|    23000.0|      23000.0|              5|         8.49|             471.77|  Dec-2015|    Current|       credit_card|Credit card refin...|2024-05-14 10:35:...|\n",
       "|68495092|05ad4aed7c393035e...|     8650.0|       8650.0|              3|        19.89|             320.99|  Dec-2015| Fully Paid|debt_consolidation|  Debt consolidation|2024-05-14 10:35:...|\n",
       "+--------+--------------------+-----------+-------------+---------------+-------------+-------------------+----------+-----------+------------------+--------------------+--------------------+\n",
       "only showing top 20 rows"
      ]
     },
     "execution_count": 28,
     "metadata": {},
     "output_type": "execute_result"
    }
   ],
   "source": [
    "loans_purpose_modified"
   ]
  },
  {
   "cell_type": "code",
   "execution_count": 29,
   "id": "f51a6976",
   "metadata": {},
   "outputs": [],
   "source": [
    "loans_purpose_modified.createOrReplaceTempView(\"loans\")"
   ]
  },
  {
   "cell_type": "code",
   "execution_count": 30,
   "id": "ff33a8f7",
   "metadata": {},
   "outputs": [
    {
     "data": {
      "text/html": [
       "<table border='1'>\n",
       "<tr><th>loan_purpose</th><th>total</th></tr>\n",
       "<tr><td>debt_consolidation</td><td>1277790</td></tr>\n",
       "<tr><td>credit_card</td><td>516926</td></tr>\n",
       "<tr><td>home_improvement</td><td>150440</td></tr>\n",
       "<tr><td>other</td><td>139667</td></tr>\n",
       "<tr><td>major_purchase</td><td>50429</td></tr>\n",
       "<tr><td>medical</td><td>27481</td></tr>\n",
       "<tr><td>small_business</td><td>24659</td></tr>\n",
       "<tr><td>car</td><td>24009</td></tr>\n",
       "<tr><td>vacation</td><td>15525</td></tr>\n",
       "<tr><td>moving</td><td>15402</td></tr>\n",
       "<tr><td>house</td><td>14131</td></tr>\n",
       "<tr><td>wedding</td><td>2351</td></tr>\n",
       "<tr><td>renewable_energy</td><td>1445</td></tr>\n",
       "<tr><td>educational</td><td>412</td></tr>\n",
       "</table>\n"
      ],
      "text/plain": [
       "+------------------+-------+\n",
       "|      loan_purpose|  total|\n",
       "+------------------+-------+\n",
       "|debt_consolidation|1277790|\n",
       "|       credit_card| 516926|\n",
       "|  home_improvement| 150440|\n",
       "|             other| 139667|\n",
       "|    major_purchase|  50429|\n",
       "|           medical|  27481|\n",
       "|    small_business|  24659|\n",
       "|               car|  24009|\n",
       "|          vacation|  15525|\n",
       "|            moving|  15402|\n",
       "|             house|  14131|\n",
       "|           wedding|   2351|\n",
       "|  renewable_energy|   1445|\n",
       "|       educational|    412|\n",
       "+------------------+-------+"
      ]
     },
     "execution_count": 30,
     "metadata": {},
     "output_type": "execute_result"
    }
   ],
   "source": [
    "spark.sql(\"select loan_purpose, count(*) as total from loans group by loan_purpose order by total desc\")"
   ]
  },
  {
   "cell_type": "code",
   "execution_count": 31,
   "id": "e915f239",
   "metadata": {},
   "outputs": [],
   "source": [
    "from pyspark.sql.functions import count"
   ]
  },
  {
   "cell_type": "code",
   "execution_count": 32,
   "id": "e4364761",
   "metadata": {},
   "outputs": [
    {
     "data": {
      "text/html": [
       "<table border='1'>\n",
       "<tr><th>loan_purpose</th><th>total</th></tr>\n",
       "<tr><td>debt_consolidation</td><td>1277790</td></tr>\n",
       "<tr><td>credit_card</td><td>516926</td></tr>\n",
       "<tr><td>home_improvement</td><td>150440</td></tr>\n",
       "<tr><td>other</td><td>139667</td></tr>\n",
       "<tr><td>major_purchase</td><td>50429</td></tr>\n",
       "<tr><td>medical</td><td>27481</td></tr>\n",
       "<tr><td>small_business</td><td>24659</td></tr>\n",
       "<tr><td>car</td><td>24009</td></tr>\n",
       "<tr><td>vacation</td><td>15525</td></tr>\n",
       "<tr><td>moving</td><td>15402</td></tr>\n",
       "<tr><td>house</td><td>14131</td></tr>\n",
       "<tr><td>wedding</td><td>2351</td></tr>\n",
       "<tr><td>renewable_energy</td><td>1445</td></tr>\n",
       "<tr><td>educational</td><td>412</td></tr>\n",
       "</table>\n"
      ],
      "text/plain": [
       "+------------------+-------+\n",
       "|      loan_purpose|  total|\n",
       "+------------------+-------+\n",
       "|debt_consolidation|1277790|\n",
       "|       credit_card| 516926|\n",
       "|  home_improvement| 150440|\n",
       "|             other| 139667|\n",
       "|    major_purchase|  50429|\n",
       "|           medical|  27481|\n",
       "|    small_business|  24659|\n",
       "|               car|  24009|\n",
       "|          vacation|  15525|\n",
       "|            moving|  15402|\n",
       "|             house|  14131|\n",
       "|           wedding|   2351|\n",
       "|  renewable_energy|   1445|\n",
       "|       educational|    412|\n",
       "+------------------+-------+"
      ]
     },
     "execution_count": 32,
     "metadata": {},
     "output_type": "execute_result"
    }
   ],
   "source": [
    "loans_purpose_modified \\\n",
    ".groupBy(\"loan_purpose\") \\\n",
    ".agg(count(\"*\") \\\n",
    ".alias(\"total\")) \\\n",
    ".orderBy(col(\"total\").desc())"
   ]
  },
  {
   "cell_type": "code",
   "execution_count": 33,
   "id": "7e653aa5",
   "metadata": {},
   "outputs": [],
   "source": [
    "loans_purpose_modified.write \\\n",
    ".option(\"header\", True) \\\n",
    ".format(\"csv\") \\\n",
    ".mode(\"overwrite\") \\\n",
    ".option(\"path\", \"/user/itv010110/lendingclubprojectJ/cleaned/loans_csv\") \\\n",
    ".save()"
   ]
  },
  {
   "cell_type": "code",
   "execution_count": 34,
   "id": "7c7ed04e",
   "metadata": {},
   "outputs": [],
   "source": [
    "loans_purpose_modified.write \\\n",
    ".option(\"header\", True) \\\n",
    ".format(\"csv\") \\\n",
    ".mode(\"overwrite\") \\\n",
    ".option(\"path\", \"/user/itv010110/lendingclubprojectJ/cleaned/loans_parquet\") \\\n",
    ".save()"
   ]
  },
  {
   "cell_type": "code",
   "execution_count": null,
   "id": "cc0af50a",
   "metadata": {},
   "outputs": [],
   "source": []
  }
 ],
 "metadata": {
  "kernelspec": {
   "display_name": "Pyspark 3",
   "language": "python",
   "name": "pyspark3"
  },
  "language_info": {
   "codemirror_mode": {
    "name": "ipython",
    "version": 3
   },
   "file_extension": ".py",
   "mimetype": "text/x-python",
   "name": "python",
   "nbconvert_exporter": "python",
   "pygments_lexer": "ipython3",
   "version": "3.6.12"
  }
 },
 "nbformat": 4,
 "nbformat_minor": 5
}
